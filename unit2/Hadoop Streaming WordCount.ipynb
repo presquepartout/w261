{
 "cells": [
  {
   "cell_type": "markdown",
   "metadata": {},
   "source": [
    "#DATASCI W261: Machine Learning at Scale"
   ]
  },
  {
   "cell_type": "markdown",
   "metadata": {},
   "source": [
    "#This notebook shows a Hadoop MapReduce job of WordCount."
   ]
  },
  {
   "cell_type": "markdown",
   "metadata": {},
   "source": [
    "##Data"
   ]
  },
  {
   "cell_type": "code",
   "execution_count": 3,
   "metadata": {
    "collapsed": false
   },
   "outputs": [
    {
     "name": "stdout",
     "output_type": "stream",
     "text": [
      "Overwriting wordcount.txt\n"
     ]
    }
   ],
   "source": [
    "%%writefile wordcount.txt\n",
    "hello hi hi hallo\n",
    "bonjour hola hi ciao\n",
    "nihao konnichiwa ola\n",
    "hola nihao hello"
   ]
  },
  {
   "cell_type": "markdown",
   "metadata": {},
   "source": [
    "##Mapper"
   ]
  },
  {
   "cell_type": "code",
   "execution_count": 4,
   "metadata": {
    "collapsed": false
   },
   "outputs": [
    {
     "name": "stdout",
     "output_type": "stream",
     "text": [
      "Overwriting mapper.py\n"
     ]
    }
   ],
   "source": [
    "%%writefile mapper.py\n",
    "#!/usr/bin/python\n",
    "import sys\n",
    "# input comes from STDIN (standard input)\n",
    "for line in sys.stdin:\n",
    "    # remove leading and trailing whitespace\n",
    "    line = line.strip()\n",
    "    # split the line into words\n",
    "    words = line.split()\n",
    "    # increase counters\n",
    "    for word in words:\n",
    "        # write the results to STDOUT (standard output);\n",
    "        # what we output here will be the input for the\n",
    "        # Reduce step, i.e. the input for reducer.py\n",
    "        #\n",
    "        # tab-delimited; the trivial word count is 1\n",
    "        print '%s\\t%s' % (word, 1)"
   ]
  },
  {
   "cell_type": "markdown",
   "metadata": {},
   "source": [
    "##Reducer"
   ]
  },
  {
   "cell_type": "code",
   "execution_count": 5,
   "metadata": {
    "collapsed": false
   },
   "outputs": [
    {
     "name": "stdout",
     "output_type": "stream",
     "text": [
      "Writing reducer.py\n"
     ]
    }
   ],
   "source": [
    "%%writefile reducer.py\n",
    "#!/usr/bin/python\n",
    "from operator import itemgetter\n",
    "import sys\n",
    "\n",
    "current_word = None\n",
    "current_count = 0\n",
    "word = None\n",
    "\n",
    "# input comes from STDIN\n",
    "for line in sys.stdin:\n",
    "    # remove leading and trailing whitespace\n",
    "    line = line.strip()\n",
    "\n",
    "    # parse the input we got from mapper.py\n",
    "    word, count = line.split('\\t', 1)\n",
    "\n",
    "    # convert count (currently a string) to int\n",
    "    try:\n",
    "        count = int(count)\n",
    "    except ValueError:\n",
    "        # count was not a number, so silently\n",
    "        # ignore/discard this line\n",
    "        continue\n",
    "\n",
    "    # this IF-switch only works because Hadoop sorts map output\n",
    "    # by key (here: word) before it is passed to the reducer\n",
    "    if current_word == word:\n",
    "        current_count += count\n",
    "    else:\n",
    "        if current_word:\n",
    "            # write result to STDOUT\n",
    "            print '%s\\t%s' % (current_word, current_count)\n",
    "        current_count = count\n",
    "        current_word = word\n",
    "\n",
    "# do not forget to output the last word if needed!\n",
    "if current_word == word:\n",
    "    print '%s\\t%s' % (current_word, current_count)"
   ]
  },
  {
   "cell_type": "markdown",
   "metadata": {},
   "source": [
    "##Test Code"
   ]
  },
  {
   "cell_type": "code",
   "execution_count": 4,
   "metadata": {
    "collapsed": false
   },
   "outputs": [
    {
     "name": "stdout",
     "output_type": "stream",
     "text": [
      "bar\t1\r\n",
      "foo\t3\r\n",
      "labs\t1\r\n",
      "quux\t2\r\n"
     ]
    }
   ],
   "source": [
    "!echo \"foo foo quux labs foo bar quux\" | python mapper.py | sort -k1,1 | python reducer.py"
   ]
  },
  {
   "cell_type": "markdown",
   "metadata": {
    "collapsed": true
   },
   "source": [
    "## Run wordcount in hadoop"
   ]
  },
  {
   "cell_type": "markdown",
   "metadata": {},
   "source": [
    "###start yarn and hdfs"
   ]
  },
  {
   "cell_type": "code",
   "execution_count": 2,
   "metadata": {
    "collapsed": false
   },
   "outputs": [
    {
     "name": "stdout",
     "output_type": "stream",
     "text": [
      "starting yarn daemons\n",
      "starting resourcemanager, logging to /usr/local/Cellar/hadoop/2.6.0/libexec/logs/yarn-liang-resourcemanager-ldai.out\n",
      "localhost: starting nodemanager, logging to /usr/local/Cellar/hadoop/2.6.0/libexec/logs/yarn-liang-nodemanager-ldai.out\n",
      "15/08/21 06:23:20 WARN util.NativeCodeLoader: Unable to load native-hadoop library for your platform... using builtin-java classes where applicable\n",
      "Starting namenodes on [localhost]\n",
      "localhost: starting namenode, logging to /usr/local/Cellar/hadoop/2.6.0/libexec/logs/hadoop-liang-namenode-ldai.out\n",
      "localhost: starting datanode, logging to /usr/local/Cellar/hadoop/2.6.0/libexec/logs/hadoop-liang-datanode-ldai.out\n",
      "Starting secondary namenodes [0.0.0.0]\n",
      "0.0.0.0: starting secondarynamenode, logging to /usr/local/Cellar/hadoop/2.6.0/libexec/logs/hadoop-liang-secondarynamenode-ldai.out\n",
      "15/08/21 06:23:43 WARN util.NativeCodeLoader: Unable to load native-hadoop library for your platform... using builtin-java classes where applicable\n"
     ]
    }
   ],
   "source": [
    "!/usr/local/Cellar/hadoop/2.7.1/sbin/start-yarn.sh\n",
    "!/usr/local/Cellar/hadoop/2.7.1/sbin/start-dfs.sh"
   ]
  },
  {
   "cell_type": "markdown",
   "metadata": {},
   "source": [
    "###create a folder "
   ]
  },
  {
   "cell_type": "code",
   "execution_count": 3,
   "metadata": {
    "collapsed": false
   },
   "outputs": [
    {
     "name": "stdout",
     "output_type": "stream",
     "text": [
      "15/08/21 06:23:49 WARN util.NativeCodeLoader: Unable to load native-hadoop library for your platform... using builtin-java classes where applicable\r\n"
     ]
    }
   ],
   "source": [
    "#!hdfs dfs -mkdir -p /user/liang"
   ]
  },
  {
   "cell_type": "markdown",
   "metadata": {},
   "source": [
    "###upload wordcount.txt to hdfs"
   ]
  },
  {
   "cell_type": "code",
   "execution_count": 6,
   "metadata": {
    "collapsed": false
   },
   "outputs": [
    {
     "name": "stdout",
     "output_type": "stream",
     "text": [
      "16/01/20 18:35:44 WARN util.NativeCodeLoader: Unable to load native-hadoop library for your platform... using builtin-java classes where applicable\r\n"
     ]
    }
   ],
   "source": [
    "!hdfs dfs -put wordcount.txt "
   ]
  },
  {
   "cell_type": "markdown",
   "metadata": {},
   "source": [
    "### Hadoop streaming command"
   ]
  },
  {
   "cell_type": "markdown",
   "metadata": {},
   "source": [
    "<pre>\n",
    "hadoop jar hadoopstreamingjarfile \\\n",
    "    -D stream.num.map.output.key.fields=n \\\n",
    "    -mapper mapperfile \\\n",
    "    -reducer reducerfile \\\n",
    "    -input inputfile \\\n",
    "    -output outputfile</pre>"
   ]
  },
  {
   "cell_type": "markdown",
   "metadata": {},
   "source": [
    "hadoop streaming jar file can be found in your hadoop folder or downloaded from\n",
    "http://mvnrepository.com/artifact/org.apache.hadoop/hadoop-streaming/2.6.0"
   ]
  },
  {
   "cell_type": "code",
   "execution_count": 9,
   "metadata": {
    "collapsed": false
   },
   "outputs": [
    {
     "name": "stdout",
     "output_type": "stream",
     "text": [
      "16/01/20 19:08:15 WARN util.NativeCodeLoader: Unable to load native-hadoop library for your platform... using builtin-java classes where applicable\n",
      "16/01/20 19:08:16 INFO Configuration.deprecation: session.id is deprecated. Instead, use dfs.metrics.session-id\n",
      "16/01/20 19:08:16 INFO jvm.JvmMetrics: Initializing JVM Metrics with processName=JobTracker, sessionId=\n",
      "16/01/20 19:08:16 INFO jvm.JvmMetrics: Cannot initialize JVM Metrics with processName=JobTracker, sessionId= - already initialized\n",
      "16/01/20 19:08:16 INFO mapred.FileInputFormat: Total input paths to process : 1\n",
      "16/01/20 19:08:16 INFO mapreduce.JobSubmitter: number of splits:1\n",
      "16/01/20 19:08:17 INFO mapreduce.JobSubmitter: Submitting tokens for job: job_local1038861220_0001\n",
      "16/01/20 19:08:17 INFO mapreduce.Job: The url to track the job: http://localhost:8080/\n",
      "16/01/20 19:08:17 INFO mapred.LocalJobRunner: OutputCommitter set in config null\n",
      "16/01/20 19:08:17 INFO mapred.LocalJobRunner: OutputCommitter is org.apache.hadoop.mapred.FileOutputCommitter\n",
      "16/01/20 19:08:17 INFO output.FileOutputCommitter: File Output Committer Algorithm version is 1\n",
      "16/01/20 19:08:17 INFO mapreduce.Job: Running job: job_local1038861220_0001\n",
      "16/01/20 19:08:17 INFO mapred.LocalJobRunner: Waiting for map tasks\n",
      "16/01/20 19:08:17 INFO mapred.LocalJobRunner: Starting task: attempt_local1038861220_0001_m_000000_0\n",
      "16/01/20 19:08:17 INFO output.FileOutputCommitter: File Output Committer Algorithm version is 1\n",
      "16/01/20 19:08:17 INFO util.ProcfsBasedProcessTree: ProcfsBasedProcessTree currently is supported only on Linux.\n",
      "16/01/20 19:08:17 INFO mapred.Task:  Using ResourceCalculatorProcessTree : null\n",
      "16/01/20 19:08:17 INFO mapred.MapTask: Processing split: hdfs://localhost:8020/user/patrickng/wordcount.txt:0+76\n",
      "16/01/20 19:08:17 INFO mapred.MapTask: numReduceTasks: 1\n",
      "16/01/20 19:08:17 INFO mapred.MapTask: (EQUATOR) 0 kvi 26214396(104857584)\n",
      "16/01/20 19:08:17 INFO mapred.MapTask: mapreduce.task.io.sort.mb: 100\n",
      "16/01/20 19:08:17 INFO mapred.MapTask: soft limit at 83886080\n",
      "16/01/20 19:08:17 INFO mapred.MapTask: bufstart = 0; bufvoid = 104857600\n",
      "16/01/20 19:08:17 INFO mapred.MapTask: kvstart = 26214396; length = 6553600\n",
      "16/01/20 19:08:17 INFO mapred.MapTask: Map output collector class = org.apache.hadoop.mapred.MapTask$MapOutputBuffer\n",
      "16/01/20 19:08:17 INFO streaming.PipeMapRed: PipeMapRed exec [/Users/patrickng/Documents/mids/w261/unit2/./mapper.py]\n",
      "16/01/20 19:08:17 INFO Configuration.deprecation: mapred.tip.id is deprecated. Instead, use mapreduce.task.id\n",
      "16/01/20 19:08:17 INFO Configuration.deprecation: mapred.local.dir is deprecated. Instead, use mapreduce.cluster.local.dir\n",
      "16/01/20 19:08:17 INFO Configuration.deprecation: map.input.file is deprecated. Instead, use mapreduce.map.input.file\n",
      "16/01/20 19:08:17 INFO Configuration.deprecation: mapred.skip.on is deprecated. Instead, use mapreduce.job.skiprecords\n",
      "16/01/20 19:08:17 INFO Configuration.deprecation: map.input.length is deprecated. Instead, use mapreduce.map.input.length\n",
      "16/01/20 19:08:17 INFO Configuration.deprecation: mapred.work.output.dir is deprecated. Instead, use mapreduce.task.output.dir\n",
      "16/01/20 19:08:17 INFO Configuration.deprecation: map.input.start is deprecated. Instead, use mapreduce.map.input.start\n",
      "16/01/20 19:08:17 INFO Configuration.deprecation: mapred.job.id is deprecated. Instead, use mapreduce.job.id\n",
      "16/01/20 19:08:17 INFO Configuration.deprecation: user.name is deprecated. Instead, use mapreduce.job.user.name\n",
      "16/01/20 19:08:17 INFO Configuration.deprecation: mapred.task.is.map is deprecated. Instead, use mapreduce.task.ismap\n",
      "16/01/20 19:08:17 INFO Configuration.deprecation: mapred.task.id is deprecated. Instead, use mapreduce.task.attempt.id\n",
      "16/01/20 19:08:17 INFO Configuration.deprecation: mapred.task.partition is deprecated. Instead, use mapreduce.task.partition\n",
      "16/01/20 19:08:17 INFO streaming.PipeMapRed: R/W/S=1/0/0 in:NA [rec/s] out:NA [rec/s]\n",
      "16/01/20 19:08:18 INFO streaming.PipeMapRed: MRErrorThread done\n",
      "16/01/20 19:08:18 INFO streaming.PipeMapRed: Records R/W=4/1\n",
      "16/01/20 19:08:18 INFO streaming.PipeMapRed: mapRedFinished\n",
      "16/01/20 19:08:18 INFO mapred.LocalJobRunner: \n",
      "16/01/20 19:08:18 INFO mapred.MapTask: Starting flush of map output\n",
      "16/01/20 19:08:18 INFO mapred.MapTask: Spilling map output\n",
      "16/01/20 19:08:18 INFO mapred.MapTask: bufstart = 0; bufend = 105; bufvoid = 104857600\n",
      "16/01/20 19:08:18 INFO mapred.MapTask: kvstart = 26214396(104857584); kvend = 26214344(104857376); length = 53/6553600\n",
      "16/01/20 19:08:18 INFO mapred.MapTask: Finished spill 0\n",
      "16/01/20 19:08:18 INFO mapred.Task: Task:attempt_local1038861220_0001_m_000000_0 is done. And is in the process of committing\n",
      "16/01/20 19:08:18 INFO mapred.LocalJobRunner: Records R/W=4/1\n",
      "16/01/20 19:08:18 INFO mapred.Task: Task 'attempt_local1038861220_0001_m_000000_0' done.\n",
      "16/01/20 19:08:18 INFO mapred.LocalJobRunner: Finishing task: attempt_local1038861220_0001_m_000000_0\n",
      "16/01/20 19:08:18 INFO mapred.LocalJobRunner: map task executor complete.\n",
      "16/01/20 19:08:18 INFO mapred.LocalJobRunner: Waiting for reduce tasks\n",
      "16/01/20 19:08:18 INFO mapred.LocalJobRunner: Starting task: attempt_local1038861220_0001_r_000000_0\n",
      "16/01/20 19:08:18 INFO output.FileOutputCommitter: File Output Committer Algorithm version is 1\n",
      "16/01/20 19:08:18 INFO util.ProcfsBasedProcessTree: ProcfsBasedProcessTree currently is supported only on Linux.\n",
      "16/01/20 19:08:18 INFO mapred.Task:  Using ResourceCalculatorProcessTree : null\n",
      "16/01/20 19:08:18 INFO mapred.ReduceTask: Using ShuffleConsumerPlugin: org.apache.hadoop.mapreduce.task.reduce.Shuffle@7b7fe15b\n",
      "16/01/20 19:08:18 INFO reduce.MergeManagerImpl: MergerManager: memoryLimit=334338464, maxSingleShuffleLimit=83584616, mergeThreshold=220663392, ioSortFactor=10, memToMemMergeOutputsThreshold=10\n",
      "16/01/20 19:08:18 INFO reduce.EventFetcher: attempt_local1038861220_0001_r_000000_0 Thread started: EventFetcher for fetching Map Completion Events\n",
      "16/01/20 19:08:18 INFO reduce.LocalFetcher: localfetcher#1 about to shuffle output of map attempt_local1038861220_0001_m_000000_0 decomp: 135 len: 139 to MEMORY\n",
      "16/01/20 19:08:18 INFO reduce.InMemoryMapOutput: Read 135 bytes from map-output for attempt_local1038861220_0001_m_000000_0\n",
      "16/01/20 19:08:18 INFO reduce.MergeManagerImpl: closeInMemoryFile -> map-output of size: 135, inMemoryMapOutputs.size() -> 1, commitMemory -> 0, usedMemory ->135\n",
      "16/01/20 19:08:18 INFO reduce.EventFetcher: EventFetcher is interrupted.. Returning\n",
      "16/01/20 19:08:18 INFO mapred.LocalJobRunner: 1 / 1 copied.\n",
      "16/01/20 19:08:18 INFO reduce.MergeManagerImpl: finalMerge called with 1 in-memory map-outputs and 0 on-disk map-outputs\n",
      "16/01/20 19:08:18 INFO mapred.Merger: Merging 1 sorted segments\n",
      "16/01/20 19:08:18 INFO mapred.Merger: Down to the last merge-pass, with 1 segments left of total size: 125 bytes\n",
      "16/01/20 19:08:18 INFO reduce.MergeManagerImpl: Merged 1 segments, 135 bytes to disk to satisfy reduce memory limit\n",
      "16/01/20 19:08:18 INFO reduce.MergeManagerImpl: Merging 1 files, 139 bytes from disk\n",
      "16/01/20 19:08:18 INFO reduce.MergeManagerImpl: Merging 0 segments, 0 bytes from memory into reduce\n",
      "16/01/20 19:08:18 INFO mapred.Merger: Merging 1 sorted segments\n",
      "16/01/20 19:08:18 INFO mapred.Merger: Down to the last merge-pass, with 1 segments left of total size: 125 bytes\n",
      "16/01/20 19:08:18 INFO mapred.LocalJobRunner: 1 / 1 copied.\n",
      "16/01/20 19:08:18 INFO streaming.PipeMapRed: PipeMapRed exec [/Users/patrickng/Documents/mids/w261/unit2/./reducer.py]\n",
      "16/01/20 19:08:18 INFO Configuration.deprecation: mapred.job.tracker is deprecated. Instead, use mapreduce.jobtracker.address\n",
      "16/01/20 19:08:18 INFO Configuration.deprecation: mapred.map.tasks is deprecated. Instead, use mapreduce.job.maps\n",
      "16/01/20 19:08:18 INFO streaming.PipeMapRed: R/W/S=1/0/0 in:NA [rec/s] out:NA [rec/s]\n",
      "16/01/20 19:08:18 INFO streaming.PipeMapRed: R/W/S=10/0/0 in:NA [rec/s] out:NA [rec/s]\n",
      "16/01/20 19:08:18 INFO streaming.PipeMapRed: Records R/W=14/1\n",
      "16/01/20 19:08:18 INFO streaming.PipeMapRed: MRErrorThread done\n",
      "16/01/20 19:08:18 INFO streaming.PipeMapRed: mapRedFinished\n",
      "16/01/20 19:08:18 INFO mapred.Task: Task:attempt_local1038861220_0001_r_000000_0 is done. And is in the process of committing\n",
      "16/01/20 19:08:18 INFO mapred.LocalJobRunner: 1 / 1 copied.\n",
      "16/01/20 19:08:18 INFO mapred.Task: Task attempt_local1038861220_0001_r_000000_0 is allowed to commit now\n",
      "16/01/20 19:08:18 INFO output.FileOutputCommitter: Saved output of task 'attempt_local1038861220_0001_r_000000_0' to hdfs://localhost:8020/user/patrickng/wordcountOutput/_temporary/0/task_local1038861220_0001_r_000000\n",
      "16/01/20 19:08:18 INFO mapred.LocalJobRunner: Records R/W=14/1 > reduce\n",
      "16/01/20 19:08:18 INFO mapred.Task: Task 'attempt_local1038861220_0001_r_000000_0' done.\n",
      "16/01/20 19:08:18 INFO mapred.LocalJobRunner: Finishing task: attempt_local1038861220_0001_r_000000_0\n",
      "16/01/20 19:08:18 INFO mapred.LocalJobRunner: reduce task executor complete.\n",
      "16/01/20 19:08:18 INFO mapreduce.Job: Job job_local1038861220_0001 running in uber mode : false\n",
      "16/01/20 19:08:18 INFO mapreduce.Job:  map 100% reduce 100%\n",
      "16/01/20 19:08:18 INFO mapreduce.Job: Job job_local1038861220_0001 completed successfully\n",
      "16/01/20 19:08:18 INFO mapreduce.Job: Counters: 35\n",
      "\tFile System Counters\n",
      "\t\tFILE: Number of bytes read=212378\n",
      "\t\tFILE: Number of bytes written=804557\n",
      "\t\tFILE: Number of read operations=0\n",
      "\t\tFILE: Number of large read operations=0\n",
      "\t\tFILE: Number of write operations=0\n",
      "\t\tHDFS: Number of bytes read=152\n",
      "\t\tHDFS: Number of bytes written=72\n",
      "\t\tHDFS: Number of read operations=13\n",
      "\t\tHDFS: Number of large read operations=0\n",
      "\t\tHDFS: Number of write operations=4\n",
      "\tMap-Reduce Framework\n",
      "\t\tMap input records=4\n",
      "\t\tMap output records=14\n",
      "\t\tMap output bytes=105\n",
      "\t\tMap output materialized bytes=139\n",
      "\t\tInput split bytes=102\n",
      "\t\tCombine input records=0\n",
      "\t\tCombine output records=0\n",
      "\t\tReduce input groups=9\n",
      "\t\tReduce shuffle bytes=139\n",
      "\t\tReduce input records=14\n",
      "\t\tReduce output records=9\n",
      "\t\tSpilled Records=28\n",
      "\t\tShuffled Maps =1\n",
      "\t\tFailed Shuffles=0\n",
      "\t\tMerged Map outputs=1\n",
      "\t\tGC time elapsed (ms)=0\n",
      "\t\tTotal committed heap usage (bytes)=511180800\n",
      "\tShuffle Errors\n",
      "\t\tBAD_ID=0\n",
      "\t\tCONNECTION=0\n",
      "\t\tIO_ERROR=0\n",
      "\t\tWRONG_LENGTH=0\n",
      "\t\tWRONG_MAP=0\n",
      "\t\tWRONG_REDUCE=0\n",
      "\tFile Input Format Counters \n",
      "\t\tBytes Read=76\n",
      "\tFile Output Format Counters \n",
      "\t\tBytes Written=72\n",
      "16/01/20 19:08:18 INFO streaming.StreamJob: Output directory: wordcountOutput\n"
     ]
    }
   ],
   "source": [
    "!hadoop jar $HADOOP_INSTALL/share/hadoop/tools/lib/hadoop-*streaming*.jar -mapper mapper.py -reducer reducer.py -input wordcount.txt -output wordcountOutput"
   ]
  },
  {
   "cell_type": "markdown",
   "metadata": {},
   "source": [
    "###show the results"
   ]
  },
  {
   "cell_type": "code",
   "execution_count": 10,
   "metadata": {
    "collapsed": false
   },
   "outputs": [
    {
     "name": "stdout",
     "output_type": "stream",
     "text": [
      "16/01/20 19:08:30 WARN util.NativeCodeLoader: Unable to load native-hadoop library for your platform... using builtin-java classes where applicable\n",
      "bonjour\t1\n",
      "ciao\t1\n",
      "hallo\t1\n",
      "hello\t2\n",
      "hi\t3\n",
      "hola\t2\n",
      "konnichiwa\t1\n",
      "nihao\t2\n",
      "ola\t1\n"
     ]
    }
   ],
   "source": [
    "!hdfs dfs -cat wordcountOutput/part-00000"
   ]
  },
  {
   "cell_type": "markdown",
   "metadata": {},
   "source": [
    "###stop yarn and hdfs"
   ]
  },
  {
   "cell_type": "code",
   "execution_count": 11,
   "metadata": {
    "collapsed": false
   },
   "outputs": [
    {
     "name": "stdout",
     "output_type": "stream",
     "text": [
      "stopping yarn daemons\n",
      "stopping resourcemanager\n",
      "localhost: stopping nodemanager\n",
      "localhost: nodemanager did not stop gracefully after 5 seconds: killing with kill -9\n",
      "no proxyserver to stop\n",
      "16/01/20 19:08:50 WARN util.NativeCodeLoader: Unable to load native-hadoop library for your platform... using builtin-java classes where applicable\n",
      "Stopping namenodes on [localhost]\n",
      "localhost: stopping namenode\n",
      "localhost: stopping datanode\n",
      "Stopping secondary namenodes [0.0.0.0]\n",
      "0.0.0.0: stopping secondarynamenode\n",
      "16/01/20 19:09:09 WARN util.NativeCodeLoader: Unable to load native-hadoop library for your platform... using builtin-java classes where applicable\n"
     ]
    }
   ],
   "source": [
    "!/usr/local/Cellar/hadoop/2.7.1/sbin/stop-yarn.sh\n",
    "!/usr/local/Cellar/hadoop/2.7.1/sbin/stop-dfs.sh"
   ]
  },
  {
   "cell_type": "code",
   "execution_count": null,
   "metadata": {
    "collapsed": true
   },
   "outputs": [],
   "source": []
  }
 ],
 "metadata": {
  "kernelspec": {
   "display_name": "Python 2",
   "language": "python",
   "name": "python2"
  },
  "language_info": {
   "codemirror_mode": {
    "name": "ipython",
    "version": 2
   },
   "file_extension": ".py",
   "mimetype": "text/x-python",
   "name": "python",
   "nbconvert_exporter": "python",
   "pygments_lexer": "ipython2",
   "version": "2.7.10"
  }
 },
 "nbformat": 4,
 "nbformat_minor": 0
}
