{
 "cells": [
  {
   "cell_type": "markdown",
   "metadata": {},
   "source": [
    "#DATASCI W261: Machine Learning at Scale"
   ]
  },
  {
   "cell_type": "markdown",
   "metadata": {},
   "source": [
    "## Problem: Find all pages (aka Vroots) with  greater than 400 visits"
   ]
  },
  {
   "cell_type": "markdown",
   "metadata": {},
   "source": [
    "Complete code in MrJob class file "
   ]
  },
  {
   "cell_type": "code",
   "execution_count": 1,
   "metadata": {
    "collapsed": false
   },
   "outputs": [
    {
     "name": "stdout",
     "output_type": "stream",
     "text": [
      "Overwriting TopPages.py\n"
     ]
    }
   ],
   "source": [
    "%%writefile TopPages.py\n",
    "\"\"\"Find Vroots with more than 400 visits.\n",
    "\n",
    "This program will take a CSV data file and output tab-seperated lines of\n",
    "\n",
    "    Vroot -> number of visits\n",
    "\n",
    "To run:\n",
    "\n",
    "    python top_pages.py anonymous-msweb.data\n",
    "\n",
    "To store output:\n",
    "\n",
    "    python top_pages.py anonymous-msweb.data > top_pages.out\n",
    "\"\"\"\n",
    "\n",
    "from mrjob.job import MRJob\n",
    "import csv\n",
    "\n",
    "def csv_readline(line):\n",
    "    \"\"\"Given a sting CSV line, return a list of strings.\"\"\"\n",
    "    for row in csv.reader([line]):\n",
    "        return row\n",
    "\n",
    "class TopPages(MRJob):\n",
    "\n",
    "    def mapper(self, line_no, line):\n",
    "        \"\"\"Extracts the Vroot that visit a page\"\"\"\n",
    "        cell = csv_readline(line)\n",
    "        if cell[0] == 'V':\n",
    "            yield cell[1],1\n",
    "\n",
    "    def reducer(self, vroot, visit_counts):\n",
    "        \"\"\"Sumarizes the visit counts by adding them together. If total visits\n",
    "        is more than 400, yield the results\"\"\"\n",
    "        total = sum(i for i in visit_counts)\n",
    "        if total > 400:\n",
    "            yield vroot, total\n",
    "        \n",
    "if __name__ == '__main__':\n",
    "    TopPages.run()\n"
   ]
  },
  {
   "cell_type": "markdown",
   "metadata": {},
   "source": [
    "Driver code is ready"
   ]
  },
  {
   "cell_type": "code",
   "execution_count": 2,
   "metadata": {
    "collapsed": false
   },
   "outputs": [
    {
     "name": "stdout",
     "output_type": "stream",
     "text": [
      "(u'1000', 912)\n",
      "(u'1001', 4451)\n",
      "(u'1002', 749)\n",
      "(u'1003', 2968)\n",
      "(u'1004', 8463)\n",
      "(u'1007', 865)\n",
      "(u'1008', 10836)\n",
      "(u'1009', 4628)\n",
      "(u'1010', 698)\n",
      "(u'1014', 728)\n",
      "(u'1017', 5108)\n",
      "(u'1018', 5330)\n",
      "(u'1020', 1087)\n",
      "(u'1024', 521)\n",
      "(u'1025', 2123)\n",
      "(u'1026', 3220)\n",
      "(u'1027', 507)\n",
      "(u'1030', 1115)\n",
      "(u'1031', 574)\n",
      "(u'1032', 1446)\n",
      "(u'1034', 9383)\n",
      "(u'1035', 1791)\n",
      "(u'1036', 759)\n",
      "(u'1037', 1160)\n",
      "(u'1038', 1110)\n",
      "(u'1040', 1506)\n",
      "(u'1041', 1500)\n",
      "(u'1045', 474)\n",
      "(u'1046', 636)\n",
      "(u'1052', 842)\n",
      "(u'1053', 670)\n",
      "(u'1058', 672)\n",
      "(u'1067', 548)\n",
      "(u'1070', 602)\n",
      "(u'1074', 584)\n",
      "(u'1076', 444)\n",
      "(u'1078', 462)\n",
      "(u'1295', 716)\n"
     ]
    }
   ],
   "source": [
    "from TopPages import TopPages\n",
    "import csv\n",
    "\n",
    "mr_job = TopPages(args=['anonymous-msweb.data'])\n",
    "with mr_job.make_runner() as runner:\n",
    "    runner.run()\n",
    "    for line in runner.stream_output():\n",
    "        print mr_job.parse_output_line(line)"
   ]
  }
 ],
 "metadata": {
  "kernelspec": {
   "display_name": "Python 2",
   "language": "python",
   "name": "python2"
  },
  "language_info": {
   "codemirror_mode": {
    "name": "ipython",
    "version": 2
   },
   "file_extension": ".py",
   "mimetype": "text/x-python",
   "name": "python",
   "nbconvert_exporter": "python",
   "pygments_lexer": "ipython2",
   "version": "2.7.8"
  }
 },
 "nbformat": 4,
 "nbformat_minor": 0
}
