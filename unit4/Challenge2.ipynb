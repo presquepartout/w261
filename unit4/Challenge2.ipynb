{
 "cells": [
  {
   "cell_type": "markdown",
   "metadata": {},
   "source": [
    "#DATASCI W261: Machine Learning at Scale"
   ]
  },
  {
   "cell_type": "markdown",
   "metadata": {},
   "source": [
    "## Problem: Calculate the number of visits per user and select the frequent visitor"
   ]
  },
  {
   "cell_type": "markdown",
   "metadata": {},
   "source": [
    "Complete code in MrJob class file "
   ]
  },
  {
   "cell_type": "code",
   "execution_count": 1,
   "metadata": {
    "collapsed": false
   },
   "outputs": [
    {
     "name": "stdout",
     "output_type": "stream",
     "text": [
      "Overwriting visits_per_customer_solution.py\n"
     ]
    }
   ],
   "source": [
    "%%writefile visits_per_customer_solution.py\n",
    "\"\"\"Find Vroots with more than 400 visits.\n",
    "\n",
    "This program will take a CSV data file and output tab-seperated lines of\n",
    "\n",
    "    Custermer -> number of visits\n",
    "\n",
    "To run:\n",
    "\n",
    "    python visits_per_customer_solution.py processed_anonymous-msweb.data\n",
    "\n",
    "To store output:\n",
    "\n",
    "    python visits_per_customer_solution.py processed_anonymous-msweb.data > visits_per_customer_solution.out\n",
    "\"\"\"\n",
    "\n",
    "from mrjob.job import MRJob\n",
    "import csv\n",
    "\n",
    "def csv_readline(line):\n",
    "    \"\"\"Given a sting CSV line, return a list of strings.\"\"\"\n",
    "    for row in csv.reader([line]):\n",
    "        return row\n",
    "\n",
    "class CustomerVisit(MRJob):\n",
    "\n",
    "    def mapper(self, line_no, line):\n",
    "        \"\"\"Extracts the Customer that visit a page\"\"\"\n",
    "        cell = csv_readline(line)\n",
    "        if cell[0] == 'V':\n",
    "            yield ### FILL IN\n",
    "\n",
    "    def reducer(self, customer, visit_counts):\n",
    "        \"\"\"Sumarizes the visit counts by adding them together.\"\"\"\n",
    "        total = sum(i for i in visit_counts)\n",
    "        yield ### FILL IN\n",
    "        \n",
    "if __name__ == '__main__':\n",
    "    CustomerVisit.run()\n"
   ]
  },
  {
   "cell_type": "markdown",
   "metadata": {},
   "source": [
    "Driver code is ready"
   ]
  },
  {
   "cell_type": "code",
   "execution_count": null,
   "metadata": {
    "collapsed": true
   },
   "outputs": [],
   "source": [
    "from visits_per_customer_solution import CustomerVisit\n",
    "import csv\n",
    "\n",
    "mr_job = CustomerVisit(args=['processed_anonymous-msweb.data'])\n",
    "with mr_job.make_runner() as runner:\n",
    "    runner.run()\n",
    "    for line in runner.stream_output():\n",
    "        print mr_job.parse_output_line(line)"
   ]
  }
 ],
 "metadata": {
  "kernelspec": {
   "display_name": "Python 2",
   "language": "python",
   "name": "python2"
  },
  "language_info": {
   "codemirror_mode": {
    "name": "ipython",
    "version": 2
   },
   "file_extension": ".py",
   "mimetype": "text/x-python",
   "name": "python",
   "nbconvert_exporter": "python",
   "pygments_lexer": "ipython2",
   "version": "2.7.8"
  }
 },
 "nbformat": 4,
 "nbformat_minor": 0
}
