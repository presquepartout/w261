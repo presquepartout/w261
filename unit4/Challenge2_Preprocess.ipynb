{
 "cells": [
  {
   "cell_type": "markdown",
   "metadata": {},
   "source": [
    "#DATASCI W261: Machine Learning at Scale"
   ]
  },
  {
   "cell_type": "markdown",
   "metadata": {},
   "source": [
    "#Sequentially read the log file and write a file which add customer ID information for each visit on one line\n",
    "Add image or Add text examples \n",
    "<img src=\"MIDS-LSML-2015-Lecture04-Clustering-With-MrJob-2015-04-11.png\">\n",
    "\n",
    "Original:  \n",
    "C,\"10001\",10001  \n",
    "V,1000,1  \n",
    "V,1001,1  \n",
    "V,1002,1  \n",
    "\n",
    "After Preprocessed:  \n",
    "V,1000,1,C, \"10001\"  \n",
    "V,1001,1,C, \"10001\"  \n",
    "V,1002,1,C, \"10001\"  "
   ]
  },
  {
   "cell_type": "code",
   "execution_count": 12,
   "metadata": {
    "collapsed": false
   },
   "outputs": [],
   "source": [
    "with open('anonymous-msweb.data', 'r') as inputfile, open('processed_anonymous-msweb.data', 'a') as outputfile:\n",
    "    for line in inputfile:\n",
    "        v = line.split(',')\n",
    "        # If the line is customer information line, save it to customer_info\n",
    "        if(v[0]=='C'):\n",
    "            customer_info = v\n",
    "            outputfile.write(line)\n",
    "        # If the line visit information line, concatenate the line with customer_info\n",
    "        elif(v[0]=='V'):\n",
    "            outputfile.write( line.strip()+','+customer_info[0]+','+customer_info[1]+'\\n')\n",
    "        # Directly output other lines\n",
    "        else:\n",
    "            outputfile.write(line)"
   ]
  }
 ],
 "metadata": {
  "kernelspec": {
   "display_name": "Python 2",
   "language": "python",
   "name": "python2"
  },
  "language_info": {
   "codemirror_mode": {
    "name": "ipython",
    "version": 2
   },
   "file_extension": ".py",
   "mimetype": "text/x-python",
   "name": "python",
   "nbconvert_exporter": "python",
   "pygments_lexer": "ipython2",
   "version": "2.7.8"
  }
 },
 "nbformat": 4,
 "nbformat_minor": 0
}
