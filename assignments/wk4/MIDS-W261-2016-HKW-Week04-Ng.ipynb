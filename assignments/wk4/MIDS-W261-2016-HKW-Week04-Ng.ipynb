{
 "cells": [
  {
   "cell_type": "markdown",
   "metadata": {},
   "source": [
    "Name: Patrick Ng  \n",
    "Email: patng@ischool.berkeley.edu  \n",
    "Class: W261-2  \n",
    "Week: 04  \n",
    "Date of submission: Feb 11, 2016"
   ]
  },
  {
   "cell_type": "markdown",
   "metadata": {},
   "source": [
    "## HW 4.0. \n",
    "\n",
    "**What is MrJob? How is it different to Hadoop MapReduce? **\n",
    "MRJob is a Python framework built upon Hadoop streaming.  It makes it easier to write Hadoop jobs, especially multi-step ones, in Python than just using Hadoop streaming.  \n",
    "\n",
    "**What are the mapper_init, mapper_final(), combiner_final(), reducer_final() methods? When are they called?**\n",
    "These are methods which can be defined by user.  The mapper_init method is called before a mapper processes any input.  All those three final methods are called after the corresponding component (e.g. combiner) has finished processing all its input.\n"
   ]
  },
  {
   "cell_type": "markdown",
   "metadata": {},
   "source": [
    "## HW 4.1\n",
    "What is serialization in the context of MrJob or Hadoop? \n",
    "When it used in these frameworks? \n",
    "What is the default serialization mode for input and outputs for MrJob?"
   ]
  },
  {
   "cell_type": "markdown",
   "metadata": {},
   "source": [
    "### Answers ###\n",
    "\n",
    "In the context of MrJob or Hadoop, serialization refers to how the data is formatted for input, and how it is formatted when the result is generated.  \n",
    "\n",
    "It's used when the framework sends input to and generate output from the mappers, combiners and reducers.  \n",
    "\n",
    "In MRJob, the default serialization for input and output are JSONProtocol."
   ]
  },
  {
   "cell_type": "code",
   "execution_count": 14,
   "metadata": {
    "collapsed": false
   },
   "outputs": [
    {
     "name": "stdout",
     "output_type": "stream",
     "text": [
      "The autoreload extension is already loaded. To reload it, use:\n",
      "  %reload_ext autoreload\n"
     ]
    }
   ],
   "source": [
    "%load_ext autoreload\n",
    "%autoreload 2"
   ]
  },
  {
   "cell_type": "markdown",
   "metadata": {},
   "source": [
    "## HW 4.2: \n",
    "\n",
    "Recall the Microsoft logfiles data from the async lecture. The logfiles are described are located at:\n",
    "\n",
    "https://kdd.ics.uci.edu/databases/msweb/msweb.html  \n",
    "http://archive.ics.uci.edu/ml/machine-learning-databases/anonymous/\n",
    "\n",
    "This dataset records which areas (Vroots) of www.microsoft.com each user visited in a one-week timeframe in Feburary 1998.\n",
    "\n",
    " Here, you must preprocess the data on a single node (i.e., not on a cluster of nodes) from the format:\n",
    "```\n",
    "C,\"10001\",10001   #Visitor id 10001\n",
    "V,1000,1          #Visit by Visitor 10001 to page id 1000\n",
    "V,1001,1          #Visit by Visitor 10001 to page id 1001\n",
    "V,1002,1          #Visit by Visitor 10001 to page id 1002\n",
    "C,\"10002\",10002   #Visitor id 10001\n",
    "V\n",
    "Note: #denotes comments\n",
    "to the format:\n",
    "\n",
    "V,1000,1,C, 10001\n",
    "V,1001,1,C, 10001\n",
    "V,1002,1,C, 10001\n",
    "```\n",
    "Write the python code to accomplish this."
   ]
  },
  {
   "cell_type": "code",
   "execution_count": 233,
   "metadata": {
    "collapsed": false
   },
   "outputs": [
    {
     "name": "stdout",
     "output_type": "stream",
     "text": [
      "Overwriting transform.py\n"
     ]
    }
   ],
   "source": [
    "%%writefile transform.py\n",
    "#!/usr/bin/python\n",
    "\n",
    "import csv\n",
    "\n",
    "curUser = None\n",
    "with open(\"anonymous-msweb.data\", \"r\") as csvfile:\n",
    "    for fields in csv.reader(csvfile):\n",
    "        recType = fields[0]\n",
    "\n",
    "        if recType == \"C\":\n",
    "            curUser = fields[2] # remember current user\n",
    "        elif recType == \"V\":\n",
    "            print \",\".join(fields + [\"C\", curUser])"
   ]
  },
  {
   "cell_type": "code",
   "execution_count": 234,
   "metadata": {
    "collapsed": false
   },
   "outputs": [],
   "source": [
    "!python transform.py > \"transformed-msweb.data\""
   ]
  },
  {
   "cell_type": "markdown",
   "metadata": {},
   "source": [
    "## HW 4.3: \n",
    "Find the 5 most frequently visited pages using MrJob from the output of 4.2 (i.e., transfromed log file)."
   ]
  },
  {
   "cell_type": "code",
   "execution_count": 2,
   "metadata": {
    "collapsed": false
   },
   "outputs": [
    {
     "name": "stdout",
     "output_type": "stream",
     "text": [
      "Overwriting hw4_3.py\n"
     ]
    }
   ],
   "source": [
    "%%writefile hw4_3.py\n",
    "\n",
    "'''\n",
    "Input format:\n",
    "....\n",
    "V,1000,1,C,10001\n",
    "V,1001,1,C,10001\n",
    "V,1002,1,C,10001\n",
    "V,1001,1,C,10002\n",
    "V,1003,1,C,10002\n",
    "V,1001,1,C,10003\n",
    "V,1003,1,C,10003\n",
    "V,1004,1,C,10003\n",
    "....\n",
    "'''\n",
    "from mrjob.job import MRJob, MRStep\n",
    "import csv\n",
    "import sys\n",
    "\n",
    "def csv_readline(line):\n",
    "    \"\"\"Given a sting CSV line, return a list of strings.\"\"\"\n",
    "    return csv.reader([line]).next()\n",
    "\n",
    "class PageVisitHW4_3(MRJob):\n",
    "    \n",
    "    def mapper_get_visit_count(self, line_no, line):\n",
    "        \"\"\"Extracts the page id and visit count\"\"\"\n",
    "        cell = csv_readline(line)\n",
    "        yield cell[1], 1\n",
    "\n",
    "    def reducer_get_visit_count(self, pageId, visit_counts):\n",
    "        \"\"\"Sumarizes the visit counts by adding them together.\"\"\"\n",
    "        total = sum(i for i in visit_counts)\n",
    "        yield pageId, total\n",
    "\n",
    "    def reducer_find_top5_pages_init(self):\n",
    "        self.printed = 0\n",
    "\n",
    "    def reducer_find_top5_pages(self, pageId, visit_counts):\n",
    "        \"\"\"Print the top 5 pageId's and the counts\"\"\"\n",
    "        if self.printed < 5:\n",
    "            yield pageId, visit_counts.next()\n",
    "            self.printed += 1\n",
    "    \n",
    "    def steps(self):\n",
    "        return [\n",
    "            MRStep(mapper=self.mapper_get_visit_count,\n",
    "                   combiner=self.reducer_get_visit_count,\n",
    "                   reducer=self.reducer_get_visit_count),\n",
    "            MRStep(reducer_init=self.reducer_find_top5_pages_init,\n",
    "                   reducer=self.reducer_find_top5_pages,\n",
    "                   jobconf={\n",
    "                    \"stream.num.map.output.key.fields\":\"2\",\n",
    "                    \"mapreduce.job.output.key.comparator.class\":\n",
    "                        \"org.apache.hadoop.mapred.lib.KeyFieldBasedComparator\",\n",
    "                    \"mapreduce.partition.keycomparator.options\":\"-k2,2nr\"\n",
    "                          })]\n",
    "\n",
    "    \n",
    "if __name__ == '__main__':\n",
    "    PageVisitHW4_3.run()\n"
   ]
  },
  {
   "cell_type": "code",
   "execution_count": 236,
   "metadata": {
    "collapsed": false
   },
   "outputs": [
    {
     "name": "stderr",
     "output_type": "stream",
     "text": [
      "WARNING:mrjob.runner:\n",
      "WARNING:mrjob.runner:PLEASE NOTE: Starting in mrjob v0.5.0, protocols will be strict by default. It's recommended you run your job with --strict-protocols or set up mrjob.conf as described at https://pythonhosted.org/mrjob/whats-new.html#ready-for-strict-protocols\n",
      "WARNING:mrjob.runner:\n"
     ]
    },
    {
     "name": "stdout",
     "output_type": "stream",
     "text": [
      "5 most frequently visited pages:\n",
      "('1008', 10836)"
     ]
    },
    {
     "name": "stderr",
     "output_type": "stream",
     "text": [
      "ERROR:mrjob.fs.hadoop:STDERR: 16/02/09 23:42:50 WARN util.NativeCodeLoader: Unable to load native-hadoop library for your platform... using builtin-java classes where applicable\n",
      "\n"
     ]
    },
    {
     "name": "stdout",
     "output_type": "stream",
     "text": [
      "\n",
      "('1034', 9383)\n",
      "('1004', 8463)\n",
      "('1018', 5330)\n",
      "('1017', 5108)\n"
     ]
    }
   ],
   "source": [
    "from hw4_3 import PageVisitHW4_3\n",
    "mr_job = PageVisitHW4_3(args=['transformed-msweb.data', '-r', 'hadoop'])\n",
    "with mr_job.make_runner() as runner: \n",
    "    runner.run()\n",
    "    # stream_output: get access of the output \n",
    "    \n",
    "    print \"5 most frequently visited pages:\"\n",
    "\n",
    "    for line in runner.stream_output():\n",
    "        print mr_job.parse_output_line(line)"
   ]
  },
  {
   "cell_type": "markdown",
   "metadata": {},
   "source": [
    "## HW 4.4: \n",
    "Find the most frequent visitor of each page using MrJob and the output of 4.2  (i.e., transfromed log file). In this output please include the webpage URL, webpageID and Visitor ID."
   ]
  },
  {
   "cell_type": "code",
   "execution_count": 238,
   "metadata": {
    "collapsed": false
   },
   "outputs": [
    {
     "name": "stdout",
     "output_type": "stream",
     "text": [
      "Writing transform_urls.py\n"
     ]
    }
   ],
   "source": [
    "%%writefile transform_urls.py\n",
    "#!/usr/bin/python\n",
    "\n",
    "import csv\n",
    "\n",
    "curUser = None\n",
    "with open(\"anonymous-msweb.data\", \"r\") as csvfile:\n",
    "    for fields in csv.reader(csvfile):\n",
    "        if fields[0] == \"A\":\n",
    "            print \",\".join([fields[1], fields[4]])\n"
   ]
  },
  {
   "cell_type": "code",
   "execution_count": 245,
   "metadata": {
    "collapsed": false
   },
   "outputs": [],
   "source": [
    "!python transform_urls.py > urls.data"
   ]
  },
  {
   "cell_type": "code",
   "execution_count": 278,
   "metadata": {
    "collapsed": false
   },
   "outputs": [
    {
     "name": "stdout",
     "output_type": "stream",
     "text": [
      "Overwriting hw4_4.py\n"
     ]
    }
   ],
   "source": [
    "%%writefile hw4_4.py\n",
    "\n",
    "from mrjob.job import MRJob, MRStep\n",
    "import mrjob\n",
    "import csv\n",
    "import sys\n",
    "\n",
    "def csv_readline(line):\n",
    "    \"\"\"Given a sting CSV line, return a list of strings.\"\"\"\n",
    "    return csv.reader([line]).next()\n",
    "\n",
    "class PageVisitHW4_4(MRJob):\n",
    "    \n",
    "    BASE_URL = \"http://www.microsoft.com\"\n",
    "    INTERNAL_PROTOCOL = mrjob.protocol.RawProtocol\n",
    "    OUTPUT_PROTOCOL = mrjob.protocol.RawProtocol\n",
    "    \n",
    "    def mapper1(self, line_no, line):\n",
    "        cell = csv_readline(line)\n",
    "        # page,visitor \\t count\n",
    "        yield \",\".join([cell[1], cell[4]]), \"1\"\n",
    "        \n",
    "    def reducer1(self, key, values):\n",
    "        \"\"\"Sum up the visit count per (page, visitor) pair.\"\"\"\n",
    "        total = sum([int(v) for v in values])\n",
    "        fields = key.split(\",\")\n",
    "        # page \\t visitor \\t total\n",
    "        yield fields[0], \"\\t\".join([fields[1], str(total)])\n",
    "\n",
    "    def reducer2_init(self):\n",
    "        # Build the dictionary of pageId:url\n",
    "        self.urls = {}\n",
    "        with open(\"urls.data\", \"r\") as f:\n",
    "            for fields in csv.reader(f):\n",
    "                self.urls[fields[0]] = fields[1]\n",
    "                \n",
    "    def reducer2(self, key, values):\n",
    "        # url \\t pageId \\t visitor \\t total\n",
    "        yield self.BASE_URL + self.urls[key] + \"\\t\" + key, values.next()\n",
    "    \n",
    "    def steps(self):\n",
    "        return [\n",
    "            MRStep(mapper=self.mapper1,\n",
    "                   reducer=self.reducer1,\n",
    "                  ),\n",
    "            MRStep(reducer_init=self.reducer2_init,\n",
    "                   reducer=self.reducer2,\n",
    "                   jobconf={\n",
    "                    \"stream.num.map.output.key.fields\":\"3\",\n",
    "                    \"mapreduce.job.output.key.comparator.class\":\n",
    "                        \"org.apache.hadoop.mapred.lib.KeyFieldBasedComparator\",\n",
    "                    \"mapreduce.partition.keycomparator.options\":\"-k3,3nr\"\n",
    "                          })]\n",
    "\n",
    "    \n",
    "if __name__ == '__main__':\n",
    "    PageVisitHW4_4.run()\n"
   ]
  },
  {
   "cell_type": "code",
   "execution_count": 280,
   "metadata": {
    "collapsed": false,
    "scrolled": true
   },
   "outputs": [
    {
     "name": "stdout",
     "output_type": "stream",
     "text": [
      "no configs found; falling back on auto-configuration\n",
      "no configs found; falling back on auto-configuration\n",
      "creating tmp directory /var/folders/dm/nsw7wjf91f1c74hgl17ldw040000gn/T/hw4_4.patrickng.20160209.163650.965338\n",
      "writing wrapper script to /var/folders/dm/nsw7wjf91f1c74hgl17ldw040000gn/T/hw4_4.patrickng.20160209.163650.965338/setup-wrapper.sh\n",
      "Using Hadoop version 2.7.1\n",
      "Copying local files into hdfs:///user/patrickng/tmp/mrjob/hw4_4.patrickng.20160209.163650.965338/files/\n",
      "\n",
      "PLEASE NOTE: Starting in mrjob v0.5.0, protocols will be strict by default. It's recommended you run your job with --strict-protocols or set up mrjob.conf as described at https://pythonhosted.org/mrjob/whats-new.html#ready-for-strict-protocols\n",
      "\n",
      "HADOOP: Unable to load native-hadoop library for your platform... using builtin-java classes where applicable\n",
      "HADOOP: packageJobJar: [/var/folders/dm/nsw7wjf91f1c74hgl17ldw040000gn/T/hadoop-unjar1265772579474090499/] [] /var/folders/dm/nsw7wjf91f1c74hgl17ldw040000gn/T/streamjob8741698168104669285.jar tmpDir=null\n",
      "Counters from step 1:\n",
      "  (no counters found)\n",
      "HADOOP: Unable to load native-hadoop library for your platform... using builtin-java classes where applicable\n",
      "HADOOP: packageJobJar: [/var/folders/dm/nsw7wjf91f1c74hgl17ldw040000gn/T/hadoop-unjar2149452171939515886/] [] /var/folders/dm/nsw7wjf91f1c74hgl17ldw040000gn/T/streamjob4376452091393197171.jar tmpDir=null\n",
      "Counters from step 2:\n",
      "  (no counters found)\n",
      "Streaming final output from hdfs:///user/patrickng/tmp/mrjob/hw4_4.patrickng.20160209.163650.965338/output\n",
      "http://www.microsoft.com/train_cert\t1295\t42616\t1\t\n",
      "http://www.microsoft.com/partner\t1284\t41108\t1\t\n",
      "http://www.microsoft.com/cinemania\t1283\t41033\t1\t\n",
      "http://www.microsoft.com/home\t1282\t41244\t1\t\n",
      "http://www.microsoft.com/intellimouse\t1281\t37099\t1\t\n",
      "http://www.microsoft.com/music\t1280\t41643\t1\t\n",
      "http://www.microsoft.com/msgolf\t1279\t31062\t1\t\n",
      "http://www.microsoft.com/hed\t1278\t41317\t1\t\n",
      "http://www.microsoft.com/stream\t1277\t30111\t1\t\n",
      "http://www.microsoft.com/vtestsupport\t1276\t40810\t1\t\n",
      "http://www.microsoft.com/security.\t1275\t28903\t1\t\n",
      "http://www.microsoft.com/pdc\t1274\t28493\t1\t\n",
      "http://www.microsoft.com/mdn\t1273\t28493\t1\t\n",
      "http://www.microsoft.com/softlib\t1272\t28493\t1\t\n",
      "http://www.microsoft.com/mdsn\t1271\t28493\t1\t\n",
      "http://www.microsoft.com/developr\t1270\t28493\t1\t\n",
      "http://www.microsoft.com/business\t1269\t41054\t1\t\n",
      "http://www.microsoft.com/javascript\t1268\t27503\t1\t\n",
      "http://www.microsoft.com/caribbean\t1267\t42071\t1\t\n",
      "http://www.microsoft.com/licenses\t1266\t35105\t1\t\n",
      "http://www.microsoft.com/ssafesupport\t1265\t39038\t1\t\n",
      "http://www.microsoft.com/se_partners\t1264\t40427\t1\t\n",
      "http://www.microsoft.com/services\t1263\t27503\t1\t\n",
      "http://www.microsoft.com/chile\t1262\t37425\t1\t\n",
      "http://www.microsoft.com/diyguide\t1261\t36145\t1\t\n",
      "http://www.microsoft.com/trial\t1260\t21894\t1\t\n",
      "http://www.microsoft.com/controls\t1259\t21424\t1\t\n",
      "http://www.microsoft.com/peru\t1258\t30514\t1\t\n",
      "http://www.microsoft.com/devvideos\t1257\t40127\t1\t\n",
      "http://www.microsoft.com/sia\t1256\t30930\t1\t\n",
      "http://www.microsoft.com/msmq\t1255\t22918\t1\t\n",
      "http://www.microsoft.com/ie3\t1254\t20190\t1\t\n",
      "http://www.microsoft.com/worddev\t1253\t32638\t1\t\n",
      "http://www.microsoft.com/giving\t1252\t37561\t1\t\n",
      "http://www.microsoft.com/referencesupport\t1251\t40693\t1\t\n",
      "http://www.microsoft.com/middleeast\t1250\t37938\t1\t\n",
      "http://www.microsoft.com/fortransupport\t1249\t41914\t1\t\n",
      "http://www.microsoft.com/softimage\t1248\t18347\t1\t\n",
      "http://www.microsoft.com/wineguide\t1247\t30024\t1\t\n",
      "http://www.microsoft.com/gamesdev\t1246\t42323\t1\t\n",
      "http://www.microsoft.com/ofc\t1245\t31934\t1\t\n",
      "http://www.microsoft.com/devwire\t1244\t41835\t1\t\n",
      "http://www.microsoft.com/usability\t1243\t28084\t1\t\n",
      "http://www.microsoft.com/msgarden\t1242\t41937\t1\t\n",
      "http://www.microsoft.com/india\t1241\t34793\t1\t\n",
      "http://www.microsoft.com/thailand\t1240\t39891\t1\t\n",
      "http://www.microsoft.com/msconsult\t1239\t38020\t1\t\n",
      "http://www.microsoft.com/exceldev\t1238\t26885\t1\t\n",
      "http://www.microsoft.com/devdays\t1237\t32583\t1\t\n",
      "http://www.microsoft.com/globaldev\t1236\t38325\t1\t\n",
      "http://www.microsoft.com/onlineeval\t1235\t37345\t1\t\n",
      "http://www.microsoft.com/off97cat\t1234\t42626\t1\t\n",
      "http://www.microsoft.com/vbscripts\t1233\t14363\t1\t\n",
      "http://www.microsoft.com/standards\t1232\t37637\t1\t\n",
      "http://www.microsoft.com/win32devsupport\t1231\t41626\t1\t\n",
      "http://www.microsoft.com/mailsupport\t1230\t40928\t1\t\n",
      "http://www.microsoft.com/uruguay\t1229\t26913\t1\t\n",
      "http://www.microsoft.com/vtest\t1228\t40882\t1\t\n",
      "http://www.microsoft.com/argentina\t1227\t42435\t1\t\n",
      "http://www.microsoft.com/msschedplussupport\t1226\t41980\t1\t\n",
      "http://www.microsoft.com/piracy\t1225\t42453\t1\t\n",
      "http://www.microsoft.com/atec\t1224\t40025\t1\t\n",
      "http://www.microsoft.com/finland\t1223\t42649\t1\t\n",
      "http://www.microsoft.com/msofc\t1222\t42103\t1\t\n",
      "http://www.microsoft.com/mstv\t1221\t41273\t1\t\n",
      "http://www.microsoft.com/macofficesupport\t1220\t41611\t1\t\n",
      "http://www.microsoft.com/ads\t1219\t20439\t1\t\n",
      "http://www.microsoft.com/publishersupport\t1218\t42541\t1\t\n",
      "http://www.microsoft.com/ireland\t1217\t38711\t1\t\n",
      "http://www.microsoft.com/vrml\t1216\t41329\t1\t\n",
      "http://www.microsoft.com/developer\t1215\t42572\t1\t\n",
      "http://www.microsoft.com/finserv\t1214\t35031\t1\t\n",
      "http://www.microsoft.com/corporate_solutions\t1213\t37985\t1\t\n",
      "http://www.microsoft.com/worldwide\t1212\t42071\t1\t\n",
      "http://www.microsoft.com/smsmgmtsupport\t1211\t42344\t1\t\n",
      "http://www.microsoft.com/snasupport\t1210\t31871\t1\t\n",
      "http://www.microsoft.com/turkey\t1209\t42513\t1\t\n",
      "http://www.microsoft.com/israel\t1208\t41548\t1\t\n",
      "http://www.microsoft.com/icp\t1207\t42008\t1\t\n",
      "http://www.microsoft.com/select\t1206\t42321\t1\t\n",
      "http://www.microsoft.com/hardwaresupport\t1205\t41597\t1\t\n",
      "http://www.microsoft.com/msscheduleplus\t1204\t40792\t1\t\n",
      "http://www.microsoft.com/danmark\t1203\t42518\t1\t\n",
      "http://www.microsoft.com/advtech\t1202\t41172\t1\t\n",
      "http://www.microsoft.com/hardware\t1201\t42203\t1\t\n",
      "http://www.microsoft.com/benelux\t1200\t42451\t1\t\n",
      "http://www.microsoft.com/feedback\t1199\t11644\t1\t\n",
      "http://www.microsoft.com/pictureit\t1198\t40310\t1\t\n",
      "http://www.microsoft.com/sqlsupport\t1197\t42285\t1\t\n",
      "http://www.microsoft.com/ie40\t1196\t11431\t1\t\n",
      "http://www.microsoft.com/portugal\t1195\t40458\t1\t\n",
      "http://www.microsoft.com/china\t1194\t40708\t1\t\n",
      "http://www.microsoft.com/offdevsupport\t1193\t41518\t1\t\n",
      "http://www.microsoft.com/visualjsupport\t1192\t38976\t1\t\n",
      "http://www.microsoft.com/management\t1191\t41812\t1\t\n",
      "http://www.microsoft.com/repository\t1190\t41570\t1\t\n",
      "http://www.microsoft.com/internet\t1189\t41768\t1\t\n",
      "http://www.microsoft.com/korea\t1188\t42506\t1\t\n",
      "http://www.microsoft.com/odbc\t1187\t42036\t1\t\n",
      "http://www.microsoft.com/college\t1186\t42539\t1\t\n",
      "http://www.microsoft.com/sna\t1185\t41832\t1\t\n",
      "http://www.microsoft.com/msexcelsupport\t1184\t42626\t1\t\n",
      "http://www.microsoft.com/italy\t1183\t42613\t1\t\n",
      "http://www.microsoft.com/fortran\t1182\t38633\t1\t\n",
      "http://www.microsoft.com/kidssupport\t1181\t42083\t1\t\n",
      "http://www.microsoft.com/slovenija\t1180\t35728\t1\t\n",
      "http://www.microsoft.com/colombia\t1179\t41490\t1\t\n",
      "http://www.microsoft.com/msdownload.\t1178\t31500\t1\t\n",
      "http://www.microsoft.com/events\t1177\t42437\t1\t\n",
      "http://www.microsoft.com/jscript\t1176\t41737\t1\t\n",
      "http://www.microsoft.com/msprojectsupport\t1175\t41737\t1\t\n",
      "http://www.microsoft.com/nz\t1174\t40040\t1\t\n",
      "http://www.microsoft.com/moli\t1173\t31767\t1\t\n",
      "http://www.microsoft.com/belgium\t1172\t42129\t1\t\n",
      "http://www.microsoft.com/merchant\t1171\t42374\t1\t\n",
      "http://www.microsoft.com/mail\t1170\t41306\t1\t\n",
      "http://www.microsoft.com/msproject\t1169\t42642\t1\t\n",
      "http://www.microsoft.com/salesinfo\t1168\t42646\t1\t\n",
      "http://www.microsoft.com/hwtest\t1167\t42650\t1\t\n",
      "http://www.microsoft.com/mexico\t1166\t41248\t1\t\n",
      "http://www.microsoft.com/poland\t1165\t42007\t1\t\n",
      "http://www.microsoft.com/smsmgmt\t1164\t41702\t1\t\n",
      "http://www.microsoft.com/opentype\t1163\t40475\t1\t\n",
      "http://www.microsoft.com/infoservsupport\t1162\t42285\t1\t\n",
      "http://www.microsoft.com/workssupport\t1161\t42263\t1\t\n",
      "http://www.microsoft.com/visualcsupport\t1160\t41764\t1\t\n",
      "http://www.microsoft.com/transaction\t1159\t41444\t1\t\n",
      "http://www.microsoft.com/imedia\t1158\t42705\t1\t\n",
      "http://www.microsoft.com/win32dev\t1157\t42001\t1\t\n",
      "http://www.microsoft.com/powered\t1156\t41710\t1\t\n",
      "http://www.microsoft.com/sidewalk\t1155\t42353\t1\t\n",
      "http://www.microsoft.com/project\t1154\t42467\t1\t\n",
      "http://www.microsoft.com/venezuela\t1153\t39053\t1\t\n",
      "http://www.microsoft.com/rus\t1152\t42312\t1\t\n",
      "http://www.microsoft.com/mspowerpointsupport\t1151\t41774\t1\t\n",
      "http://www.microsoft.com/infoserv\t1150\t42197\t1\t\n",
      "http://www.microsoft.com/adc\t1149\t39863\t1\t\n",
      "http://www.microsoft.com/channel_resources\t1148\t42697\t1\t\n",
      "http://www.microsoft.com/msft\t1147\t42555\t1\t\n",
      "http://www.microsoft.com/msp\t1146\t42269\t1\t\n",
      "http://www.microsoft.com/vfoxprosupport\t1145\t39965\t1\t\n",
      "http://www.microsoft.com/devnews\t1144\t41640\t1\t\n",
      "http://www.microsoft.com/workshoop\t1143\t42286\t1\t\n",
      "http://www.microsoft.com/southafrica\t1142\t42467\t1\t\n",
      "http://www.microsoft.com/europe\t1141\t42605\t1\t\n",
      "http://www.microsoft.com/netherlands\t1140\t42678\t1\t\n",
      "http://www.microsoft.com/k-12\t1139\t41482\t1\t\n",
      "http://www.microsoft.com/mind\t1138\t42572\t1\t\n",
      "http://www.microsoft.com/mscorp\t1137\t42704\t1\t\n",
      "http://www.microsoft.com/usa\t1136\t42364\t1\t\n",
      "http://www.microsoft.com/mswordsupport\t1135\t42659\t1\t\n",
      "http://www.microsoft.com/backoffice\t1134\t42479\t1\t\n",
      "http://www.microsoft.com/frontpagesupport\t1133\t41992\t1\t\n",
      "http://www.microsoft.com/msmoneysupport\t1132\t40053\t1\t\n",
      "http://www.microsoft.com/moneyzone\t1131\t42418\t1\t\n",
      "http://www.microsoft.com/syspro\t1130\t42603\t1\t\n",
      "http://www.microsoft.com/ado\t1129\t27780\t1\t\n",
      "http://www.microsoft.com/msf\t1128\t10286\t1\t\n",
      "http://www.microsoft.com/netshow\t1127\t42699\t1\t\n",
      "http://www.microsoft.com/mediamanager\t1126\t42030\t1\t\n",
      "http://www.microsoft.com/imagecomposer\t1125\t42237\t1\t\n",
      "http://www.microsoft.com/industry\t1124\t42667\t1\t\n",
      "http://www.microsoft.com/germany\t1123\t42708\t1\t\n",
      "http://www.microsoft.com/mindshare\t1122\t41995\t1\t\n",
      "http://www.microsoft.com/magazine\t1121\t41556\t1\t\n",
      "http://www.microsoft.com/switch\t1120\t10241\t1\t\n",
      "http://www.microsoft.com/corpinfo\t1119\t42453\t1\t\n",
      "http://www.microsoft.com/sql\t1118\t42598\t1\t\n",
      "http://www.microsoft.com/sidewinder\t1117\t41101\t1\t\n",
      "http://www.microsoft.com/switzerland\t1116\t40678\t1\t\n",
      "http://www.microsoft.com/hun\t1115\t36277\t1\t\n",
      "http://www.microsoft.com/servad\t1114\t41916\t1\t\n",
      "http://www.microsoft.com/security\t1113\t42682\t1\t\n",
      "http://www.microsoft.com/canada\t1112\t42445\t1\t\n",
      "http://www.microsoft.com/ssafe\t1111\t41318\t1\t\n",
      "http://www.microsoft.com/mastering\t1110\t41897\t1\t\n",
      "http://www.microsoft.com/technet\t1109\t42537\t1\t\n",
      "http://www.microsoft.com/teammanager\t1108\t42598\t1\t\n",
      "http://www.microsoft.com/slovakia\t1107\t38331\t1\t\n",
      "http://www.microsoft.com/cze\t1106\t41001\t1\t\n",
      "http://www.microsoft.com/france\t1105\t42281\t1\t\n",
      "http://www.microsoft.com/hk\t1104\t41560\t1\t\n",
      "http://www.microsoft.com/works\t1103\t41711\t1\t\n",
      "http://www.microsoft.com/homeessentials\t1102\t42546\t1\t\n",
      "http://www.microsoft.com/oledb\t1101\t41626\t1\t\n",
      "http://www.microsoft.com/education\t1100\t42568\t1\t\n",
      "http://www.microsoft.com/cio\t1099\t42543\t1\t\n",
      "http://www.microsoft.com/devonly\t1098\t42616\t1\t\n",
      "http://www.microsoft.com/latam\t1097\t42435\t1\t\n",
      "http://www.microsoft.com/mspress\t1096\t42566\t1\t\n",
      "http://www.microsoft.com/catalog\t1095\t42234\t1\t\n",
      "http://www.microsoft.com/mshome\t1094\t39554\t1\t\n",
      "http://www.microsoft.com/vba\t1093\t42025\t1\t\n",
      "http://www.microsoft.com/vfoxpro\t1092\t41717\t1\t\n",
      "http://www.microsoft.com/hwdev\t1091\t42650\t1\t\n",
      "http://www.microsoft.com/gamessupport\t1090\t42445\t1\t\n",
      "http://www.microsoft.com/officereference\t1089\t42598\t1\t\n",
      "http://www.microsoft.com/outlook\t1088\t42650\t1\t\n",
      "http://www.microsoft.com/proxy\t1087\t42577\t1\t\n",
      "http://www.microsoft.com/oem\t1086\t40233\t1\t\n",
      "http://www.microsoft.com/exchangesupport\t1085\t42577\t1\t\n",
      "http://www.microsoft.com/uk\t1084\t42516\t1\t\n",
      "http://www.microsoft.com/msaccesssupport\t1083\t42448\t1\t\n",
      "http://www.microsoft.com/access\t1082\t42240\t1\t\n",
      "http://www.microsoft.com/accessdev\t1081\t42694\t1\t\n",
      "http://www.microsoft.com/brasil\t1080\t42432\t1\t\n",
      "http://www.microsoft.com/australia\t1079\t42572\t1\t\n",
      "http://www.microsoft.com/ntserversupport\t1078\t42643\t1\t\n",
      "http://www.microsoft.com/msofficesupport\t1077\t42626\t1\t\n",
      "http://www.microsoft.com/ntwkssupport\t1076\t42701\t1\t\n",
      "http://www.microsoft.com/jobs\t1075\t42622\t1\t\n",
      "http://www.microsoft.com/ntworkstation\t1074\t42597\t1\t\n",
      "http://www.microsoft.com/taiwan\t1073\t42469\t1\t\n",
      "http://www.microsoft.com/vinterdev\t1072\t42446\t1\t\n",
      "http://www.microsoft.com/automap\t1071\t42621\t1\t\n",
      "http://www.microsoft.com/activex\t1070\t42692\t1\t\n",
      "http://www.microsoft.com/windowsce\t1069\t42613\t1\t\n",
      "http://www.microsoft.com/vbscript\t1068\t42025\t1\t\n",
      "http://www.microsoft.com/frontpage\t1067\t42456\t1\t\n",
      "http://www.microsoft.com/musicproducer\t1066\t42260\t1\t\n",
      "http://www.microsoft.com/java\t1065\t42641\t1\t\n",
      "http://www.microsoft.com/activeplatform\t1064\t42704\t1\t\n",
      "http://www.microsoft.com/intranet\t1063\t42337\t1\t\n",
      "http://www.microsoft.com/msaccess\t1062\t42331\t1\t\n",
      "http://www.microsoft.com/promo\t1061\t42576\t1\t\n",
      "http://www.microsoft.com/msword\t1060\t42659\t1\t\n",
      "http://www.microsoft.com/sverige\t1059\t42706\t1\t\n",
      "http://www.microsoft.com/referral\t1058\t42707\t1\t\n",
      "http://www.microsoft.com/powerpoint\t1057\t42667\t1\t\n",
      "http://www.microsoft.com/sports\t1056\t42507\t1\t\n",
      "http://www.microsoft.com/kids\t1055\t42424\t1\t\n",
      "http://www.microsoft.com/exchange\t1054\t42577\t1\t\n",
      "http://www.microsoft.com/visualj\t1053\t42688\t1\t\n",
      "http://www.microsoft.com/word\t1052\t42665\t1\t\n",
      "http://www.microsoft.com/scheduleplus\t1051\t41980\t1\t\n",
      "http://www.microsoft.com/macoffice\t1050\t42525\t1\t\n",
      "http://www.microsoft.com/supportnet\t1049\t42539\t1\t\n",
      "http://www.microsoft.com/publisher\t1048\t42541\t1\t\n",
      "http://www.microsoft.com/iesupport\t1046\t42702\t1\t\n",
      "http://www.microsoft.com/netmeeting\t1045\t42633\t1\t\n",
      "http://www.microsoft.com/mediadev\t1044\t42673\t1\t\n",
      "http://www.microsoft.com/smallbiz\t1043\t42626\t1\t\n",
      "http://www.microsoft.com/vstudio\t1042\t42467\t1\t\n",
      "http://www.microsoft.com/workshop\t1041\t42708\t1\t\n",
      "http://www.microsoft.com/office\t1040\t42698\t1\t\n",
      "http://www.microsoft.com/isp\t1039\t42656\t1\t\n",
      "http://www.microsoft.com/sbnmember\t1038\t42708\t1\t\n",
      "http://www.microsoft.com/windows95\t1037\t42650\t1\t\n",
      "http://www.microsoft.com/organizations\t1036\t42629\t1\t\n",
      "http://www.microsoft.com/windowssupport\t1035\t42710\t1\t\n",
      "http://www.microsoft.com/ie\t1034\t42705\t1\t\n",
      "http://www.microsoft.com/logostore\t1033\t41867\t1\t\n",
      "http://www.microsoft.com/games\t1032\t42700\t1\t\n",
      "http://www.microsoft.com/msoffice\t1031\t42667\t1\t\n",
      "http://www.microsoft.com/ntserver\t1030\t42707\t1\t\n",
      "http://www.microsoft.com/clipgallerylive\t1029\t42675\t1\t\n",
      "http://www.microsoft.com/oledev\t1028\t42063\t1\t\n",
      "http://www.microsoft.com/intdev\t1027\t42708\t1\t\n",
      "http://www.microsoft.com/sitebuilder\t1026\t42708\t1\t\n",
      "http://www.microsoft.com/gallery\t1025\t42657\t1\t\n",
      "http://www.microsoft.com/iis\t1024\t42692\t1\t\n",
      "http://www.microsoft.com/spain\t1023\t42665\t1\t\n",
      "http://www.microsoft.com/truetype\t1022\t42574\t1\t\n",
      "http://www.microsoft.com/visualc\t1021\t42523\t1\t\n",
      "http://www.microsoft.com/msdn\t1020\t42694\t1\t\n",
      "http://www.microsoft.com/mspowerpoint\t1019\t42311\t1\t\n",
      "http://www.microsoft.com/isapi\t1018\t42710\t1\t\n",
      "http://www.microsoft.com/products\t1017\t42692\t1\t\n",
      "http://www.microsoft.com/excel\t1016\t42626\t1\t\n",
      "http://www.microsoft.com/msexcel\t1015\t42626\t1\t\n",
      "http://www.microsoft.com/officefreestuff\t1014\t42698\t1\t\n",
      "http://www.microsoft.com/vbasicsupport\t1013\t42698\t1\t\n",
      "http://www.microsoft.com/outlookdev\t1012\t42650\t1\t\n",
      "http://www.microsoft.com/officedev\t1011\t42557\t1\t\n",
      "http://www.microsoft.com/vbasic\t1010\t42698\t1\t\n",
      "http://www.microsoft.com/windows\t1009\t42707\t1\t\n",
      "http://www.microsoft.com/msdownload\t1008\t42711\t1\t\n",
      "http://www.microsoft.com/ie_intl\t1007\t42664\t1\t\n",
      "http://www.microsoft.com/misc\t1006\t42612\t1\t\n",
      "http://www.microsoft.com/norge\t1005\t42698\t1\t\n",
      "http://www.microsoft.com/search\t1004\t42707\t1\t\n",
      "http://www.microsoft.com/kb\t1003\t42709\t1\t\n",
      "http://www.microsoft.com/athome\t1002\t42592\t1\t\n",
      "http://www.microsoft.com/support\t1001\t42710\t1\t\n",
      "http://www.microsoft.com/regwiz\t1000\t42679\t1\t\n",
      "STDERR: 16/02/10 00:38:09 WARN util.NativeCodeLoader: Unable to load native-hadoop library for your platform... using builtin-java classes where applicable\n",
      "\n",
      "removing tmp directory /var/folders/dm/nsw7wjf91f1c74hgl17ldw040000gn/T/hw4_4.patrickng.20160209.163650.965338\n",
      "deleting hdfs:///user/patrickng/tmp/mrjob/hw4_4.patrickng.20160209.163650.965338 from HDFS\n"
     ]
    }
   ],
   "source": [
    "!python ./hw4_4.py \\\n",
    "-r hadoop \\\n",
    "--file urls.data \\\n",
    "transformed-msweb.data"
   ]
  },
  {
   "cell_type": "markdown",
   "metadata": {},
   "source": [
    "## HW 4.5 Clustering Tweet Dataset\n",
    "```\n",
    "Here you will use a different dataset consisting of word-frequency distributions \n",
    "for 1,000 Twitter users. These Twitter users use language in very different ways,\n",
    "and were classified by hand according to the criteria:\n",
    "\n",
    "0: Human, where only basic human-human communication is observed.\n",
    "\n",
    "1: Cyborg, where language is primarily borrowed from other sources\n",
    "(e.g., jobs listings, classifieds postings, advertisements, etc...).\n",
    "\n",
    "2: Robot, where language is formulaically derived from unrelated sources\n",
    "(e.g., weather/seismology, police/fire event logs, etc...).\n",
    "\n",
    "3: Spammer, where language is replicated to high multiplicity\n",
    "(e.g., celebrity obsessions, personal promotion, etc... )\n",
    "\n",
    "Check out the preprints of  recent research,\n",
    "which spawned this dataset:\n",
    "\n",
    "http://arxiv.org/abs/1505.04342\n",
    "http://arxiv.org/abs/1508.01843\n",
    "\n",
    "The main data lie in the accompanying file:\n",
    "\n",
    "topUsers_Apr-Jul_2014_1000-words.txt\n",
    "\n",
    "and are of the form:\n",
    "\n",
    "USERID,CODE,TOTAL,WORD1_COUNT,WORD2_COUNT,...\n",
    ".\n",
    ".\n",
    "\n",
    "where\n",
    "\n",
    "USERID = unique user identifier\n",
    "CODE = 0/1/2/3 class code\n",
    "TOTAL = sum of the word counts\n",
    "\n",
    "Using this data, you will implement a 1000-dimensional K-means algorithm in MrJob on the users\n",
    "by their 1000-dimensional word stripes/vectors using several \n",
    "centroid initializations and values of K.\n",
    "\n",
    "Note that each \"point\" is a user as represented by 1000 words, and that\n",
    "word-frequency distributions are generally heavy-tailed power-laws\n",
    "(often called Zipf distributions), and are very rare in the larger class\n",
    "of discrete, random distributions. \n",
    "\n",
    "** For each user you will have to normalize by its \"TOTAL\" column. \n",
    "\n",
    "Try several parameterizations and initializations:\n",
    "\n",
    "(A) K=4 uniform random centroid-distributions over the 1000 words (generate 1000 random numbers and normalize the vectors)\n",
    "(B) K=2 perturbation-centroids, randomly perturbed from the aggregated (user-wide) distribution \n",
    "(C) K=4 perturbation-centroids, randomly perturbed from the aggregated (user-wide) distribution \n",
    "(D) K=4 \"trained\" centroids, determined by the sums across the classes. Use use the \n",
    "(row-normalized) class-level aggregates as 'trained' starting centroids (i.e., the training is already done for you!).\n",
    "Note that you do not have to compute the aggregated distribution or the \n",
    "class-aggregated distributions, which are rows in the auxiliary file:\n",
    "\n",
    "topUsers_Apr-Jul_2014_1000-words_summaries.txt\n",
    "\n",
    "Row 1: Words\n",
    "Row 2: Aggregated distribution across all classes\n",
    "Row 3-6 class-aggregated distributions for clases 0-3\n",
    "For (A),  we select 4 users randomly from a uniform distribution [1,...,1,000]\n",
    "For (B), (C), and (D)  you will have to use data from the auxiliary file: \n",
    "\n",
    "topUsers_Apr-Jul_2014_1000-words_summaries.txt\n",
    "\n",
    "This file contains 5 special word-frequency distributions:\n",
    "\n",
    "(1) The 1000-user-wide aggregate, which you will perturb for initializations\n",
    "in parts (B) and (C), and\n",
    "\n",
    "(2-5) The 4 class-level aggregates for each of the user-type classes (0/1/2/3)\n",
    "\n",
    "\n",
    "In parts (B) and (C), you will have to perturb the 1000-user aggregate \n",
    "(after initially normalizing by its sum, which is also provided).\n",
    "So if in (B) you want to create 2 perturbations of the aggregate, start\n",
    "with (1), normalize, and generate 1000 random numbers uniformly \n",
    "from the unit interval (0,1) twice (for two centroids), using:\n",
    "\n",
    "from numpy import random\n",
    "numbers = random.sample(1000)\n",
    "\n",
    "Take these 1000 numbers and add them (component-wise) to the 1000-user aggregate,\n",
    "and then renormalize to obtain one of your aggregate-perturbed initial centroids.\n",
    "\n",
    "\n",
    "###################################################################################\n",
    "## Geneate random initial centroids around the global aggregate\n",
    "## Part (B) and (C) of this question\n",
    "###################################################################################\n",
    "def startCentroidsBC(k):\n",
    "    counter = 0\n",
    "    for line in open(\"topUsers_Apr-Jul_2014_1000-words_summaries.txt\").readlines():\n",
    "        if counter == 2:        \n",
    "            data = re.split(\",\",line)\n",
    "            globalAggregate = [float(data[i+3])/float(data[2]) for i in range(1000)]\n",
    "        counter += 1\n",
    "    ## perturb the global aggregate for the four initializations    \n",
    "    centroids = []\n",
    "    for i in range(k):\n",
    "        rndpoints = random.sample(1000)\n",
    "        peturpoints = [rndpoints[n]/10+globalAggregate[n] for n in range(1000)]\n",
    "        centroids.append(peturpoints)\n",
    "        total = 0\n",
    "        for j in range(len(centroids[i])):\n",
    "            total += centroids[i][j]\n",
    "        for j in range(len(centroids[i])):\n",
    "            centroids[i][j] = centroids[i][j]/total\n",
    "    return centroids\n",
    "\n",
    "\n",
    "\n",
    "——\n",
    "For experiments A, B, C and D and iterate until a threshold (try 0.001) is reached.\n",
    "After convergence, print out a summary of the classes present in each cluster.\n",
    "In particular, report the composition as measured by the total\n",
    "portion of each class type (0-3) contained in each cluster,\n",
    "and discuss your findings and any differences in outcomes across parts A-D.\n",
    "\n",
    "```"
   ]
  },
  {
   "cell_type": "markdown",
   "metadata": {},
   "source": [
    "### Normalize the user input file"
   ]
  },
  {
   "cell_type": "code",
   "execution_count": 14,
   "metadata": {
    "collapsed": false
   },
   "outputs": [
    {
     "name": "stdout",
     "output_type": "stream",
     "text": [
      "Overwriting hw4_5_normalize_input.py\n"
     ]
    }
   ],
   "source": [
    "%%writefile hw4_5_normalize_input.py\n",
    "from __future__ import division # Use Python 3-style division\n",
    "import csv\n",
    "import sys\n",
    "\n",
    "'''\n",
    "USERID,CODE,TOTAL,WORD1_COUNT,WORD2_COUNT,...\n",
    ".\n",
    ".\n",
    "\n",
    "where\n",
    "\n",
    "USERID = unique user identifier\n",
    "CODE = 0/1/2/3 class code\n",
    "TOTAL = sum of the word counts\n",
    "'''\n",
    "\n",
    "with open(\"topUsers_Apr-Jul_2014_1000-words.txt\", \"r\") as csvfile:\n",
    "    for fields in csv.reader(csvfile):\n",
    "        output = [fields[1]] # Only need to use the Code for this assignment.\n",
    "        total = int(fields[2])\n",
    "        for i in range(3,1003):\n",
    "            output.append(str(int(fields[i])/total))\n",
    "            \n",
    "        print \",\".join(output)\n",
    "        "
   ]
  },
  {
   "cell_type": "code",
   "execution_count": 15,
   "metadata": {
    "collapsed": true
   },
   "outputs": [],
   "source": [
    "!python hw4_5_normalize_input.py > normalized_1000-words.txt"
   ]
  },
  {
   "cell_type": "markdown",
   "metadata": {},
   "source": [
    "### The MRJob"
   ]
  },
  {
   "cell_type": "code",
   "execution_count": 13,
   "metadata": {
    "collapsed": false
   },
   "outputs": [
    {
     "name": "stdout",
     "output_type": "stream",
     "text": [
      "Overwriting MRKmeans_4_5.py\n"
     ]
    }
   ],
   "source": [
    "%%writefile MRKmeans_4_5.py\n",
    "from numpy import argmin, array, random\n",
    "import re\n",
    "import numpy as np\n",
    "from mrjob.job import MRJob, MRStep\n",
    "from itertools import chain\n",
    "\n",
    "random.seed(10)\n",
    "\n",
    "# Calculate find the nearest centroid for data point \n",
    "def MinDist(datapoint, centroid_points):\n",
    "    datapoint = array(datapoint)\n",
    "    centroid_points = array(centroid_points)\n",
    "    diff = datapoint - centroid_points \n",
    "    diffsq = diff*diff\n",
    "    # Get the nearest centroid for each instance\n",
    "    minidx = argmin(list(diffsq.sum(axis = 1)))\n",
    "    return minidx\n",
    "\n",
    "# Check whether centroids converge\n",
    "def stop_criterion(centroid_points_old, centroid_points_new, T):\n",
    "    oldvalue = list(chain(*centroid_points_old))\n",
    "    newvalue = list(chain(*centroid_points_new))\n",
    "    Diff = [abs(x-y) for x, y in zip(oldvalue, newvalue)]\n",
    "    Flag = True\n",
    "    for i in Diff:\n",
    "        if(i>T):\n",
    "            Flag = False\n",
    "            break\n",
    "    return Flag\n",
    "\n",
    "# For part B and C\n",
    "def startCentroidsBC(k):\n",
    "    counter = 1 # It was originally 0, but I think that was a bug in the provided code.\n",
    "    for line in open(\"topUsers_Apr-Jul_2014_1000-words_summaries.txt\").readlines():\n",
    "        if counter == 2:        \n",
    "            data = re.split(\",\",line)\n",
    "            globalAggregate = [float(data[i+3])/float(data[2]) for i in range(1000)]\n",
    "        counter += 1\n",
    "    ## perturb the global aggregate for the four initializations    \n",
    "    centroids = []\n",
    "    for i in range(k):\n",
    "        rndpoints = random.sample(1000)\n",
    "        peturpoints = [rndpoints[n]/10+globalAggregate[n] for n in range(1000)]\n",
    "        centroids.append(peturpoints)\n",
    "        total = 0\n",
    "        for j in range(len(centroids[i])):\n",
    "            total += centroids[i][j]\n",
    "        for j in range(len(centroids[i])):\n",
    "            centroids[i][j] = centroids[i][j]/total\n",
    "    return centroids\n",
    "\n",
    "class MRKmeans(MRJob):\n",
    "    centroid_points = []\n",
    "    num_class = 4\n",
    "    \n",
    "    def configure_options(self):\n",
    "        super(MRKmeans, self).configure_options()\n",
    "        self.add_passthrough_option(\n",
    "            '-k', type='int', default=4, help='The number of centroids.')\n",
    "        \n",
    "    def load_options(self, args):\n",
    "        super(MRKmeans, self).load_options(args)\n",
    "        self.k = self.options.k\n",
    "        \n",
    "    def steps(self):\n",
    "        return [\n",
    "            MRStep(mapper_init = self.mapper_init, \n",
    "                   mapper=self.mapper,\n",
    "                   combiner = self.combiner,\n",
    "                   reducer=self.reducer)\n",
    "               ]\n",
    "\n",
    "    #load centroids info from file\n",
    "    def mapper_init(self):\n",
    "        self.centroid_points = [map(float,s.split('\\n')[0].split(',')) \n",
    "                                for s in open(\"Centroids.txt\").readlines()]\n",
    "        \n",
    "    #load data and output the nearest centroid index and data point \n",
    "    def mapper(self, _, line):\n",
    "        '''\n",
    "        CODE,NORMALIZED_WORD1_COUNT,NORMALIZED_WORD2_COUNT,...\n",
    "        .\n",
    "\n",
    "        where\n",
    "\n",
    "        CODE = 0/1/2/3 class code\n",
    "        '''\n",
    "        fields = line.split(',')\n",
    "        \n",
    "        code = int(fields[0])\n",
    "        codeCounts = [0]*self.num_class\n",
    "        codeCounts[code] = 1\n",
    "        \n",
    "        D = (map(float, fields[1:]))\n",
    "        yield int(MinDist(D,self.centroid_points)), (D, 1, codeCounts)\n",
    "        \n",
    "    # Combine sum of data points locally\n",
    "    def combiner(self, idx, inputdata):\n",
    "        num = 0\n",
    "        Ds = np.array([0.0]*1000)\n",
    "        codeCountsAll = np.array([0]*self.num_class)\n",
    "        \n",
    "        for D, n, codeCounts in inputdata:\n",
    "            num += n\n",
    "            Ds += D\n",
    "            codeCountsAll += codeCounts\n",
    "            \n",
    "        yield idx, (Ds.tolist(), num, codeCountsAll.tolist())\n",
    "        \n",
    "    # Aggregate sum for each cluster and then calculate the new centroids\n",
    "    def reducer(self, idx, inputdata): \n",
    "        centroid = np.array([0.0]*1000)\n",
    "        num = 0 \n",
    "        codeCountsAll = np.array([0]*self.num_class)\n",
    "        \n",
    "        for D, n, codeCounts in inputdata: \n",
    "            num += n\n",
    "            centroid += D\n",
    "            codeCountsAll += codeCounts\n",
    "            \n",
    "        centroid /= num\n",
    "\n",
    "        yield idx, (centroid.tolist(), codeCountsAll.tolist())\n",
    "      \n",
    "if __name__ == '__main__':\n",
    "    MRKmeans.run()"
   ]
  },
  {
   "cell_type": "markdown",
   "metadata": {},
   "source": [
    "### HW4.5 (A) - Driver\n",
    "Generate random initial centroids  \n",
    "New Centroids = initial centroids  \n",
    "While(1)：\n",
    "+ Cacluate new centroids\n",
    "+ stop if new centroids close to old centroids\n",
    "+ Updates centroids "
   ]
  },
  {
   "cell_type": "code",
   "execution_count": 19,
   "metadata": {
    "collapsed": false,
    "scrolled": true
   },
   "outputs": [
    {
     "name": "stderr",
     "output_type": "stream",
     "text": [
      "WARNING:mrjob.runner:\n",
      "WARNING:mrjob.runner:PLEASE NOTE: Starting in mrjob v0.5.0, protocols will be strict by default. It's recommended you run your job with --strict-protocols or set up mrjob.conf as described at https://pythonhosted.org/mrjob/whats-new.html#ready-for-strict-protocols\n",
      "WARNING:mrjob.runner:\n"
     ]
    },
    {
     "name": "stdout",
     "output_type": "stream",
     "text": [
      "iteration0:\n",
      "iteration1:"
     ]
    },
    {
     "name": "stderr",
     "output_type": "stream",
     "text": [
      "WARNING:mrjob.runner:\n",
      "WARNING:mrjob.runner:PLEASE NOTE: Starting in mrjob v0.5.0, protocols will be strict by default. It's recommended you run your job with --strict-protocols or set up mrjob.conf as described at https://pythonhosted.org/mrjob/whats-new.html#ready-for-strict-protocols\n",
      "WARNING:mrjob.runner:\n"
     ]
    },
    {
     "name": "stdout",
     "output_type": "stream",
     "text": [
      "\n",
      "iteration2:"
     ]
    },
    {
     "name": "stderr",
     "output_type": "stream",
     "text": [
      "WARNING:mrjob.runner:\n",
      "WARNING:mrjob.runner:PLEASE NOTE: Starting in mrjob v0.5.0, protocols will be strict by default. It's recommended you run your job with --strict-protocols or set up mrjob.conf as described at https://pythonhosted.org/mrjob/whats-new.html#ready-for-strict-protocols\n",
      "WARNING:mrjob.runner:\n"
     ]
    },
    {
     "name": "stdout",
     "output_type": "stream",
     "text": [
      "\n",
      "iteration3:"
     ]
    },
    {
     "name": "stderr",
     "output_type": "stream",
     "text": [
      "WARNING:mrjob.runner:\n",
      "WARNING:mrjob.runner:PLEASE NOTE: Starting in mrjob v0.5.0, protocols will be strict by default. It's recommended you run your job with --strict-protocols or set up mrjob.conf as described at https://pythonhosted.org/mrjob/whats-new.html#ready-for-strict-protocols\n",
      "WARNING:mrjob.runner:\n"
     ]
    },
    {
     "name": "stdout",
     "output_type": "stream",
     "text": [
      "\n",
      "iteration4:"
     ]
    },
    {
     "name": "stderr",
     "output_type": "stream",
     "text": [
      "WARNING:mrjob.runner:\n",
      "WARNING:mrjob.runner:PLEASE NOTE: Starting in mrjob v0.5.0, protocols will be strict by default. It's recommended you run your job with --strict-protocols or set up mrjob.conf as described at https://pythonhosted.org/mrjob/whats-new.html#ready-for-strict-protocols\n",
      "WARNING:mrjob.runner:\n"
     ]
    },
    {
     "name": "stdout",
     "output_type": "stream",
     "text": [
      "\n",
      "iteration5:"
     ]
    },
    {
     "name": "stderr",
     "output_type": "stream",
     "text": [
      "WARNING:mrjob.runner:\n",
      "WARNING:mrjob.runner:PLEASE NOTE: Starting in mrjob v0.5.0, protocols will be strict by default. It's recommended you run your job with --strict-protocols or set up mrjob.conf as described at https://pythonhosted.org/mrjob/whats-new.html#ready-for-strict-protocols\n",
      "WARNING:mrjob.runner:\n"
     ]
    },
    {
     "name": "stdout",
     "output_type": "stream",
     "text": [
      "\n",
      "iteration6:"
     ]
    },
    {
     "name": "stderr",
     "output_type": "stream",
     "text": [
      "WARNING:mrjob.runner:\n",
      "WARNING:mrjob.runner:PLEASE NOTE: Starting in mrjob v0.5.0, protocols will be strict by default. It's recommended you run your job with --strict-protocols or set up mrjob.conf as described at https://pythonhosted.org/mrjob/whats-new.html#ready-for-strict-protocols\n",
      "WARNING:mrjob.runner:\n"
     ]
    },
    {
     "name": "stdout",
     "output_type": "stream",
     "text": [
      "\n",
      "Classes distribution in each centroid:\n",
      "\n",
      "0: [78, 0, 4, 69]\n",
      "1: [13, 0, 11, 1]\n",
      "2: [660, 3, 2, 29]\n",
      "3: [1, 88, 37, 4]\n"
     ]
    }
   ],
   "source": [
    "from numpy import random\n",
    "from MRKmeans_4_5 import MRKmeans, stop_criterion\n",
    "\n",
    "k = 4\n",
    "mr_job = MRKmeans(args=['normalized_1000-words.txt', \n",
    "                        '--file', 'Centroids.txt',\n",
    "                        '-k', str(k)])\n",
    "\n",
    "random.seed(10)\n",
    "\n",
    "# Generate initial centroids\n",
    "centroid_points = []\n",
    "\n",
    "for i in range(k):\n",
    "    # generate 1000 random numbers and normalize the vectors\n",
    "    vector = random.random(1000)\n",
    "    vector = vector / vector.sum()\n",
    "    centroid_points.append(vector.tolist())\n",
    "\n",
    "def writeCentroidsFile():\n",
    "    with open('Centroids.txt', 'w+') as f:\n",
    "        f.writelines(','.join(str(j) for j in i) + '\\n' for i in centroid_points)\n",
    "\n",
    "writeCentroidsFile()\n",
    "\n",
    "# Update centroids iteratively\n",
    "i = 0\n",
    "while(1):\n",
    "    # save previous centoids to check convergency\n",
    "    centroid_points_old = centroid_points[:]\n",
    "    \n",
    "    codeCounts = [None] * k\n",
    "    \n",
    "    print \"iteration\"+str(i)+\":\"\n",
    "    with mr_job.make_runner() as runner: \n",
    "        runner.run()\n",
    "        \n",
    "        for line in runner.stream_output():\n",
    "            key, value =  mr_job.parse_output_line(line)\n",
    "            centroid_points[key] = value[0]\n",
    "            codeCounts[key] = value[1]\n",
    "    \n",
    "    writeCentroidsFile()        \n",
    "    \n",
    "    i = i + 1\n",
    "    if(stop_criterion(centroid_points_old, centroid_points, 0.001)):\n",
    "        break\n",
    "        \n",
    "print \"Classes distribution in each centroid:\\n\"\n",
    "for i in range(k):\n",
    "    print str(i) + \": \" + str(codeCounts[i])"
   ]
  },
  {
   "cell_type": "markdown",
   "metadata": {},
   "source": [
    "### HW4.5 (B) - Driver\n"
   ]
  },
  {
   "cell_type": "code",
   "execution_count": 15,
   "metadata": {
    "collapsed": false,
    "scrolled": true
   },
   "outputs": [
    {
     "name": "stderr",
     "output_type": "stream",
     "text": [
      "WARNING:mrjob.runner:\n",
      "WARNING:mrjob.runner:PLEASE NOTE: Starting in mrjob v0.5.0, protocols will be strict by default. It's recommended you run your job with --strict-protocols or set up mrjob.conf as described at https://pythonhosted.org/mrjob/whats-new.html#ready-for-strict-protocols\n",
      "WARNING:mrjob.runner:\n"
     ]
    },
    {
     "name": "stdout",
     "output_type": "stream",
     "text": [
      "iteration0:\n",
      "iteration1:"
     ]
    },
    {
     "name": "stderr",
     "output_type": "stream",
     "text": [
      "WARNING:mrjob.runner:\n",
      "WARNING:mrjob.runner:PLEASE NOTE: Starting in mrjob v0.5.0, protocols will be strict by default. It's recommended you run your job with --strict-protocols or set up mrjob.conf as described at https://pythonhosted.org/mrjob/whats-new.html#ready-for-strict-protocols\n",
      "WARNING:mrjob.runner:\n"
     ]
    },
    {
     "name": "stdout",
     "output_type": "stream",
     "text": [
      "\n",
      "iteration2:"
     ]
    },
    {
     "name": "stderr",
     "output_type": "stream",
     "text": [
      "WARNING:mrjob.runner:\n",
      "WARNING:mrjob.runner:PLEASE NOTE: Starting in mrjob v0.5.0, protocols will be strict by default. It's recommended you run your job with --strict-protocols or set up mrjob.conf as described at https://pythonhosted.org/mrjob/whats-new.html#ready-for-strict-protocols\n",
      "WARNING:mrjob.runner:\n"
     ]
    },
    {
     "name": "stdout",
     "output_type": "stream",
     "text": [
      "\n",
      "iteration3:"
     ]
    },
    {
     "name": "stderr",
     "output_type": "stream",
     "text": [
      "WARNING:mrjob.runner:\n",
      "WARNING:mrjob.runner:PLEASE NOTE: Starting in mrjob v0.5.0, protocols will be strict by default. It's recommended you run your job with --strict-protocols or set up mrjob.conf as described at https://pythonhosted.org/mrjob/whats-new.html#ready-for-strict-protocols\n",
      "WARNING:mrjob.runner:\n"
     ]
    },
    {
     "name": "stdout",
     "output_type": "stream",
     "text": [
      "\n",
      "iteration4:"
     ]
    },
    {
     "name": "stderr",
     "output_type": "stream",
     "text": [
      "WARNING:mrjob.runner:\n",
      "WARNING:mrjob.runner:PLEASE NOTE: Starting in mrjob v0.5.0, protocols will be strict by default. It's recommended you run your job with --strict-protocols or set up mrjob.conf as described at https://pythonhosted.org/mrjob/whats-new.html#ready-for-strict-protocols\n",
      "WARNING:mrjob.runner:\n"
     ]
    },
    {
     "name": "stdout",
     "output_type": "stream",
     "text": [
      "\n",
      "Classes distribution in each centroid:\n",
      "0: [1, 88, 40, 4]\n",
      "1: [751, 3, 14, 99]\n"
     ]
    }
   ],
   "source": [
    "from numpy import random\n",
    "from MRKmeans_4_5 import MRKmeans, stop_criterion, startCentroidsBC\n",
    "\n",
    "k = 2\n",
    "mr_job = MRKmeans(args=['normalized_1000-words.txt', \n",
    "                        '--file', 'Centroids.txt',\n",
    "                        '-k', str(k)])\n",
    "\n",
    "random.seed(10)\n",
    "\n",
    "# Generate initial centroids\n",
    "centroid_points = startCentroidsBC(k)\n",
    "\n",
    "def writeCentroidsFile():\n",
    "    with open('Centroids.txt', 'w+') as f:\n",
    "        f.writelines(','.join(str(j) for j in i) + '\\n' for i in centroid_points)\n",
    "\n",
    "writeCentroidsFile()\n",
    "\n",
    "# Update centroids iteratively\n",
    "i = 0\n",
    "while(1):\n",
    "    # save previous centoids to check convergency\n",
    "    centroid_points_old = centroid_points[:]\n",
    "    \n",
    "    codeCounts = [None] * k\n",
    "    \n",
    "    print \"iteration\"+str(i)+\":\"\n",
    "    with mr_job.make_runner() as runner: \n",
    "        runner.run()\n",
    "        \n",
    "        for line in runner.stream_output():\n",
    "            key, value =  mr_job.parse_output_line(line)\n",
    "            centroid_points[key] = value[0]\n",
    "            codeCounts[key] = value[1]\n",
    "    \n",
    "    writeCentroidsFile()        \n",
    "    \n",
    "    i = i + 1\n",
    "    if(stop_criterion(centroid_points_old, centroid_points, 0.001)):\n",
    "        break\n",
    "        \n",
    "print \"Classes distribution in each centroid:\"\n",
    "for i in range(k):\n",
    "    print str(i) + \": \" + str(codeCounts[i])"
   ]
  },
  {
   "cell_type": "markdown",
   "metadata": {},
   "source": [
    "### HW 4.5 (C) - Driver"
   ]
  },
  {
   "cell_type": "code",
   "execution_count": 17,
   "metadata": {
    "collapsed": false,
    "scrolled": true
   },
   "outputs": [
    {
     "name": "stderr",
     "output_type": "stream",
     "text": [
      "WARNING:mrjob.runner:\n",
      "WARNING:mrjob.runner:PLEASE NOTE: Starting in mrjob v0.5.0, protocols will be strict by default. It's recommended you run your job with --strict-protocols or set up mrjob.conf as described at https://pythonhosted.org/mrjob/whats-new.html#ready-for-strict-protocols\n",
      "WARNING:mrjob.runner:\n"
     ]
    },
    {
     "name": "stdout",
     "output_type": "stream",
     "text": [
      "iteration0:\n",
      "iteration1:"
     ]
    },
    {
     "name": "stderr",
     "output_type": "stream",
     "text": [
      "WARNING:mrjob.runner:\n",
      "WARNING:mrjob.runner:PLEASE NOTE: Starting in mrjob v0.5.0, protocols will be strict by default. It's recommended you run your job with --strict-protocols or set up mrjob.conf as described at https://pythonhosted.org/mrjob/whats-new.html#ready-for-strict-protocols\n",
      "WARNING:mrjob.runner:\n"
     ]
    },
    {
     "name": "stdout",
     "output_type": "stream",
     "text": [
      "\n",
      "iteration2:"
     ]
    },
    {
     "name": "stderr",
     "output_type": "stream",
     "text": [
      "WARNING:mrjob.runner:\n",
      "WARNING:mrjob.runner:PLEASE NOTE: Starting in mrjob v0.5.0, protocols will be strict by default. It's recommended you run your job with --strict-protocols or set up mrjob.conf as described at https://pythonhosted.org/mrjob/whats-new.html#ready-for-strict-protocols\n",
      "WARNING:mrjob.runner:\n"
     ]
    },
    {
     "name": "stdout",
     "output_type": "stream",
     "text": [
      "\n",
      "iteration3:"
     ]
    },
    {
     "name": "stderr",
     "output_type": "stream",
     "text": [
      "WARNING:mrjob.runner:\n",
      "WARNING:mrjob.runner:PLEASE NOTE: Starting in mrjob v0.5.0, protocols will be strict by default. It's recommended you run your job with --strict-protocols or set up mrjob.conf as described at https://pythonhosted.org/mrjob/whats-new.html#ready-for-strict-protocols\n",
      "WARNING:mrjob.runner:\n"
     ]
    },
    {
     "name": "stdout",
     "output_type": "stream",
     "text": [
      "\n",
      "iteration4:"
     ]
    },
    {
     "name": "stderr",
     "output_type": "stream",
     "text": [
      "WARNING:mrjob.runner:\n",
      "WARNING:mrjob.runner:PLEASE NOTE: Starting in mrjob v0.5.0, protocols will be strict by default. It's recommended you run your job with --strict-protocols or set up mrjob.conf as described at https://pythonhosted.org/mrjob/whats-new.html#ready-for-strict-protocols\n",
      "WARNING:mrjob.runner:\n"
     ]
    },
    {
     "name": "stdout",
     "output_type": "stream",
     "text": [
      "\n",
      "iteration5:"
     ]
    },
    {
     "name": "stderr",
     "output_type": "stream",
     "text": [
      "WARNING:mrjob.runner:\n",
      "WARNING:mrjob.runner:PLEASE NOTE: Starting in mrjob v0.5.0, protocols will be strict by default. It's recommended you run your job with --strict-protocols or set up mrjob.conf as described at https://pythonhosted.org/mrjob/whats-new.html#ready-for-strict-protocols\n",
      "WARNING:mrjob.runner:\n"
     ]
    },
    {
     "name": "stdout",
     "output_type": "stream",
     "text": [
      "\n",
      "iteration6:"
     ]
    },
    {
     "name": "stderr",
     "output_type": "stream",
     "text": [
      "WARNING:mrjob.runner:\n",
      "WARNING:mrjob.runner:PLEASE NOTE: Starting in mrjob v0.5.0, protocols will be strict by default. It's recommended you run your job with --strict-protocols or set up mrjob.conf as described at https://pythonhosted.org/mrjob/whats-new.html#ready-for-strict-protocols\n",
      "WARNING:mrjob.runner:\n"
     ]
    },
    {
     "name": "stdout",
     "output_type": "stream",
     "text": [
      "\n",
      "Classes distribution in each centroid:\n",
      "0: [29, 0, 3, 72]\n",
      "1: [13, 0, 12, 1]\n",
      "2: [709, 3, 2, 26]\n",
      "3: [1, 88, 37, 4]\n"
     ]
    }
   ],
   "source": [
    "from numpy import random\n",
    "from MRKmeans_4_5 import MRKmeans, stop_criterion, startCentroidsBC\n",
    "\n",
    "k = 4\n",
    "mr_job = MRKmeans(args=['normalized_1000-words.txt', \n",
    "                        '--file', 'Centroids.txt',\n",
    "                        '-k', str(k)])\n",
    "\n",
    "random.seed(10)\n",
    "\n",
    "# Generate initial centroids\n",
    "centroid_points = startCentroidsBC(k)\n",
    "\n",
    "def writeCentroidsFile():\n",
    "    with open('Centroids.txt', 'w+') as f:\n",
    "        f.writelines(','.join(str(j) for j in i) + '\\n' for i in centroid_points)\n",
    "\n",
    "writeCentroidsFile()\n",
    "\n",
    "# Update centroids iteratively\n",
    "i = 0\n",
    "while(1):\n",
    "    # save previous centoids to check convergency\n",
    "    centroid_points_old = centroid_points[:]\n",
    "    \n",
    "    codeCounts = [None] * k\n",
    "    \n",
    "    print \"iteration\"+str(i)+\":\"\n",
    "    with mr_job.make_runner() as runner: \n",
    "        runner.run()\n",
    "        \n",
    "        for line in runner.stream_output():\n",
    "            key, value =  mr_job.parse_output_line(line)\n",
    "            centroid_points[key] = value[0]\n",
    "            codeCounts[key] = value[1]\n",
    "    \n",
    "    writeCentroidsFile()        \n",
    "    \n",
    "    i = i + 1\n",
    "    if(stop_criterion(centroid_points_old, centroid_points, 0.001)):\n",
    "        break\n",
    "        \n",
    "print \"Classes distribution in each centroid:\"\n",
    "for i in range(k):\n",
    "    print str(i) + \": \" + str(codeCounts[i])"
   ]
  },
  {
   "cell_type": "markdown",
   "metadata": {},
   "source": [
    "### HW 4.5 (D) - Driver"
   ]
  },
  {
   "cell_type": "code",
   "execution_count": 18,
   "metadata": {
    "collapsed": false,
    "scrolled": true
   },
   "outputs": [
    {
     "name": "stderr",
     "output_type": "stream",
     "text": [
      "WARNING:mrjob.runner:\n",
      "WARNING:mrjob.runner:PLEASE NOTE: Starting in mrjob v0.5.0, protocols will be strict by default. It's recommended you run your job with --strict-protocols or set up mrjob.conf as described at https://pythonhosted.org/mrjob/whats-new.html#ready-for-strict-protocols\n",
      "WARNING:mrjob.runner:\n"
     ]
    },
    {
     "name": "stdout",
     "output_type": "stream",
     "text": [
      "iteration0:\n",
      "iteration1:"
     ]
    },
    {
     "name": "stderr",
     "output_type": "stream",
     "text": [
      "WARNING:mrjob.runner:\n",
      "WARNING:mrjob.runner:PLEASE NOTE: Starting in mrjob v0.5.0, protocols will be strict by default. It's recommended you run your job with --strict-protocols or set up mrjob.conf as described at https://pythonhosted.org/mrjob/whats-new.html#ready-for-strict-protocols\n",
      "WARNING:mrjob.runner:\n"
     ]
    },
    {
     "name": "stdout",
     "output_type": "stream",
     "text": [
      "\n",
      "iteration2:"
     ]
    },
    {
     "name": "stderr",
     "output_type": "stream",
     "text": [
      "WARNING:mrjob.runner:\n",
      "WARNING:mrjob.runner:PLEASE NOTE: Starting in mrjob v0.5.0, protocols will be strict by default. It's recommended you run your job with --strict-protocols or set up mrjob.conf as described at https://pythonhosted.org/mrjob/whats-new.html#ready-for-strict-protocols\n",
      "WARNING:mrjob.runner:\n"
     ]
    },
    {
     "name": "stdout",
     "output_type": "stream",
     "text": [
      "\n",
      "iteration3:"
     ]
    },
    {
     "name": "stderr",
     "output_type": "stream",
     "text": [
      "WARNING:mrjob.runner:\n",
      "WARNING:mrjob.runner:PLEASE NOTE: Starting in mrjob v0.5.0, protocols will be strict by default. It's recommended you run your job with --strict-protocols or set up mrjob.conf as described at https://pythonhosted.org/mrjob/whats-new.html#ready-for-strict-protocols\n",
      "WARNING:mrjob.runner:\n"
     ]
    },
    {
     "name": "stdout",
     "output_type": "stream",
     "text": [
      "\n",
      "iteration4:"
     ]
    },
    {
     "name": "stderr",
     "output_type": "stream",
     "text": [
      "WARNING:mrjob.runner:\n",
      "WARNING:mrjob.runner:PLEASE NOTE: Starting in mrjob v0.5.0, protocols will be strict by default. It's recommended you run your job with --strict-protocols or set up mrjob.conf as described at https://pythonhosted.org/mrjob/whats-new.html#ready-for-strict-protocols\n",
      "WARNING:mrjob.runner:\n"
     ]
    },
    {
     "name": "stdout",
     "output_type": "stream",
     "text": [
      "\n",
      "Classes distribution in each centroid:\n",
      "0: [749, 3, 14, 38]\n",
      "1: [0, 51, 0, 0]\n",
      "2: [1, 37, 40, 4]\n",
      "3: [2, 0, 0, 61]\n"
     ]
    }
   ],
   "source": [
    "from numpy import random\n",
    "import re\n",
    "from MRKmeans_4_5 import MRKmeans, stop_criterion\n",
    "\n",
    "k = 4\n",
    "mr_job = MRKmeans(args=['normalized_1000-words.txt', \n",
    "                        '--file', 'Centroids.txt',\n",
    "                        '-k', str(k)])\n",
    "\n",
    "random.seed(10)\n",
    "\n",
    "def startCentroidsD():\n",
    "    counter = 1\n",
    "    centroids = []\n",
    "    for line in open(\"topUsers_Apr-Jul_2014_1000-words_summaries.txt\").readlines():\n",
    "        if counter >= 3:        \n",
    "            data = re.split(\",\",line)\n",
    "            centroid = [float(data[i+3])/float(data[2]) for i in range(1000)]\n",
    "            centroids.append(centroid)\n",
    "        counter += 1\n",
    "        \n",
    "    return centroids\n",
    "\n",
    "def writeCentroidsFile():\n",
    "    with open('Centroids.txt', 'w+') as f:\n",
    "        f.writelines(','.join(str(j) for j in i) + '\\n' for i in centroid_points)\n",
    "\n",
    "# Generate initial centroids\n",
    "centroid_points = startCentroidsD()\n",
    "\n",
    "writeCentroidsFile()\n",
    "\n",
    "# Update centroids iteratively\n",
    "i = 0\n",
    "while(1):\n",
    "    # save previous centoids to check convergency\n",
    "    centroid_points_old = centroid_points[:]\n",
    "    \n",
    "    codeCounts = [None] * k\n",
    "    \n",
    "    print \"iteration\"+str(i)+\":\"\n",
    "    with mr_job.make_runner() as runner: \n",
    "        runner.run()\n",
    "        \n",
    "        for line in runner.stream_output():\n",
    "            key, value =  mr_job.parse_output_line(line)\n",
    "            centroid_points[key] = value[0]\n",
    "            codeCounts[key] = value[1]\n",
    "    \n",
    "    writeCentroidsFile()        \n",
    "    \n",
    "    i = i + 1\n",
    "    if(stop_criterion(centroid_points_old, centroid_points, 0.001)):\n",
    "        break\n",
    "        \n",
    "print \"Classes distribution in each centroid:\"\n",
    "for i in range(k):\n",
    "    print str(i) + \": \" + str(codeCounts[i])"
   ]
  },
  {
   "cell_type": "code",
   "execution_count": null,
   "metadata": {
    "collapsed": true
   },
   "outputs": [],
   "source": []
  }
 ],
 "metadata": {
  "kernelspec": {
   "display_name": "Python 2",
   "language": "python",
   "name": "python2"
  },
  "language_info": {
   "codemirror_mode": {
    "name": "ipython",
    "version": 2
   },
   "file_extension": ".py",
   "mimetype": "text/x-python",
   "name": "python",
   "nbconvert_exporter": "python",
   "pygments_lexer": "ipython2",
   "version": "2.7.10"
  }
 },
 "nbformat": 4,
 "nbformat_minor": 0
}
