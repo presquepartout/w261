{
 "cells": [
  {
   "cell_type": "markdown",
   "metadata": {},
   "source": [
    "Name: Patrick Ng  \n",
    "Class: W261-2  \n",
    "Date: Feb 24, 2016  \n",
    "HW06"
   ]
  },
  {
   "cell_type": "code",
   "execution_count": 9,
   "metadata": {
    "collapsed": true
   },
   "outputs": [],
   "source": [
    "%load_ext autoreload\n",
    "%autoreload 2"
   ]
  },
  {
   "cell_type": "markdown",
   "metadata": {},
   "source": [
    "## HW6.0.\n",
    "In mathematics, computer science, economics, or management science what is mathematical optimization? Give an example of a optimization problem that you have worked with directly or that your organization has worked on. Please describe the objective function and the decision variables. Was the project successful (deployed in the real world)? Describe.\n"
   ]
  },
  {
   "cell_type": "markdown",
   "metadata": {},
   "source": [
    "###### Answer ######"
   ]
  },
  {
   "cell_type": "markdown",
   "metadata": {},
   "source": [
    "In mathematics, computer science and operations research, mathematical optimization (alternatively, optimization or mathematical programming) is the selection of a best element (with regard to some criteria) from some set of available alternatives.  \n",
    "  \n",
    "In the simplest case, an optimization problem consists of maximizing or minimizing a real function by systematically choosing input values from within an allowed set and computing the value of the function.  \n",
    "  \n",
    "One optimization problem I worked on a few years ago was about \"how many people I should lay off in order to meet the department's next year budget goal\".  The budget was already given, and the objective function is the \"productivity of the team\".  The decision variables are \"who to layoff\".  It's a tough problem.  :-|"
   ]
  },
  {
   "cell_type": "markdown",
   "metadata": {},
   "source": [
    "## HW6.1 \n",
    "Optimization theory:   \n",
    "- For unconstrained univariate optimization:\n",
    "    - What are the first order  Necessary Conditions for Optimality (FOC)?\n",
    "    - What are the second order optimality conditions (SOC)? Give a mathematical defintion. \n",
    "    - Also in python, plot the univartiate function $x^3 -12x^2-6$ defined over the real domain -6 to +6.   \n",
    "        - Also plot its corresponding first and second derivative functions. \n",
    "        - Eyeballing these graphs, identify candidate optimal points and then classify them as local minimums or maximums. \n",
    "        - Highlight and label these points in your graphs. \n",
    "        - Justify your responses using the FOC and SOC.  \n",
    "  \n",
    "  \n",
    "- For unconstrained multi-variate optimization:\n",
    "    - what are the first order  Necessary Conditions for Optimality (FOC).  \n",
    "    - What are the second order optimality conditions (SOC)? Give a mathematical defintion. \n",
    "    - What is the Hessian matrix in this context?"
   ]
  },
  {
   "cell_type": "markdown",
   "metadata": {},
   "source": [
    "###### Answer ######"
   ]
  },
  {
   "cell_type": "markdown",
   "metadata": {},
   "source": [
    "- For unconstrained **univariate** optimization:\n",
    "    - First-order condition (FOC):\n",
    "        - Consider the function $y = f(x)$\n",
    "        - The necessary condition for a relative maximum or minimum is that the first-order derivative be zero, i.e. $f'(x) = 0$\n",
    "    - Second-order condition (SOC):\n",
    "        - If the first-order condition is satisfied at $x = x_0$,\n",
    "            - $f(x_0)$ is a local maximum if $f''(x_0) < 0$\n",
    "            - $f(x_0)$ is a local minimum if $f''(x_0) > 0$"
   ]
  },
  {
   "cell_type": "code",
   "execution_count": 57,
   "metadata": {
    "collapsed": false
   },
   "outputs": [],
   "source": [
    "# numpy, matplotlib, seaborn\n",
    "import numpy as np\n",
    "import matplotlib.pyplot as plt\n",
    "import matplotlib.cm as cm\n",
    "import seaborn as sns\n",
    "sns.set_style('whitegrid')\n",
    "\n",
    "%matplotlib inline\n",
    "\n",
    "def f(x):\n",
    "    return x**3 - 12*(x**2) - 6\n",
    "\n",
    "def f2(x):\n",
    "    return 3*(x**2) - 24*x\n",
    "\n",
    "def f3(x):\n",
    "    return 6*x - 24\n",
    "\n",
    "x = np.linspace(-6, 6, 100)"
   ]
  },
  {
   "cell_type": "code",
   "execution_count": 69,
   "metadata": {
    "collapsed": false
   },
   "outputs": [
    {
     "data": {
      "image/png": "[encoded data removed]",
      "text/plain": [
       "<matplotlib.figure.Figure at 0x11234edd0>"
      ]
     },
     "metadata": {},
     "output_type": "display_data"
    }
   ],
   "source": [
    "fig, axarr = plt.subplots(3, sharex=True, figsize=(3,9))\n",
    "\n",
    "axarr[0].set_title(r\"$f(x) = x^3 -12x^2-6$\")\n",
    "axarr[0].plot(x, np.vectorize(f)(x))\n",
    "axarr[0].set_ylabel(r\"$f(x)$\")\n",
    "axarr[0].set_ylim(-700, 100)\n",
    "axarr[0].plot([0], [-6], 'o')\n",
    "axarr[0].annotate('local maximum', fontsize = 11, xy=(0, -30), xytext=(1, -400),\n",
    "            arrowprops=dict(facecolor='black', shrink=0.05, width=2))\n",
    "\n",
    "axarr[1].set_title(r\"$f'(x) = 3x^2 -24x$\")\n",
    "axarr[1].plot(x, np.vectorize(f2)(x))\n",
    "axarr[1].set_ylabel(r\"$f'(x)$\")\n",
    "\n",
    "axarr[2].set_title(r\"$f'(x) = 6x - 24$\")\n",
    "axarr[2].plot(x, np.vectorize(f3)(x))\n",
    "axarr[2].set_xlabel(r\"$x$\")\n",
    "axarr[2].set_ylabel(r\"$f''(x)$\")\n",
    "\n",
    "\n",
    "plt.show()"
   ]
  },
  {
   "cell_type": "markdown",
   "metadata": {},
   "source": [
    "At point (0, -6):  \n",
    " - $f'(0) = 0$and so it meets the FOC.\n",
    " - $f''(0) = -24 < 0$ and according to SOC it is a local maximum."
   ]
  },
  {
   "cell_type": "markdown",
   "metadata": {},
   "source": [
    "- For unconstrained multi-variate optimization:\n",
    "    - Consider the multi-variate function: $f(x_1,...,x_n)$ :\n",
    "        - The FOC is $\\frac{\\partial f}{\\partial x_i}\\text{ = 0 for all }x_i$\n",
    "\n",
    "        - For the SOC:\n",
    "            - If the Hessian is positive definite at $x^*$, then f attains a local minimum at $x^*$. \n",
    "            - If the Hessian is negative definite at $x^*$, then f attains a local maximum at $x^*$. \n",
    "    - Hessian matrix:\n",
    "    ![\"Hessian matrix\"](https://upload.wikimedia.org/math/d/c/e/dce355e43fb1539863302f482da7e6f6.png)"
   ]
  },
  {
   "cell_type": "markdown",
   "metadata": {},
   "source": [
    "## HW6.2\n",
    "Taking x=1 as the first approximation($x^{t1}$) of a root of $x^3 + 2x -4 = 0$, use the Newton-Raphson method to calculate the second approximation (denoted as $x^{t2}$) of this root. (Hint the solution is $x^{t2}$=1.2)\n"
   ]
  },
  {
   "cell_type": "markdown",
   "metadata": {},
   "source": [
    "###### Answer ######"
   ]
  },
  {
   "cell_type": "markdown",
   "metadata": {},
   "source": [
    "According to the Newton-Raphson method:  \n",
    "&nbsp;&nbsp;&nbsp;&nbsp;$x^{i+1} = x^i - [f''(x^i)]^{-1} f'(x^i)$  \n",
    "\n",
    "$f'(x) = x^3 + 2x -4 = 0$  \n",
    "$f''(x) = 3x^2 + 2$  \n"
   ]
  },
  {
   "cell_type": "markdown",
   "metadata": {},
   "source": [
    "$x^{t2} = 1 - [f''(1)]^{-1}f'(1)$    \n",
    "$=1 - \\frac{1}{5} (-1) = 1.2$"
   ]
  },
  {
   "cell_type": "markdown",
   "metadata": {},
   "source": [
    "## HW6.3 Convex optimization \n",
    "- What makes an optimization problem convex? \n",
    "- What are the first order  Necessary Conditions for Optimality in convex optimization.  \n",
    "- What are the second order optimality conditions for convex optimization? \n",
    "- Are both necessary to determine the maximum or minimum of candidate optimal solutions?  \n",
    "\n",
    "Fill in the BLANKS here:\n",
    "Convex minimization, a subfield of optimization, studies the problem of minimizing BLANK functions over BLANK sets. The BLANK property can make optimization in some sense \"easier\" than the general case - for example, any local minimum must be a global minimum."
   ]
  },
  {
   "cell_type": "markdown",
   "metadata": {},
   "source": [
    "##### Answer ######"
   ]
  },
  {
   "cell_type": "markdown",
   "metadata": {},
   "source": [
    "- What makes an optimization problem convex? \n",
    "    - An optimization problem is convex if its objective function is a convex function, the inequality constraints $f_i$ are convex, and the equality constraints $h_i$ are affine.\n",
    "- What are the first order  Necessary Conditions for Optimality in convex optimization.  \n",
    "    - ???\n",
    "- What are the second order optimality conditions for convex optimization? \n",
    "    - ???\n",
    "- Are both necessary to determine the maximum or minimum of candidate optimal solutions?  \n",
    "    - ???\n",
    "  \n",
    "Convex minimization, a subfield of optimization, studies the problem of minimizing **convex** functions over **convex** sets. The **convexity** property can make optimization in some sense \"easier\" than the general case - for example, any local minimum must be a global minimum."
   ]
  },
  {
   "cell_type": "markdown",
   "metadata": {},
   "source": [
    "## HW 6.4\n",
    "The learning objective function for weighted ordinary least squares (WOLS) (aka weight linear regression) is defined as follows:  \n",
    "  \n",
    "$\\frac{1}{2}\\sum_{i=1}^{n} (weight_i  (W X_i - y_i)^2)$\n",
    "\n",
    "where training set consists of input variables X (in vector form) and a target variable $y$, and $W$ is the vector of coefficients for the linear regression model.\n",
    "\n",
    "Derive the gradient for this weighted OLS by hand; showing each step and also explaining each step."
   ]
  },
  {
   "cell_type": "markdown",
   "metadata": {},
   "source": [
    "With $X = (1, x)$ and $W = (w_0, w_1)$, the loss function is  \n",
    "$J(X) = \\frac{1}{2}\\sum_{i}(weight_i (w_0+w_1x_i-y_i)^2$\n",
    "\\begin{align*} \n",
    "\\frac{\\partial J(X)}{\\partial w_0} &= {\\frac{1}{2}\\sum_{i} \\partial {(weight_i  (W X_i - y_i)^2)}}\\\\\n",
    "&=abcd \\\\\n",
    "\\end{align*}"
   ]
  },
  {
   "cell_type": "markdown",
   "metadata": {},
   "source": [
    "## HW 6.5\n",
    "```\n",
    "Write a MapReduce job in MRJob to do the training at scale of a weighted OLS model using gradient descent.\n",
    "\n",
    "Generate one million datapoints just like in the following notebook:  http://nbviewer.ipython.org/urls/dl.dropbox.com/s/kritdm3mo1daolj/MrJobLinearRegressionGD.ipynb\n",
    "\n",
    "Weight each example as follows: \n",
    "\n",
    "weight(x)= abs(1/x)\n",
    "\n",
    "Sample 1% of the data in MapReduce and use the sampled dataset to train a (weighted if available in SciKit-Learn) linear regression model locally using  SciKit-Learn (http://scikit-learn.org/stable/modules/generated/sklearn.linear_model.LinearRegression.html)\n",
    "\n",
    "Plot the resulting weighted linear regression model versus the original model that you used to generate the data. Comment on your findings.\n",
    "```"
   ]
  },
  {
   "cell_type": "markdown",
   "metadata": {},
   "source": [
    "#### Generate one million datapoints ####"
   ]
  },
  {
   "cell_type": "code",
   "execution_count": 39,
   "metadata": {
    "collapsed": false
   },
   "outputs": [],
   "source": [
    "import numpy as np\n",
    "size = 1000000 # Let's do 1000 for now\n",
    "x = np.random.uniform(-4, 4, size)\n",
    "y = x * 1.0 - 4 + np.random.normal(0,0.5,size)\n",
    "data = zip(y,x)\n",
    "np.savetxt('LinearRegression.csv',data,delimiter = \",\")"
   ]
  },
  {
   "cell_type": "markdown",
   "metadata": {},
   "source": [
    "#### MRJob for each iteration in Gradient Descent ####"
   ]
  },
  {
   "cell_type": "code",
   "execution_count": 40,
   "metadata": {
    "collapsed": false
   },
   "outputs": [
    {
     "name": "stdout",
     "output_type": "stream",
     "text": [
      "Overwriting MrJobBatchGDUpdate_LinearRegression.py\n"
     ]
    }
   ],
   "source": [
    "%%writefile MrJobBatchGDUpdate_LinearRegression.py\n",
    "from __future__ import division\n",
    "from mrjob.job import MRJob, MRStep\n",
    "\n",
    "# This MrJob calculates the gradient of the entire training set \n",
    "#     Mapper: calculate partial gradient for each example  \n",
    "#     \n",
    "class MrJobBatchGDUpdate_LinearRegression(MRJob):\n",
    "    # run before the mapper processes any input\n",
    "    def read_weightsfile(self):\n",
    "        # Read weights file\n",
    "        with open('weights.txt', 'r') as f:\n",
    "            self.weights = [float(v) for v in f.readline().split(',')]\n",
    "        # Initialze gradient for this iteration\n",
    "        self.partial_Gradient = [0]*len(self.weights)\n",
    "        self.partial_sum = 0\n",
    "    \n",
    "    # Calculate partial gradient for each example \n",
    "    # This is batch gradient descent\n",
    "    # To understand this, better read: http://bit.ly/1QbSNb8\n",
    "    def partial_gradient(self, _, line):\n",
    "        # line has the format [y, x]\n",
    "        \n",
    "        D = (map(float,line.split(',')))\n",
    "        \n",
    "        w0, w1 = self.weights[0], self.weights[1]\n",
    "        y, x = D[0], D[1]\n",
    "\n",
    "        # Won't use wt. May delete it later!!!!!!!!!\n",
    "        \n",
    "        # wt is the \"weight\" in Weighted OLS\n",
    "        if x == 0:\n",
    "            # If x is 0, then wt (1/abs(x)) will be infinity.  In this case, we will\n",
    "            # ignore this data point\n",
    "            return\n",
    "        else:\n",
    "            wt = 1 / abs(x)\n",
    "            \n",
    "        # y_hat is the predicted value given current weights\n",
    "        y_hat = w0 + w1*x        \n",
    "        \n",
    "        # Update parial gradient vector with gradient from current example\n",
    "        # Note: we're not updating w0 and w1 yet.  self.partial_Gradient is\n",
    "        # used to store and accumulate all the change to w0 and w1 from all\n",
    "        # the data points.\n",
    "        self.partial_Gradient =  \\\n",
    "            [self.partial_Gradient[0] - wt*(y_hat - y), \\\n",
    "             self.partial_Gradient[1] - wt*(y_hat - y)*x]\n",
    "        \n",
    "        # Instead of averaging out by the number of data points, it is more\n",
    "        # intuitive to average out by sum by 1/abs(x)\n",
    "        self.partial_sum += 1 \n",
    "    \n",
    "    # Finally emit in-memory partial gradient and partial count\n",
    "    def partial_gradient_emit(self):\n",
    "        # partial_count is the number of data points this mapper has handled.\n",
    "        # partial_Gradient is the change to the gradient from these data points.\n",
    "        yield None, (self.partial_Gradient,self.partial_sum)\n",
    "        \n",
    "    # Accumulate partial gradient from mapper and emit total gradient \n",
    "    # Output: key = None, Value = gradient vector\n",
    "    def gradient_accumulater(self, _, partial_Gradient_Record): \n",
    "        total_gradient = [0]*2\n",
    "        total_sum = 0 # The total number of data points\n",
    "        for partial_Gradient,partial_sum in partial_Gradient_Record:\n",
    "            total_sum = total_sum + partial_sum\n",
    "            total_gradient[0] = total_gradient[0] + partial_Gradient[0]\n",
    "            total_gradient[1] = total_gradient[1] + partial_Gradient[1]\n",
    "        \n",
    "        # Seems like the learning rate is defined to be 1/N, where N is the number of data points\n",
    "        yield None, [v/total_sum for v in total_gradient]\n",
    "    \n",
    "    def steps(self):\n",
    "        return [MRStep(mapper_init=self.read_weightsfile,\n",
    "                       mapper=self.partial_gradient,\n",
    "                       mapper_final=self.partial_gradient_emit,\n",
    "                       reducer=self.gradient_accumulater)] \n",
    "    \n",
    "if __name__ == '__main__':\n",
    "    MrJobBatchGDUpdate_LinearRegression.run()"
   ]
  },
  {
   "cell_type": "markdown",
   "metadata": {},
   "source": [
    "#### Driver Code ####"
   ]
  },
  {
   "cell_type": "code",
   "execution_count": 38,
   "metadata": {
    "collapsed": false
   },
   "outputs": [
    {
     "name": "stdout",
     "output_type": "stream",
     "text": [
      "iteration =0  weights = [-1.35800932 -2.47835666]\n",
      "iteration =1  weights = [-1.83389001 -2.12626003]\n",
      "iteration =2  weights = [-2.22384313 -1.80992983]\n",
      "iteration =3  weights = [-2.54336669 -1.52570918]\n",
      "iteration =4  weights = [-2.80516524 -1.27031931]\n",
      "iteration =5  weights = [-3.01965317 -1.04081975]\n",
      "iteration =6  weights = [-3.19536739 -0.83457275]\n",
      "iteration =7  weights = [-3.33930568 -0.64921167]\n",
      "iteration =8  weights = [-3.45720402 -0.48261266]\n",
      "iteration =9  weights = [-3.55376399 -0.33286941]\n",
      "iteration =10  weights = [-3.63283925 -0.1982706 ]\n",
      "iteration =11  weights = [-3.69758831 -0.07727971]\n",
      "iteration =12  weights = [-3.75059989  0.031483  ]\n",
      "iteration =13  weights = [-3.79399561  0.12925666]\n",
      "iteration =14  weights = [-3.82951419  0.21715427]\n",
      "iteration =15  weights = [-3.85858052  0.29617559]\n",
      "iteration =16  weights = [-3.88236225  0.36721879]\n",
      "iteration =17  weights = [-3.90181615  0.43109085]\n",
      "iteration =18  weights = [-3.91772617  0.48851683]\n",
      "iteration =19  weights = [-3.93073464  0.54014828]\n",
      "iteration =20  weights = [-3.94136776  0.58657071]\n",
      "iteration =21  weights = [-3.95005662  0.62831032]\n",
      "iteration =22  weights = [-3.95715432  0.66584004]\n",
      "iteration =23  weights = [-3.96295009  0.69958492]\n",
      "iteration =24  weights = [-3.96768079  0.72992703]\n",
      "iteration =25  weights = [-3.97154038  0.75720981]\n",
      "iteration =26  weights = [-3.97468767  0.78174197]\n",
      "iteration =27  weights = [-3.97725268  0.80380103]\n",
      "iteration =28  weights = [-3.97934183  0.82363647]\n",
      "iteration =29  weights = [-3.98104224  0.84147257]\n",
      "iteration =30  weights = [-3.98242516  0.85751097]\n",
      "iteration =31  weights = [-3.98354892  0.87193296]\n",
      "iteration =32  weights = [-3.98446121  0.88490152]\n",
      "iteration =33  weights = [-3.98520102  0.89656318]\n",
      "iteration =34  weights = [-3.98580024  0.90704969]\n",
      "iteration =35  weights = [-3.98628494  0.91647953]\n",
      "iteration =36  weights = [-3.98667641  0.9249592 ]\n",
      "iteration =37  weights = [-3.98699203  0.93258446]\n",
      "iteration =38  weights = [-3.987246    0.93944143]\n",
      "iteration =39  weights = [-3.98744991  0.94560754]\n",
      "iteration =40  weights = [-3.98761322  0.95115242]\n",
      "iteration =41  weights = [-3.98774362  0.95613865]\n",
      "iteration =42  weights = [-3.98784739  0.96062254]\n",
      "iteration =43  weights = [-3.98792965  0.96465471]\n",
      "iteration =44  weights = [-3.98799455  0.96828066]\n",
      "iteration =45  weights = [-3.98804548  0.97154133]\n",
      "iteration =46  weights = [-3.98808519  0.97447352]\n",
      "iteration =47  weights = [-3.98811589  0.97711033]\n",
      "iteration =48  weights = [-3.98813941  0.97948151]\n",
      "Final weights\n",
      "\n",
      "[-3.98815719  0.98161383]\n"
     ]
    }
   ],
   "source": [
    "from numpy import random,array\n",
    "from MrJobBatchGDUpdate_LinearRegression import MrJobBatchGDUpdate_LinearRegression\n",
    "\n",
    "learning_rate = 0.05\n",
    "stop_criteria = 0.000005\n",
    "\n",
    "# Generate random values as inital weights\n",
    "weights = array([random.uniform(-3,3),random.uniform(-3,3)])\n",
    "# Write the weights to the files\n",
    "with open('weights.txt', 'w+') as f:\n",
    "    f.writelines(','.join(str(j) for j in weights))\n",
    "\n",
    "# create a mrjob instance for batch gradient descent update over all data\n",
    "mr_job = MrJobBatchGDUpdate_LinearRegression(args=['LinearRegression.csv',\n",
    "                                                  '--file', 'weights.txt',\n",
    "                                                  '--no-strict-protocols'])\n",
    "# Update centroids iteratively\n",
    "i = 0\n",
    "while(1):\n",
    "    print \"iteration =\"+str(i)+\"  weights =\",weights\n",
    "    # Save weights from previous iteration\n",
    "    weights_old = weights\n",
    "    with mr_job.make_runner() as runner: \n",
    "        runner.run()\n",
    "        # stream_output: get access of the output \n",
    "        for line in runner.stream_output():\n",
    "            # value is the gradient value\n",
    "            key,value =  mr_job.parse_output_line(line)\n",
    "            # Update weights\n",
    "            weights = weights + learning_rate*array(value)\n",
    "    i = i + 1\n",
    "    # Write the updated weights to file \n",
    "    with open('weights.txt', 'w+') as f:\n",
    "        f.writelines(','.join(str(j) for j in weights))\n",
    "    # Stop if weights get converged\n",
    "    if(sum((weights_old-weights)**2)<stop_criteria):\n",
    "        break\n",
    "        \n",
    "print \"Final weights\\n\"\n",
    "print weights"
   ]
  },
  {
   "cell_type": "code",
   "execution_count": null,
   "metadata": {
    "collapsed": true
   },
   "outputs": [],
   "source": []
  }
 ],
 "metadata": {
  "kernelspec": {
   "display_name": "Python 2",
   "language": "python",
   "name": "python2"
  },
  "language_info": {
   "codemirror_mode": {
    "name": "ipython",
    "version": 2
   },
   "file_extension": ".py",
   "mimetype": "text/x-python",
   "name": "python",
   "nbconvert_exporter": "python",
   "pygments_lexer": "ipython2",
   "version": "2.7.10"
  }
 },
 "nbformat": 4,
 "nbformat_minor": 0
}
