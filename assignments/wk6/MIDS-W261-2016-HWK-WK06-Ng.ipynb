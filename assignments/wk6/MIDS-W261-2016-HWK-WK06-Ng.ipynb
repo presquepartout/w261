{
 "cells": [
  {
   "cell_type": "markdown",
   "metadata": {},
   "source": [
    "Name: Patrick Ng  \n",
    "Class: W261-2  \n",
    "Date: Feb 24, 2016  \n",
    "HW06"
   ]
  },
  {
   "cell_type": "code",
   "execution_count": 9,
   "metadata": {
    "collapsed": true
   },
   "outputs": [],
   "source": [
    "%load_ext autoreload\n",
    "%autoreload 2"
   ]
  },
  {
   "cell_type": "markdown",
   "metadata": {},
   "source": [
    "## HW6.0.\n",
    "In mathematics, computer science, economics, or management science what is mathematical optimization? Give an example of a optimization problem that you have worked with directly or that your organization has worked on. Please describe the objective function and the decision variables. Was the project successful (deployed in the real world)? Describe.\n"
   ]
  },
  {
   "cell_type": "markdown",
   "metadata": {},
   "source": [
    "###### Answer ######"
   ]
  },
  {
   "cell_type": "markdown",
   "metadata": {},
   "source": [
    "In mathematics, computer science and operations research, mathematical optimization (alternatively, optimization or mathematical programming) is the selection of a best element (with regard to some criteria) from some set of available alternatives.  \n",
    "  \n",
    "In the simplest case, an optimization problem consists of maximizing or minimizing a real function by systematically choosing input values from within an allowed set and computing the value of the function.  \n",
    "  \n",
    "One optimization problem I worked on a few years ago was about \"how many people I should lay off in order to meet the department's next year budget goal\".  The budget was already given, and the objective function is the \"productivity of the team\".  The decision variables are \"who to layoff\".  It's a tough problem.  :-|"
   ]
  },
  {
   "cell_type": "markdown",
   "metadata": {},
   "source": [
    "## HW6.1 \n",
    "Optimization theory:   \n",
    "- For unconstrained univariate optimization:\n",
    "    - What are the first order  Necessary Conditions for Optimality (FOC)?\n",
    "    - What are the second order optimality conditions (SOC)? Give a mathematical defintion. \n",
    "    - Also in python, plot the univartiate function $x^3 -12x^2-6$ defined over the real domain -6 to +6.   \n",
    "        - Also plot its corresponding first and second derivative functions. \n",
    "        - Eyeballing these graphs, identify candidate optimal points and then classify them as local minimums or maximums. \n",
    "        - Highlight and label these points in your graphs. \n",
    "        - Justify your responses using the FOC and SOC.  \n",
    "  \n",
    "  \n",
    "- For unconstrained multi-variate optimization:\n",
    "    - what are the first order  Necessary Conditions for Optimality (FOC).  \n",
    "    - What are the second order optimality conditions (SOC)? Give a mathematical defintion. \n",
    "    - What is the Hessian matrix in this context?"
   ]
  },
  {
   "cell_type": "markdown",
   "metadata": {},
   "source": [
    "###### Answer ######"
   ]
  },
  {
   "cell_type": "markdown",
   "metadata": {},
   "source": [
    "- For unconstrained **univariate** optimization:\n",
    "    - First-order condition (FOC):\n",
    "        - Consider the function $y = f(x)$\n",
    "        - The necessary condition for a relative maximum or minimum is that the first-order derivative be zero, i.e. $f'(x) = 0$\n",
    "    - Second-order condition (SOC):\n",
    "        - If the first-order condition is satisfied at $x = x_0$,\n",
    "            - $f(x_0)$ is a local maximum if $f''(x_0) < 0$\n",
    "            - $f(x_0)$ is a local minimum if $f''(x_0) > 0$"
   ]
  },
  {
   "cell_type": "code",
   "execution_count": 57,
   "metadata": {
    "collapsed": false
   },
   "outputs": [],
   "source": [
    "# numpy, matplotlib, seaborn\n",
    "import numpy as np\n",
    "import matplotlib.pyplot as plt\n",
    "import matplotlib.cm as cm\n",
    "import seaborn as sns\n",
    "sns.set_style('whitegrid')\n",
    "\n",
    "%matplotlib inline\n",
    "\n",
    "def f(x):\n",
    "    return x**3 - 12*(x**2) - 6\n",
    "\n",
    "def f2(x):\n",
    "    return 3*(x**2) - 24*x\n",
    "\n",
    "def f3(x):\n",
    "    return 6*x - 24\n",
    "\n",
    "x = np.linspace(-6, 6, 100)"
   ]
  },
  {
   "cell_type": "code",
   "execution_count": 69,
   "metadata": {
    "collapsed": false
   },
   "outputs": [
    {
     "data": {
      "image/png": "[encoded data removed]",
      "text/plain": [
       "<matplotlib.figure.Figure at 0x11234edd0>"
      ]
     },
     "metadata": {},
     "output_type": "display_data"
    }
   ],
   "source": [
    "fig, axarr = plt.subplots(3, sharex=True, figsize=(3,9))\n",
    "\n",
    "axarr[0].set_title(r\"$f(x) = x^3 -12x^2-6$\")\n",
    "axarr[0].plot(x, np.vectorize(f)(x))\n",
    "axarr[0].set_ylabel(r\"$f(x)$\")\n",
    "axarr[0].set_ylim(-700, 100)\n",
    "axarr[0].plot([0], [-6], 'o')\n",
    "axarr[0].annotate('local maximum', fontsize = 11, xy=(0, -30), xytext=(1, -400),\n",
    "            arrowprops=dict(facecolor='black', shrink=0.05, width=2))\n",
    "\n",
    "axarr[1].set_title(r\"$f'(x) = 3x^2 -24x$\")\n",
    "axarr[1].plot(x, np.vectorize(f2)(x))\n",
    "axarr[1].set_ylabel(r\"$f'(x)$\")\n",
    "\n",
    "axarr[2].set_title(r\"$f'(x) = 6x - 24$\")\n",
    "axarr[2].plot(x, np.vectorize(f3)(x))\n",
    "axarr[2].set_xlabel(r\"$x$\")\n",
    "axarr[2].set_ylabel(r\"$f''(x)$\")\n",
    "\n",
    "\n",
    "plt.show()"
   ]
  },
  {
   "cell_type": "markdown",
   "metadata": {},
   "source": [
    "At point (0, -6):  \n",
    " - $f'(0) = 0$and so it meets the FOC.\n",
    " - $f''(0) = -24 < 0$ and according to SOC it is a local maximum."
   ]
  },
  {
   "cell_type": "markdown",
   "metadata": {},
   "source": [
    "- For unconstrained multi-variate optimization:\n",
    "    - Consider the multi-variate function: $f(x_1,...,x_n)$ :\n",
    "        - The FOC is $\\frac{\\partial f}{\\partial x_i}\\text{ = 0 for all }x_i$\n",
    "\n",
    "        - For the SOC:\n",
    "            - If the Hessian is positive definite at $x^*$, then f attains a local minimum at $x^*$. \n",
    "            - If the Hessian is negative definite at $x^*$, then f attains a local maximum at $x^*$. \n",
    "    - Hessian matrix:\n",
    "    ![\"Hessian matrix\"](https://upload.wikimedia.org/math/d/c/e/dce355e43fb1539863302f482da7e6f6.png)"
   ]
  },
  {
   "cell_type": "markdown",
   "metadata": {},
   "source": [
    "## HW6.2\n",
    "Taking x=1 as the first approximation($x^{t1}$) of a root of $x^3 + 2x -4 = 0$, use the Newton-Raphson method to calculate the second approximation (denoted as $x^{t2}$) of this root. (Hint the solution is $x^{t2}$=1.2)\n"
   ]
  },
  {
   "cell_type": "markdown",
   "metadata": {},
   "source": [
    "###### Answer ######"
   ]
  },
  {
   "cell_type": "markdown",
   "metadata": {},
   "source": [
    "According to the Newton-Raphson method:  \n",
    "&nbsp;&nbsp;&nbsp;&nbsp;$x^{i+1} = x^i - [f''(x^i)]^{-1} f'(x^i)$  \n",
    "\n",
    "$f'(x) = x^3 + 2x -4 = 0$  \n",
    "$f''(x) = 3x^2 + 2$  \n"
   ]
  },
  {
   "cell_type": "markdown",
   "metadata": {},
   "source": [
    "$x^{t2} = 1 - [f''(1)]^{-1}f'(1)$    \n",
    "$=1 - \\frac{1}{5} (-1) = 1.2$"
   ]
  },
  {
   "cell_type": "markdown",
   "metadata": {},
   "source": [
    "## HW6.3 Convex optimization \n",
    "- What makes an optimization problem convex? \n",
    "- What are the first order  Necessary Conditions for Optimality in convex optimization.  \n",
    "- What are the second order optimality conditions for convex optimization? \n",
    "- Are both necessary to determine the maximum or minimum of candidate optimal solutions?  \n",
    "\n",
    "Fill in the BLANKS here:\n",
    "Convex minimization, a subfield of optimization, studies the problem of minimizing BLANK functions over BLANK sets. The BLANK property can make optimization in some sense \"easier\" than the general case - for example, any local minimum must be a global minimum."
   ]
  },
  {
   "cell_type": "markdown",
   "metadata": {},
   "source": [
    "##### Answer ######"
   ]
  },
  {
   "cell_type": "markdown",
   "metadata": {},
   "source": [
    "- What makes an optimization problem convex? \n",
    "    - An optimization problem is convex if its objective function is a convex function, the inequality constraints $f_i$ are convex, and the equality constraints $h_i$ are affine.\n",
    "- What are the first order  Necessary Conditions for Optimality in convex optimization.  \n",
    "    - ???\n",
    "- What are the second order optimality conditions for convex optimization? \n",
    "    - ???\n",
    "- Are both necessary to determine the maximum or minimum of candidate optimal solutions?  \n",
    "    - ???\n",
    "  \n",
    "Convex minimization, a subfield of optimization, studies the problem of minimizing **convex** functions over **convex** sets. The **convexity** property can make optimization in some sense \"easier\" than the general case - for example, any local minimum must be a global minimum."
   ]
  },
  {
   "cell_type": "markdown",
   "metadata": {},
   "source": [
    "## HW 6.4\n",
    "The learning objective function for weighted ordinary least squares (WOLS) (aka weight linear regression) is defined as follows:  \n",
    "  \n",
    "$\\frac{1}{2}\\sum_{i=1}^{n} (weight_i  (W X_i - y_i)^2)$\n",
    "\n",
    "where training set consists of input variables X (in vector form) and a target variable $y$, and $W$ is the vector of coefficients for the linear regression model.\n",
    "\n",
    "Derive the gradient for this weighted OLS by hand; showing each step and also explaining each step."
   ]
  },
  {
   "cell_type": "markdown",
   "metadata": {},
   "source": [
    "With $X = (1, x)$ and $W = (w_0, w_1)$, the loss function is  \n",
    "$J(X) = \\frac{1}{2}\\sum_{i}(weight_i (w_0+w_1x_i-y_i)^2$\n",
    "\\begin{align*} \n",
    "\\frac{\\partial J(X)}{\\partial w_0} &= {\\frac{1}{2}\\sum_{i} \\partial {(weight_i  (W X_i - y_i)^2)}}\\\\\n",
    "&=abcd \\\\\n",
    "\\end{align*}"
   ]
  },
  {
   "cell_type": "markdown",
   "metadata": {},
   "source": [
    "## HW 6.5\n",
    "```\n",
    "Write a MapReduce job in MRJob to do the training at scale of a weighted OLS model using gradient descent.\n",
    "\n",
    "Generate one million datapoints just like in the following notebook:  http://nbviewer.ipython.org/urls/dl.dropbox.com/s/kritdm3mo1daolj/MrJobLinearRegressionGD.ipynb\n",
    "\n",
    "Weight each example as follows: \n",
    "\n",
    "weight(x)= abs(1/x)\n",
    "\n",
    "```"
   ]
  },
  {
   "cell_type": "markdown",
   "metadata": {},
   "source": [
    "#### Generate one million datapoints ####"
   ]
  },
  {
   "cell_type": "code",
   "execution_count": 39,
   "metadata": {
    "collapsed": false
   },
   "outputs": [],
   "source": [
    "import numpy as np\n",
    "size = 1000000 # Let's do 1000 for now\n",
    "x = np.random.uniform(-4, 4, size)\n",
    "y = x * 1.0 - 4 + np.random.normal(0,0.5,size)\n",
    "data = zip(y,x)\n",
    "np.savetxt('LinearRegression.csv',data,delimiter = \",\")"
   ]
  },
  {
   "cell_type": "markdown",
   "metadata": {},
   "source": [
    "#### MRJob for each iteration in Gradient Descent ####"
   ]
  },
  {
   "cell_type": "code",
   "execution_count": 47,
   "metadata": {
    "collapsed": false
   },
   "outputs": [
    {
     "name": "stdout",
     "output_type": "stream",
     "text": [
      "Writing WOLS.py\n"
     ]
    }
   ],
   "source": [
    "%%writefile WOLS.py\n",
    "from __future__ import division\n",
    "from mrjob.job import MRJob, MRStep\n",
    "\n",
    "# This MrJob calculates the gradient of the entire training set \n",
    "#     Mapper: calculate partial gradient for each example  \n",
    "#     \n",
    "class WOLS(MRJob):\n",
    "    # run before the mapper processes any input\n",
    "    def read_weightsfile(self):\n",
    "        # Read weights file\n",
    "        with open('weights.txt', 'r') as f:\n",
    "            self.weights = [float(v) for v in f.readline().split(',')]\n",
    "        # Initialze gradient for this iteration\n",
    "        self.partial_Gradient = [0]*len(self.weights)\n",
    "        self.partial_sum = 0\n",
    "    \n",
    "    # Calculate partial gradient for each example \n",
    "    # This is batch gradient descent\n",
    "    # To understand this, better read: http://bit.ly/1QbSNb8\n",
    "    def partial_gradient(self, _, line):\n",
    "        # line has the format [y, x]\n",
    "        \n",
    "        D = (map(float,line.split(',')))\n",
    "        \n",
    "        w0, w1 = self.weights[0], self.weights[1]\n",
    "        y, x = D[0], D[1]\n",
    "\n",
    "        # Won't use wt. May delete it later!!!!!!!!!\n",
    "        \n",
    "        # wt is the \"weight\" in Weighted OLS\n",
    "        if x == 0:\n",
    "            # If x is 0, then wt (1/abs(x)) will be infinity.  In this case, we will\n",
    "            # ignore this data point\n",
    "            return\n",
    "        else:\n",
    "            wt = 1 / abs(x)\n",
    "            \n",
    "        # y_hat is the predicted value given current weights\n",
    "        y_hat = w0 + w1*x        \n",
    "        \n",
    "        # Update parial gradient vector with gradient from current example\n",
    "        # Note: we're not updating w0 and w1 yet.  self.partial_Gradient is\n",
    "        # used to store and accumulate all the change to w0 and w1 from all\n",
    "        # the data points.\n",
    "        self.partial_Gradient =  \\\n",
    "            [self.partial_Gradient[0] - wt*(y_hat - y), \\\n",
    "             self.partial_Gradient[1] - wt*(y_hat - y)*x]\n",
    "        \n",
    "        self.partial_sum += 1 \n",
    "    \n",
    "    # Finally emit in-memory partial gradient and partial count\n",
    "    def partial_gradient_emit(self):\n",
    "        # partial_count is the number of data points this mapper has handled.\n",
    "        # partial_Gradient is the change to the gradient from these data points.\n",
    "        yield None, (self.partial_Gradient,self.partial_sum)\n",
    "        \n",
    "    # Accumulate partial gradient from mapper and emit total gradient \n",
    "    # Output: key = None, Value = gradient vector\n",
    "    def gradient_accumulater(self, _, partial_Gradient_Record): \n",
    "        total_gradient = [0]*2\n",
    "        total_sum = 0 # The total number of data points\n",
    "        for partial_Gradient,partial_sum in partial_Gradient_Record:\n",
    "            total_sum = total_sum + partial_sum\n",
    "            total_gradient[0] = total_gradient[0] + partial_Gradient[0]\n",
    "            total_gradient[1] = total_gradient[1] + partial_Gradient[1]\n",
    "        \n",
    "        # Divided by total_sum is for keeping the learning rate stable, otherwise\n",
    "        # the more samples the larger the learning rate will become.\n",
    "        yield None, [v/total_sum for v in total_gradient]\n",
    "    \n",
    "    def steps(self):\n",
    "        return [MRStep(mapper_init=self.read_weightsfile,\n",
    "                       mapper=self.partial_gradient,\n",
    "                       mapper_final=self.partial_gradient_emit,\n",
    "                       reducer=self.gradient_accumulater)] \n",
    "    \n",
    "if __name__ == '__main__':\n",
    "    WOLS.run()"
   ]
  },
  {
   "cell_type": "markdown",
   "metadata": {},
   "source": [
    "#### Driver Code ####"
   ]
  },
  {
   "cell_type": "code",
   "execution_count": 46,
   "metadata": {
    "collapsed": false,
    "scrolled": true
   },
   "outputs": [
    {
     "name": "stdout",
     "output_type": "stream",
     "text": [
      "iteration =0  weights = [ 0.68245294 -1.84643228]\n",
      "iteration =1  weights = [-0.07368369 -1.56198236]\n",
      "iteration =2  weights = [-0.7076525  -1.30593222]\n",
      "iteration =3  weights = [-1.23919325 -1.07544983]\n",
      "iteration =4  weights = [-1.68485605 -0.86798504]\n",
      "iteration =5  weights = [-2.05851674 -0.68124155]\n",
      "iteration =6  weights = [-2.37180906 -0.51315179]\n",
      "iteration =7  weights = [-2.63448694 -0.36185414]\n",
      "iteration =8  weights = [-2.85472823 -0.22567251]\n",
      "iteration =9  weights = [-3.03938942 -0.10309785]\n",
      "iteration =10  weights = [-3.1942191   0.00722841]\n",
      "iteration =11  weights = [-3.32403704  0.10652936]\n",
      "iteration =12  weights = [-3.43288422  0.19590611]\n",
      "iteration =13  weights = [-3.52414871  0.27634988]\n",
      "iteration =14  weights = [-3.60067113  0.34875302]\n",
      "iteration =15  weights = [-3.66483317  0.4139188 ]\n",
      "iteration =16  weights = [-3.71863167  0.4725703 ]\n",
      "iteration =17  weights = [-3.76374087  0.52535845]\n",
      "iteration =18  weights = [-3.80156449  0.57286914]\n",
      "iteration =19  weights = [-3.83327946  0.61562979]\n",
      "iteration =20  weights = [-3.85987257  0.65411512]\n",
      "iteration =21  weights = [-3.88217117  0.68875245]\n",
      "iteration =22  weights = [-3.90086896  0.71992641]\n",
      "iteration =23  weights = [-3.91654756  0.74798318]\n",
      "iteration =24  weights = [-3.92969463  0.77323439]\n",
      "iteration =25  weights = [-3.94071905  0.79596052]\n",
      "iteration =26  weights = [-3.94996363  0.81641399]\n",
      "iteration =27  weights = [-3.95771584  0.83482204]\n",
      "iteration =28  weights = [-3.96421668  0.85138917]\n",
      "iteration =29  weights = [-3.96966823  0.86629946]\n",
      "iteration =30  weights = [-3.97423993  0.87971856]\n",
      "iteration =31  weights = [-3.97807385  0.89179559]\n",
      "iteration =32  weights = [-3.98128912  0.90266475]\n",
      "iteration =33  weights = [-3.98398561  0.91244682]\n",
      "iteration =34  weights = [-3.98624708  0.92125053]\n",
      "iteration =35  weights = [-3.98814376  0.9291737 ]\n",
      "iteration =36  weights = [-3.98973452  0.9363044 ]\n",
      "iteration =37  weights = [-3.99106875  0.94272188]\n",
      "iteration =38  weights = [-3.99218785  0.94849747]\n",
      "iteration =39  weights = [-3.99312653  0.95369538]\n",
      "iteration =40  weights = [-3.99391391  0.95837336]\n",
      "iteration =41  weights = [-3.9945744   0.96258344]\n",
      "iteration =42  weights = [-3.99512846  0.96637239]\n",
      "iteration =43  weights = [-3.99559327  0.96978235]\n",
      "iteration =44  weights = [-3.99598322  0.97285123]\n",
      "iteration =45  weights = [-3.99631038  0.97561313]\n",
      "iteration =46  weights = [-3.99658488  0.97809876]\n",
      "iteration =47  weights = [-3.9968152   0.98033575]\n",
      "Final weights\n",
      "\n",
      "[-3.99700847  0.98234898]\n"
     ]
    }
   ],
   "source": [
    "from numpy import random,array\n",
    "from WOLS import WOLS\n",
    "\n",
    "learning_rate = 0.05\n",
    "stop_criteria = 0.000005\n",
    "\n",
    "# Generate random values as inital weights\n",
    "weights = array([random.uniform(-3,3),random.uniform(-3,3)])\n",
    "# Write the weights to the files\n",
    "with open('weights.txt', 'w+') as f:\n",
    "    f.writelines(','.join(str(j) for j in weights))\n",
    "\n",
    "# create a mrjob instance for batch gradient descent update over all data\n",
    "mr_job = WOLS(args=['LinearRegression.csv',\n",
    "                  '--file', 'weights.txt',\n",
    "                  '--no-strict-protocols',\n",
    "                  '-r', 'inline',\n",
    "                  '--quiet'])\n",
    "# Update centroids iteratively\n",
    "i = 0\n",
    "while(1):\n",
    "    print \"iteration =\"+str(i)+\"  weights =\",weights\n",
    "    # Save weights from previous iteration\n",
    "    weights_old = weights\n",
    "    with mr_job.make_runner() as runner: \n",
    "        runner.run()\n",
    "        # stream_output: get access of the output \n",
    "        for line in runner.stream_output():\n",
    "            # value is the gradient value\n",
    "            key,value =  mr_job.parse_output_line(line)\n",
    "            # Update weights\n",
    "            weights = weights + learning_rate*array(value)\n",
    "    i = i + 1\n",
    "    # Write the updated weights to file \n",
    "    with open('weights.txt', 'w+') as f:\n",
    "        f.writelines(','.join(str(j) for j in weights))\n",
    "    # Stop if weights get converged\n",
    "    if(sum((weights_old-weights)**2)<stop_criteria):\n",
    "        break\n",
    "        \n",
    "print \"Final weights\\n\"\n",
    "print weights"
   ]
  },
  {
   "cell_type": "markdown",
   "metadata": {},
   "source": [
    "Sample 1% of the data in MapReduce and use the sampled dataset to train a (weighted if available in SciKit-Learn) linear regression model locally using  SciKit-Learn (http://scikit-learn.org/stable/modules/generated/sklearn.linear_model.LinearRegression.html)\n",
    "\n",
    "Plot the resulting weighted linear regression model versus the original model that you used to generate the data. Comment on your findings."
   ]
  },
  {
   "cell_type": "code",
   "execution_count": 51,
   "metadata": {
    "collapsed": false
   },
   "outputs": [
    {
     "name": "stdout",
     "output_type": "stream",
     "text": [
      "Overwriting SampleData.py\n"
     ]
    }
   ],
   "source": [
    "%%writefile SampleData.py\n",
    "from __future__ import division\n",
    "from mrjob.job import MRJob, MRStep\n",
    "import random\n",
    "\n",
    "class SampleData(MRJob):\n",
    "    \n",
    "    def sample(self, _, line):\n",
    "        # Sample one percent of the data\n",
    "        if random.randint(1,100) == 1:\n",
    "            yield None, line\n",
    "    \n",
    "    def steps(self):\n",
    "        return [MRStep(mapper=self.sample)] \n",
    "    \n",
    "    \n",
    "if __name__ == '__main__':\n",
    "    SampleData.run()"
   ]
  },
  {
   "cell_type": "code",
   "execution_count": 56,
   "metadata": {
    "collapsed": false
   },
   "outputs": [
    {
     "name": "stdout",
     "output_type": "stream",
     "text": [
      "Writing RunSampleData.py\n"
     ]
    }
   ],
   "source": [
    "%%writefile RunSampleData.py\n",
    "from numpy import random,array\n",
    "from SampleData import SampleData\n",
    "\n",
    "mr_job = SampleData(args=['LinearRegression.csv', '-q'])\n",
    "\n",
    "with mr_job.make_runner() as runner: \n",
    "    runner.run()\n",
    "    # stream_output: get access of the output \n",
    "    for line in runner.stream_output():\n",
    "        key,value =  mr_job.parse_output_line(line)\n",
    "        print value"
   ]
  },
  {
   "cell_type": "code",
   "execution_count": 57,
   "metadata": {
    "collapsed": false
   },
   "outputs": [
    {
     "name": "stdout",
     "output_type": "stream",
     "text": [
      "No handlers could be found for logger \"mrjob.runner\"\r\n"
     ]
    }
   ],
   "source": [
    "!python RunSampleData.py > sampleData.csv"
   ]
  },
  {
   "cell_type": "code",
   "execution_count": 58,
   "metadata": {
    "collapsed": false
   },
   "outputs": [
    {
     "name": "stdout",
     "output_type": "stream",
     "text": [
      " 1000000 LinearRegression.csv\n",
      "    9939 sampleData.csv\n"
     ]
    }
   ],
   "source": [
    "!wc -l LinearRegression.csv\n",
    "!wc -l sampleData.csv"
   ]
  },
  {
   "cell_type": "code",
   "execution_count": 59,
   "metadata": {
    "collapsed": true
   },
   "outputs": [],
   "source": [
    "import numpy as np\n",
    "from sklearn import datasets, linear_model\n",
    "\n",
    "# Format y, x\n",
    "\n",
    "csv = np.genfromtxt(\"sampleData.csv\", delimiter=',')\n"
   ]
  },
  {
   "cell_type": "code",
   "execution_count": 97,
   "metadata": {
    "collapsed": true
   },
   "outputs": [],
   "source": [
    "y = csv[:,0:1]\n",
    "X = csv[:,1:2]\n",
    "weights = 1/abs(X)"
   ]
  },
  {
   "cell_type": "code",
   "execution_count": 148,
   "metadata": {
    "collapsed": false
   },
   "outputs": [
    {
     "data": {
      "text/plain": [
       "LinearRegression(copy_X=True, fit_intercept=True, n_jobs=1, normalize=False)"
      ]
     },
     "execution_count": 148,
     "metadata": {},
     "output_type": "execute_result"
    }
   ],
   "source": [
    "lm = linear_model.LinearRegression()\n",
    "lm.fit(X, y, sample_weight=weights.ravel())\n"
   ]
  },
  {
   "cell_type": "code",
   "execution_count": 149,
   "metadata": {
    "collapsed": false
   },
   "outputs": [
    {
     "data": {
      "image/png": "[encoded data removed]",
      "text/plain": [
       "<matplotlib.figure.Figure at 0x109eb0810>"
      ]
     },
     "metadata": {},
     "output_type": "display_data"
    }
   ],
   "source": [
    "%matplotlib inline\n",
    "import matplotlib.pyplot as plt\n",
    "import matplotlib.cm as cm\n",
    "import seaborn as sns\n",
    "sns.set_style('whitegrid')\n",
    "\n",
    "size= 500\n",
    "X_plot = np.linspace(-4, 4, size).reshape(-1,1)\n",
    "y_original = X_plot * 1.0 - 4 + np.random.normal(0,0.5,size).reshape(-1,1)\n",
    "\n",
    "plt.plot(X_plot, y_original, 'g.', alpha=0.5, label='Original model')\n",
    "plt.plot(X_plot, lm.predict(X_plot), 'b-', alpha=0.8, label='Weighted OLS')\n",
    "plt.legend(loc='upper center', shadow=True)\n",
    "plt.show()"
   ]
  },
  {
   "cell_type": "markdown",
   "metadata": {},
   "source": [
    "The weighted OLS looks similar to the original model, but it's slightly not centered at both ends, because the points at both ends have less weights."
   ]
  },
  {
   "cell_type": "markdown",
   "metadata": {},
   "source": [
    "## HW6.6 Clean up notebook for GMM via EM\n",
    "\n",
    "Using the following notebook as a starting point:\n",
    "\n",
    "http://nbviewer.jupyter.org/urls/dl.dropbox.com/s/0t7985e40fovlkw/EM-GMM-MapReduce%20Design%201.ipynb \n",
    "\n",
    "Improve this notebook as follows:\n",
    "-- Add in equations into the notebook (not images of equations) \n",
    "-- Number the equations\n",
    "-- Make sure the equation notation matches the code and the code and comments refer to the equations numbers\n",
    "-- Comment the code\n",
    "-- Rename/Reorganize the code to make it more readable\n",
    "-- Rerun the examples similar graphics (or possibly better graphics)"
   ]
  },
  {
   "cell_type": "markdown",
   "metadata": {},
   "source": [
    "##### Answer #####\n",
    "The modified notebook can be found in:\n",
    "http://nbviewer.jupyter.org/urls/github.com/patng323/w261/blob/submitted-wk6/assignments/wk6/EM-GMM-MapReduce%20Design%201-Modified.ipynb?flush_cache=true"
   ]
  },
  {
   "cell_type": "markdown",
   "metadata": {},
   "source": [
    "## HW6.7  Implement Bernoulli Mixture Model via EM\n",
    "\n",
    "Implement the EM clustering algorithm to determine Bernoulli Mixture Model for discrete data in MRJob.\n",
    "\n",
    "As a unit test use the dataset in the following slides:\n",
    "\n",
    "https://www.dropbox.com/s/maoj9jidxj1xf5l/MIDS-Live-Lecture-06-EM-Bernouilli-MM-Systems-Test.pdf?dl=0\n",
    "\n",
    "Cross-check that you get the same cluster assignments and cluster Bernouilli models as presented in the slides after 25 iterations. Dont forget the smoothing.\n",
    "\n",
    "As a full test: use the same dataset from HW 4.5, the Tweet Dataset. \n",
    "Using this data, you will implement a 1000-dimensional EM-based Bernoulli Mixture Model  algorithm in MrJob on the users\n",
    "by their 1000-dimensional word stripes/vectors using K = 4.  Use the same smoothing as in the unit test.\n",
    "\n",
    "Repeat this experiment using your KMeans MRJob implementation fron HW4.\n",
    "Report the rand index score using the class code as ground truth label for both algorithms and comment on your findings.\n",
    "\n",
    "Here is some more information on the Tweet Dataset.\n",
    "\n",
    "Here you will use a different dataset consisting of word-frequency distributions \n",
    "for 1,000 Twitter users. These Twitter users use language in very different ways,\n",
    "and were classified by hand according to the criteria:\n",
    "```\n",
    "0: Human, where only basic human-human communication is observed.\n",
    "\n",
    "1: Cyborg, where language is primarily borrowed from other sources\n",
    "(e.g., jobs listings, classifieds postings, advertisements, etc...).\n",
    "\n",
    "2: Robot, where language is formulaically derived from unrelated sources\n",
    "(e.g., weather/seismology, police/fire event logs, etc...).\n",
    "\n",
    "3: Spammer, where language is replicated to high multiplicity\n",
    "(e.g., celebrity obsessions, personal promotion, etc... )\n",
    "```\n",
    "\n",
    "Check out the preprints of  recent research,\n",
    "which spawned this dataset:\n",
    "\n",
    "http://arxiv.org/abs/1505.04342\n",
    "http://arxiv.org/abs/1508.01843\n",
    "\n",
    "The main data lie in the accompanying file:\n",
    "\n",
    "topUsers_Apr-Jul_2014_1000-words.txt\n",
    "\n",
    "and are of the form:\n",
    "```\n",
    "USERID,CODE,TOTAL,WORD1_COUNT,WORD2_COUNT,...\n",
    ".\n",
    ".\n",
    "\n",
    "where\n",
    "\n",
    "USERID = unique user identifier\n",
    "CODE = 0/1/2/3 class code\n",
    "TOTAL = sum of the word counts\n",
    "```\n",
    "\n",
    "Using this data, you will implement a 1000-dimensional K-means algorithm in MrJob on the users\n",
    "by their 1000-dimensional word stripes/vectors using several \n",
    "centroid initializations and values of K.\n"
   ]
  },
  {
   "cell_type": "markdown",
   "metadata": {},
   "source": [
    "### E-Step: ###\n",
    "The expectation step computes the soft assignment of documents to clusters given the current parameters $q_{mk}$ and $\\alpha_k$:    \n",
    "\n",
    "#### How to prevent underflow:####\n",
    "\\begin{align}\n",
    "r_{nk} &= \n",
    "\\frac\n",
    "{\\alpha_k (\\prod_{t_m\\in{d_n}} q_{mk}) (\\prod_{t_m\\notin{d_n}} (1-q_{mk}))}\n",
    "{\\sum_{k=1}^K \\alpha_k (\\prod_{t_m\\in{d_n}} q_{mk}) (\\prod_{t_m\\notin{d_n}} (1-q_{mk}))} \\\\\n",
    "&= \n",
    "\\frac\n",
    "{\\alpha_k e^{log((\\prod_{t_m\\in{d_n}} q_{mk}) (\\prod_{t_m\\notin{d_n}} (1-q_{mk})))}}\n",
    "{\\sum_{k=1}^K \\alpha_k e^{log((\\prod_{t_m\\in{d_n}} q_{mk}) (\\prod_{t_m\\notin{d_n}} (1-q_{mk})))}} \\\\\n",
    "&= \n",
    "\\frac\n",
    "{\\alpha_k e^{\\sum_{t_m\\in{d_n}} log(q_{mk}) + \\sum_{t_m\\notin{d_n}} log(1-q_{mk})}}\n",
    "{\\sum_{k=1}^K \\alpha_k e^{\\sum_{t_m\\in{d_n}} log(q_{mk}) + \\sum_{t_m\\notin{d_n}} log(1-q_{mk})}} \\\\\n",
    "\\end{align}\n",
    "<br/>\n",
    "\n",
    "\\begin{align}\n",
    "log(r_{nk}) &= \n",
    "log(\\frac\n",
    "{\\alpha_k e^{\\sum_{t_m\\in{d_n}} log(q_{mk}) + \\sum_{t_m\\notin{d_n}} log(1-q_{mk})}}\n",
    "{\\sum_{k=1}^K \\alpha_k e^{\\sum_{t_m\\in{d_n}} log(q_{mk}) + \\sum_{t_m\\notin{d_n}} log(1-q_{mk})}}\n",
    ") \\\\\n",
    "&=\n",
    "log({\\alpha_k e^{\\sum_{t_m\\in{d_n}} log(q_{mk}) + \\sum_{t_m\\notin{d_n}} log(1-q_{mk})}}) - log({\\sum_{k=1}^K \\alpha_k e^{\\sum_{t_m\\in{d_n}} log(q_{mk}) + \\sum_{t_m\\notin{d_n}} log(1-q_{mk})}}) \\\\\n",
    "&=\n",
    "log(\\alpha_k) + log({e^{\\sum_{t_m\\in{d_n}} log(q_{mk}) + \\sum_{t_m\\notin{d_n}} log(1-q_{mk})}}) - log({\\sum_{k=1}^K \\alpha_k e^{\\sum_{t_m\\in{d_n}} log(q_{mk}) + \\sum_{t_m\\notin{d_n}} log(1-q_{mk})}}) \\\\\n",
    "&=\n",
    "log(\\alpha_k) + \n",
    "(\\sum_{t_m\\in{d_n}} log(q_{mk}) + \\sum_{t_m\\notin{d_n}} log(1-q_{mk})) - \n",
    "log({\\sum_{k=1}^K \\alpha_k e^{\\sum_{t_m\\in{d_n}} log(q_{mk}) + \\sum_{t_m\\notin{d_n}} log(1-q_{mk})}}) \\\\\n",
    "&=\n",
    "term_1 + term_2 - term_3  \\\\\n",
    "&=\n",
    "term_1 + term_2 - \n",
    "log({\\sum_{k=1}^K \\alpha_k e^{term_2}}) \\\\\n",
    "\\end{align}\n",
    "<br/>\n",
    "\\begin{align}\n",
    "r_{nk} = e^{term_1 + term_2 - term_3}~~~~~~~~~(1)\n",
    "\\end{align}\n",
    "\n",
    "**Note:**\n",
    "- $term_3$ can be calculated by using `scipy.misc.logsumexp(a,b)`\n",
    "- Again, $r_{nk}$ is the soft assignment of document $d_n$ to cluster $k$\n",
    "<br/>"
   ]
  },
  {
   "cell_type": "markdown",
   "metadata": {},
   "source": [
    "### M-Step:###\n",
    "The maximization step recomputes the conditional parameters $q_{mk}$ and the priors $\\alpha_k$.   \n",
    "\n",
    "\\begin{align}\n",
    "q_{mk} = \n",
    "\\frac\n",
    "{\\sum_{n=1}^N r_{nk} I(t_m \\in d_n)}\n",
    "{\\sum_{n=1}^N r_{nk}}~~~~~(2) \\\\\n",
    "\\\\\n",
    "\\alpha_k = \n",
    "\\frac\n",
    "{\\sum_{n=1}^N r_{nk}}\n",
    "{N}~~~~~~~~(3)\n",
    "\\end{align}\n",
    "<br/>\n",
    "**Notes:**\n",
    "- $q_{mk}$ (conditional param) = P($term_m$ | $cluster_k$) = Probability of a doc from $cluster_k$ containing $term_m$\n",
    "- $\\alpha_k$ (priors) = The probability that a document d is in $cluster_k$ if we have no information about d (i.e. prob of assignment being seeing the data)\n",
    "- $I(t_m \\in d_n)$ = 1 if $t_m \\in d_n$ and 0 otherwise.\n"
   ]
  },
  {
   "cell_type": "markdown",
   "metadata": {},
   "source": [
    "### Generate unit test files, according to table 16.3 in IR book ###"
   ]
  },
  {
   "cell_type": "code",
   "execution_count": 178,
   "metadata": {
    "collapsed": false
   },
   "outputs": [
    {
     "name": "stdout",
     "output_type": "stream",
     "text": [
      "vocab: ['0:africa', '1:beans', '2:beet', '3:black', '4:brazil', '5:butter', '6:cake', '7:cane', '8:chocolate', '9:cocoa', '10:forest', '11:ghana', '12:harvest', '13:hot', '14:icing', '15:sugar', '16:sweet', '17:truffles']\n",
      "doc[0]: ('hot', 'chocolate', 'cocoa', 'beans')\n",
      "doc[10]: ('cake', 'black', 'forest')\n"
     ]
    }
   ],
   "source": [
    "# The examples in the book is base-1\n",
    "# All index in the code is base-0\n",
    "# Beware!\n",
    "\n",
    "doc = {}\n",
    "doc[0] = ('hot', 'chocolate', 'cocoa', 'beans')\n",
    "doc[1] = ('cocoa', 'ghana', 'africa')\n",
    "doc[2] = ('beans', 'harvest', 'ghana')\n",
    "doc[3] = ('cocoa', 'butter')\n",
    "doc[4] = ('butter', 'truffles')\n",
    "doc[5] = ('sweet', 'chocolate')\n",
    "doc[6] = ('sweet', 'sugar')\n",
    "doc[7] = ('sugar', 'cane', 'brazil')\n",
    "doc[8] = ('sweet', 'sugar', 'beet')\n",
    "doc[9] = ('sweet', 'cake', 'icing')\n",
    "doc[10] = ('cake', 'black', 'forest')\n",
    "\n",
    "# According to the book\n",
    "classes = [0] * 5 + [1] * 6\n",
    "\n",
    "vocab = set()\n",
    "for _, value in doc.items():\n",
    "    for word in value:\n",
    "        vocab.add(word)\n",
    "        \n",
    "sorted_vocab = sorted(list(vocab))\n",
    "\n",
    "K = 2\n",
    "N = len(doc)\n",
    "\n",
    "# The unit test data file has this format:\n",
    "'''\n",
    "USERID,CODE,TOTAL,WORD1_COUNT,WORD2_COUNT,...\n",
    ".\n",
    ".\n",
    "\n",
    "where\n",
    "\n",
    "USERID = unique user identifier (doc id in our case)\n",
    "CODE = 0/1 class code\n",
    "TOTAL = sum of the word counts\n",
    "'''\n",
    "with open(\"unitTestData_hw67.txt\", \"w\") as f:\n",
    "    for d in range(N):\n",
    "        f.write(\",\".join(\n",
    "            [str(x) for x in [d, classes[d], len(doc[d])]]))\n",
    "        for word in sorted_vocab:\n",
    "            f.write(\",\")\n",
    "            f.write(str(doc[d].count(word)))\n",
    "        f.write(\"\\n\")\n",
    "        \n",
    "print \"vocab:\", \\\n",
    "[str(i)+\":\"+sorted_vocab[i] for i in range(len(sorted_vocab))]\n",
    "\n",
    "print \"doc[0]:\", doc[0]\n",
    "print \"doc[10]:\", doc[10]    "
   ]
  },
  {
   "cell_type": "code",
   "execution_count": 179,
   "metadata": {
    "collapsed": false
   },
   "outputs": [
    {
     "name": "stdout",
     "output_type": "stream",
     "text": [
      "0,0,4,0,1,0,0,0,0,0,0,1,1,0,0,0,1,0,0,0,0\r\n",
      "1,0,3,1,0,0,0,0,0,0,0,0,1,0,1,0,0,0,0,0,0\r\n",
      "2,0,3,0,1,0,0,0,0,0,0,0,0,0,1,1,0,0,0,0,0\r\n",
      "3,0,2,0,0,0,0,0,1,0,0,0,1,0,0,0,0,0,0,0,0\r\n",
      "4,0,2,0,0,0,0,0,1,0,0,0,0,0,0,0,0,0,0,0,1\r\n",
      "5,1,2,0,0,0,0,0,0,0,0,1,0,0,0,0,0,0,0,1,0\r\n",
      "6,1,2,0,0,0,0,0,0,0,0,0,0,0,0,0,0,0,1,1,0\r\n",
      "7,1,3,0,0,0,0,1,0,0,1,0,0,0,0,0,0,0,1,0,0\r\n",
      "8,1,3,0,0,1,0,0,0,0,0,0,0,0,0,0,0,0,1,1,0\r\n",
      "9,1,3,0,0,0,0,0,0,1,0,0,0,0,0,0,0,1,0,1,0\r\n",
      "10,1,3,0,0,0,1,0,0,1,0,0,0,1,0,0,0,0,0,0,0\r\n"
     ]
    }
   ],
   "source": [
    "!cat unitTestData_hw67.txt"
   ]
  },
  {
   "cell_type": "markdown",
   "metadata": {},
   "source": [
    "### Initialization: ###\n",
    "#### Information we need at each iteration: ####\n",
    "- **$q_{mk}$**: has to be initialized and updated at each iteration\n",
    "- **$\\alpha_k$**: has to be initialized and updated at each iteration\n",
    "- **The vocab + the inverted index of words**: The list of word and for each word the list of documents which contain it\n",
    "    - has to be initialized once only\n",
    "    \n"
   ]
  },
  {
   "cell_type": "markdown",
   "metadata": {},
   "source": [
    "### Build the inverted index for the words ###"
   ]
  },
  {
   "cell_type": "code",
   "execution_count": 180,
   "metadata": {
    "collapsed": false
   },
   "outputs": [
    {
     "name": "stdout",
     "output_type": "stream",
     "text": [
      "Overwriting MrBuildWordIndex.py\n"
     ]
    }
   ],
   "source": [
    "%%writefile MrBuildWordIndex.py\n",
    "from mrjob.job import MRJob\n",
    "\n",
    "from numpy import mat, zeros, shape, random, array, zeros_like, dot, linalg\n",
    "from random import sample\n",
    "import json\n",
    "from math import pi, sqrt, exp, pow\n",
    "\n",
    "\n",
    "class MrBuildWordIndex(MRJob):\n",
    "    DEFAULT_PROTOCOL = 'json'\n",
    "    \n",
    "    # Build inverted index: \n",
    "    # wordId: (docId, docId, ...)\n",
    "    def mapper(self, _, line):\n",
    "        # USERID,CODE,TOTAL,WORD1_COUNT,WORD2_COUNT,...\n",
    "        fields = line.split(\",\")\n",
    "        docId = fields[0]\n",
    "        words = fields[3:]\n",
    "        for i in range(len(words)):\n",
    "            if int(words[i]) > 0:\n",
    "                yield i, int(docId)\n",
    "        \n",
    "    def reducer(self, wordId, docIds):\n",
    "        yield wordId, [doc for doc in docIds]\n",
    "\n",
    "if __name__ == '__main__':\n",
    "    MrBuildWordIndex.run()"
   ]
  },
  {
   "cell_type": "code",
   "execution_count": 181,
   "metadata": {
    "collapsed": false
   },
   "outputs": [
    {
     "name": "stdout",
     "output_type": "stream",
     "text": [
      "Overwriting BuildWordIndex.py\n"
     ]
    }
   ],
   "source": [
    "%%writefile BuildWordIndex.py\n",
    "from MrBuildWordIndex import MrBuildWordIndex\n",
    "import json\n",
    "import sys\n",
    "\n",
    "mr_job = MrBuildWordIndex(\n",
    "    args=[sys.argv[1], \n",
    "          # Have to use Hadoop, otherwise custom sort order won't work.\n",
    "          '-r', 'inline', \n",
    "          '--strict-protocols',\n",
    "         ])\n",
    "\n",
    "index = {}\n",
    "with mr_job.make_runner() as runner:\n",
    "    runner.run()\n",
    "    for line in runner.stream_output():\n",
    "        # Use the job's specified protocol to read the output\n",
    "        key, value = mr_job.parse_output_line(line)\n",
    "        index[key] = value\n",
    "\n",
    "with open(\"wordIndex.txt\", \"w\") as f:\n",
    "    f.write(json.dumps(index))"
   ]
  },
  {
   "cell_type": "code",
   "execution_count": 182,
   "metadata": {
    "collapsed": false
   },
   "outputs": [],
   "source": [
    "!python BuildWordIndex.py unitTestData_hw67.txt"
   ]
  },
  {
   "cell_type": "markdown",
   "metadata": {},
   "source": [
    "### Helper classes for MrBMMEm ###"
   ]
  },
  {
   "cell_type": "code",
   "execution_count": 442,
   "metadata": {
    "collapsed": false
   },
   "outputs": [
    {
     "name": "stdout",
     "output_type": "stream",
     "text": [
      "Overwriting MrBMMEm_Helper.py\n"
     ]
    }
   ],
   "source": [
    "%%writefile MrBMMEm_Helper.py\n",
    "from __future__ import division\n",
    "from mrjob.job import MRJob\n",
    "from numpy import mat, zeros, shape, random, array, zeros_like, dot, linalg\n",
    "from random import sample\n",
    "import json\n",
    "from math import pi, sqrt, exp, pow\n",
    "\n",
    "class R_nks():\n",
    "    # Each item in r_nks represent all r_nk's under a specific k.\n",
    "    #\n",
    "    # E.g. r_nks[1] = { 3:0.8, 9:0.2 }\n",
    "    # means:\n",
    "    # k = 1\n",
    "    # we have two docs: n = 3, and n = 9\n",
    "    # r_nk values: r_31 = 0.8 and r_91 = 0.2 \n",
    "    def __init__(self, K, values):\n",
    "        self.r_nks = [dict() for _ in range(K)]\n",
    "        for key, value in values:\n",
    "            n = int(key[0])\n",
    "            k = key[1]\n",
    "            self.r_nks[k][n] = value \n",
    "\n",
    "    def r_nk(self, n, k):\n",
    "        n = int(n)\n",
    "        if n in self.r_nks[k]:\n",
    "            return self.r_nks[k][n] \n",
    "        else:\n",
    "            return 0\n",
    "\n",
    "    def sum_r_nk_over_N(self, k):\n",
    "        return sum(self.r_nks[k].values())\n",
    "\n",
    "    def get_N(self, k):\n",
    "        return len(self.r_nks[k].values())\n",
    "    \n",
    "    def get_data(self):\n",
    "        return self.r_nks\n",
    "    \n",
    "    def debugPrint(self):\n",
    "        print \"r_nks:\"\n",
    "        for k in range(len(self.r_nks)):\n",
    "            for n, value in self.r_nks[k].items():\n",
    "                print \"r_%d_%d = %.3f\" % (int(n)+1, k+1, value)\n",
    "            print\n",
    "        print\n",
    "        \n",
    "class Q_mks():\n",
    "    # Each item in q_mks represent all q_mk's under a specific k.\n",
    "    #\n",
    "    # E.g. q_mks[1] = { 4:0.8, 6:0.2 }\n",
    "    # means:\n",
    "    # k = 1\n",
    "    # we have two terms: m = 4, and m = 6\n",
    "    # q_mk values: q_41 = 0.8 and q_61 = 0.2 \n",
    "    def __init__(self, K, values = None):\n",
    "        if values is None:\n",
    "            self.q_mks = [dict() for _ in range(K)]\n",
    "        else:\n",
    "            self.q_mks = values\n",
    "\n",
    "    def q_mk(self, m, k):\n",
    "        # Convert m to string because json loaded dict doesn't allow integer string\n",
    "        return self.q_mks[k][str(m)] \n",
    "    \n",
    "    def update(self, m, k, value):\n",
    "        self.q_mks[k][m] = value\n",
    "        \n",
    "    def get_data(self):\n",
    "        return self.q_mks\n",
    "    \n",
    "    # Used for convergence testing in driver\n",
    "    def get_all_values(self):\n",
    "        result = []\n",
    "        for k in range(len(self.q_mks)):\n",
    "            for m in sorted(self.q_mks[k].keys()):\n",
    "                result.append(self.q_mks[k][m])\n",
    "                \n",
    "        return result\n",
    "    \n",
    "    def debugPrint(self, unitTest):\n",
    "        unit_test_vocab = ['africa', 'beans', 'beet', 'black', 'brazil', 'butter', 'cake', \n",
    "            'cane', 'chocolate', 'cocoa', 'forest', 'ghana', 'harvest', \n",
    "            'hot', 'icing', 'sugar', 'sweet', 'truffles']\n",
    "    \n",
    "        print \"q_mks:\"\n",
    "        if unitTest:\n",
    "            for m in range(len(unit_test_vocab)):\n",
    "                for k in range(len(self.q_mks)):\n",
    "                    value = self.q_mks[k][str(m)]\n",
    "                    print \"q_%s_%d = %.3f\" % (unit_test_vocab[int(m)], k+1, value)\n",
    "        else:\n",
    "            for k in range(len(self.q_mks)):\n",
    "                for m, value in self.q_mks[k].items():\n",
    "                    print \"q_%d_%d = %.3f\" % (int(m), k+1, value)\n",
    "        print\n"
   ]
  },
  {
   "cell_type": "markdown",
   "metadata": {},
   "source": [
    "### The MRJob class for the EM implementation of the Bernoulli Mix Model ###"
   ]
  },
  {
   "cell_type": "code",
   "execution_count": 425,
   "metadata": {
    "collapsed": false
   },
   "outputs": [
    {
     "name": "stdout",
     "output_type": "stream",
     "text": [
      "Overwriting MrBMMEm.py\n"
     ]
    }
   ],
   "source": [
    "%%writefile MrBMMEm.py\n",
    "from __future__ import division\n",
    "from mrjob.job import MRJob\n",
    "import numpy as np\n",
    "from random import sample\n",
    "import json\n",
    "from math import pi, sqrt, exp, pow\n",
    "from MrBMMEm_Helper import R_nks, Q_mks\n",
    "from scipy.misc import logsumexp\n",
    "\n",
    "class MrBMMEm(MRJob):\n",
    "    DEFAULT_PROTOCOL = 'json'\n",
    "    \n",
    "    def __init__(self, *args, **kwargs):\n",
    "        super(MrBMMEm, self).__init__(*args, **kwargs)\n",
    "\n",
    "        # Read the inverted index\n",
    "        with open(\"wordIndex.txt\", \"r\") as f:\n",
    "            self.wordIndex = json.load(f)\n",
    "        \n",
    "    def configure_options(self):\n",
    "        super(MrBMMEm, self).configure_options()\n",
    "        self.add_passthrough_option(\n",
    "            '--k', dest='k', default=2, type='int',\n",
    "                help='k: number of clusters (Bernoulli models) in mixture')\n",
    "        self.add_passthrough_option(\n",
    "            '--pathName', dest='pathName', default=\"\", type='str',\n",
    "            help='pathName: pathname where intermediate results file is stored')\n",
    "        self.add_passthrough_option(\n",
    "            '--unitTest', dest='unitTest', action=\"store_true\")\n",
    "        self.add_passthrough_option(\n",
    "            '--initEM', dest='initEM', action=\"store_true\")\n",
    "        self.add_passthrough_option(\n",
    "            '--debug', dest='debug', action=\"store_true\")\n",
    "    \n",
    "    # E.g.\n",
    "    # {u'11': [11], u'10': [1, 2, 4], u'13': [3], u'12': [2, 3], ...}\n",
    "    wordIndex = {}\n",
    "    initEM_MapperDone = False\n",
    "    intermediateResultFile = \"BMMintermediateResults.txt\"\n",
    "\n",
    "\n",
    "    def mapper_init(self):\n",
    "        # In initEM stage, the intermediate file hasn't existed yet\n",
    "        if self.options.initEM:\n",
    "            return\n",
    "\n",
    "        # Intermediate result file contains: (alpha_ks, q_mks.get_data())\n",
    "        with open(self.intermediateResultFile, \"r\") as f:\n",
    "            data  = json.load(f)\n",
    "            # Note: all the keys are string because JSON does not allow integer key\n",
    "            self.last_alpha_ks = data[0]\n",
    "            self.last_q_mks = Q_mks(self.options.k, data[1])\n",
    "            \n",
    "            #print \"Mapper_init:\"\n",
    "            #self.debugPrintParams(None, self.last_alpha_ks, self.last_q_mks )\n",
    "                    \n",
    "    def mapper(self, _, record):\n",
    "        if self.options.initEM:\n",
    "            if not self.initEM_MapperDone:\n",
    "                if self.options.unitTest:\n",
    "                    yield None, ((6-1,0), 1)\n",
    "                    yield None, ((7-1,0), 0)\n",
    "                    yield None, ((6-1,1), 0)\n",
    "                    yield None, ((7-1,1), 1)\n",
    "                else:\n",
    "                    # Simple Init:\n",
    "                    # Use the first k records to generate the first r_nk for them.\n",
    "                    for k1 in range(self.options.k):\n",
    "                        n = k1\n",
    "                        yield None, ((n,k1), 1)\n",
    "\n",
    "                        for k2 in range(self.options.k):\n",
    "                            if k2 == k1:\n",
    "                                continue\n",
    "\n",
    "                            yield None, ((n,k2), 0)\n",
    "\n",
    "                self.initEM_MapperDone = True\n",
    "        else:\n",
    "            fields = record.split(',')\n",
    "            \n",
    "            # record format: DOCID,CODE,TOTAL,WORD1_COUNT,WORD2_COUNT,...\n",
    "            n = int(fields[0])\n",
    "            wordCounts = fields[3:]\n",
    "            e = 0.0001  # For smoothing\n",
    "\n",
    "            term_1s = []\n",
    "            term_2s = []\n",
    "            for k in range(self.options.k):\n",
    "                # Note: \n",
    "                # All the keys in last_alpha_ks and last_qmks are string because \n",
    "                # JSON does not allow integer keys\n",
    "\n",
    "                # Calculate term_1 for each k (see eq.1)\n",
    "                assert self.last_alpha_ks[k] != 0\n",
    "                term_1s.append(np.log(self.last_alpha_ks[k]))\n",
    "                \n",
    "                # Calculate term2 for each k (see eq.1)                \n",
    "                term_2 = 0\n",
    "                for m in range(len(wordCounts)):\n",
    "                    q_mk = self.last_q_mks.q_mk(m,k)\n",
    "                    \n",
    "                    wordCount = int(wordCounts[m])\n",
    "                    if wordCount > 0:\n",
    "                        assert (q_mk + e) > 0 \n",
    "                        term_2 += np.log(q_mk + e) # With smoothing\n",
    "                    else:\n",
    "                        assert (1 - q_mk + e) > 0\n",
    "                        term_2 += np.log(1 - q_mk + e) # With smoothing\n",
    "                        \n",
    "                term_2s.append(term_2)\n",
    "            \n",
    "            term_3 = logsumexp(term_2s, b=self.last_alpha_ks)\n",
    "            \n",
    "            for k in range(self.options.k):\n",
    "                r_nk = np.exp(term_1s[k] + term_2s[k] - term_3)\n",
    "                yield None, ((n,k), r_nk)\n",
    "            \n",
    "\n",
    "    def debugPrint(self, s, params):\n",
    "        if not self.options.debug:\n",
    "            return\n",
    "        \n",
    "        print s % params\n",
    "\n",
    "    def debugPrintParams(self, r_nks, alpha_ks, q_mks):\n",
    "        if not self.options.debug:\n",
    "            return\n",
    "        \n",
    "        print \"alpha_ks:\"\n",
    "        print alpha_ks\n",
    "        print  \n",
    "        if r_nks is not None:\n",
    "            r_nks.debugPrint()\n",
    "        q_mks.debugPrint(self.options.unitTest)        \n",
    "\n",
    "    def reducer(self, _, values):  \n",
    "        r_nks = R_nks(self.options.k, values) # All the r_nk values\n",
    "\n",
    "        alpha_ks = [] # All the alpha_k in eq. (3)\n",
    "        for k in range(self.options.k):\n",
    "            alpha_ks.append(r_nks.sum_r_nk_over_N(k) / r_nks.get_N(k))                    \n",
    "                \n",
    "        q_mks = Q_mks(self.options.k) # All the q_mk in eq. (2)\n",
    "        for k in range(self.options.k):\n",
    "            denominator = r_nks.sum_r_nk_over_N(k) # Denominator in eq. (2)\n",
    "\n",
    "            # In the numerator of eq 2, The summation means:\n",
    "            #   - Include only those r_nk where d_n includes t_m\n",
    "            #   - The last point is the same as:\n",
    "            #     - Find out all d_n's which contain t_m, and sum up the r_nk of those d_n's\n",
    "            #   - And \"all d_n's which contain t_m\" is already available:\n",
    "            #     - It's self.wordIndex[m]\n",
    "            for m in self.wordIndex.keys():\n",
    "                numerator = 0\n",
    "                # For all d_n's which contains t_m\n",
    "                for n in self.wordIndex[m]:\n",
    "                    # sum up the r_nk\n",
    "                    numerator += r_nks.r_nk(n, k) \n",
    "                    \n",
    "                q_mks.update(m, k, numerator / denominator)\n",
    "                \n",
    "        self.debugPrintParams(r_nks, alpha_ks, q_mks)\n",
    "        with open(self.options.pathName + \"/\" + self.intermediateResultFile, \"w\") as f:\n",
    "            jsonOut  = json.dumps((alpha_ks, q_mks.get_data()))\n",
    "            f.write(jsonOut)\n",
    "            \n",
    "if __name__ == '__main__':\n",
    "    MrBMMEm.run()"
   ]
  },
  {
   "cell_type": "markdown",
   "metadata": {},
   "source": [
    "### Driver ###"
   ]
  },
  {
   "cell_type": "code",
   "execution_count": 476,
   "metadata": {
    "collapsed": false
   },
   "outputs": [
    {
     "name": "stdout",
     "output_type": "stream",
     "text": [
      "Overwriting MrBMMEm_Driver.py\n"
     ]
    }
   ],
   "source": [
    "%%writefile MrBMMEm_Driver.py\n",
    "from MrBMMEm import MrBMMEm\n",
    "import json\n",
    "from math import sqrt\n",
    "import sys\n",
    "import argparse\n",
    "import os\n",
    "from MrBMMEm_Helper import R_nks, Q_mks\n",
    "\n",
    "parser = argparse.ArgumentParser()\n",
    "parser.add_argument(\"--inputFile\")\n",
    "parser.add_argument(\"--k\", type=int, default = 2)\n",
    "parser.add_argument(\"--unitTest\", action=\"store_true\")\n",
    "parser.add_argument(\"--debug\", action=\"store_true\")\n",
    "parser.add_argument(\"--numIter\", type=int, default = 3)\n",
    "args = parser.parse_args()\n",
    "\n",
    "def getMrJobArgs(initEM, intermediateResultFile = None):\n",
    "    mrJobArgs = [\n",
    "                '--pathName', '/Users/patrickng/Documents/mids/w261/assignments/wk6/', \n",
    "                '--k', str(args.k),\n",
    "                '-r', 'inline', \n",
    "                '--strict-protocols',\n",
    "                '--file', 'wordIndex.txt',\n",
    "                '-q',\n",
    "                args.inputFile, \n",
    "            ]\n",
    "\n",
    "    if args.unitTest:\n",
    "        mrJobArgs.append('--unitTest')\n",
    "        \n",
    "    if initEM:\n",
    "        mrJobArgs.append('--initEM')\n",
    "    else:\n",
    "        mrJobArgs.append('--file')\n",
    "        mrJobArgs.append(intermediateResultFile)\n",
    "        \n",
    "    if args.debug:\n",
    "        mrJobArgs.append('--debug')\n",
    "        \n",
    "    return mrJobArgs\n",
    "\n",
    "# Run until converge\n",
    "def dist(x,y):\n",
    "    #euclidean distance between two lists    \n",
    "    sum = 0.0\n",
    "    for i in range(len(x)):\n",
    "        temp = x[i] - y[i]\n",
    "        sum += temp * temp\n",
    "    return sqrt(sum)\n",
    "\n",
    "def run():\n",
    "    # first run the initializing phase to get starting params\n",
    "    mrJob = MrBMMEm(args=getMrJobArgs(initEM = True))\n",
    "\n",
    "    intermediateResultFile = mrJob.intermediateResultFile\n",
    "    try:\n",
    "        os.remove(intermediateResultFile)\n",
    "    except OSError:\n",
    "        pass\n",
    "\n",
    "    with mrJob.make_runner() as runner:\n",
    "        runner.run()\n",
    "\n",
    "\n",
    "    with open(intermediateResultFile) as f:\n",
    "        paramJson = f.read()\n",
    "\n",
    "    iter_num = 1\n",
    "\n",
    "    while iter_num <= args.numIter:\n",
    "        print \"----------------------------\"\n",
    "        print \"Iteration: \" + str(iter_num)\n",
    "\n",
    "        oldParam = json.loads(paramJson)\n",
    "        old_q_mks = Q_mks(args.k, oldParam[1])\n",
    "\n",
    "        mrJob2 = MrBMMEm(args=getMrJobArgs(initEM = False, \n",
    "                               intermediateResultFile = intermediateResultFile))\n",
    "        with mrJob2.make_runner() as runner:\n",
    "            runner.run()\n",
    "\n",
    "        with open(intermediateResultFile) as f:\n",
    "            paramJson = f.read()\n",
    "\n",
    "        newParam = json.loads(paramJson)\n",
    "        new_q_mks = Q_mks(args.k, newParam[1])\n",
    "\n",
    "        delta = dist(old_q_mks.get_all_values(), new_q_mks.get_all_values())\n",
    "        print \"delta:\", delta\n",
    "        iter_num = iter_num + 1\n",
    "\n",
    "if __name__ == \"__main__\":\n",
    "    run()"
   ]
  },
  {
   "cell_type": "code",
   "execution_count": null,
   "metadata": {
    "collapsed": false,
    "scrolled": false
   },
   "outputs": [],
   "source": [
    "!python MrBMMEm_Driver.py --numIter 25 --unitTest --debug --inputFile unitTestData_hw67.txt"
   ]
  },
  {
   "cell_type": "markdown",
   "metadata": {},
   "source": [
    "#### Unit test for MrBMMEm"
   ]
  },
  {
   "cell_type": "code",
   "execution_count": 482,
   "metadata": {
    "collapsed": false
   },
   "outputs": [
    {
     "name": "stdout",
     "output_type": "stream",
     "text": [
      "Overwriting MrBMMEm_unitTest_Full.py\n"
     ]
    }
   ],
   "source": [
    "%%writefile MrBMMEm_unitTest_Full.py\n",
    "import unittest\n",
    "import os\n",
    "import json\n",
    "\n",
    "class MrBMMEm_unitTest_Full(unittest.TestCase):\n",
    "\n",
    "    def test_full(self):\n",
    "        os.system(\"python MrBMMEm_Driver.py --numIter 25 --unitTest --inputFile unitTestData_hw67.txt\")\n",
    "        with open(\"BMMintermediateResults.txt\", \"r\") as f1:\n",
    "            with open(\"MrBMMEm_unitTest_full.output\", \"r\") as f2:\n",
    "                for x,y in zip(f1.readlines(), f2.readlines()):\n",
    "                    self.assertEqual(x.strip(),y.strip())\n",
    "\n",
    "if __name__ == '__main__':\n",
    "    unittest.main()"
   ]
  },
  {
   "cell_type": "code",
   "execution_count": 483,
   "metadata": {
    "collapsed": false
   },
   "outputs": [
    {
     "name": "stdout",
     "output_type": "stream",
     "text": [
      "----------------------------\n",
      "Iteration: 1\n",
      "delta: 1.4674240481\n",
      "----------------------------\n",
      "Iteration: 2\n",
      "delta: 0.25210426936\n",
      "----------------------------\n",
      "Iteration: 3\n",
      "delta: 0.23747608512\n",
      "----------------------------\n",
      "Iteration: 4\n",
      "delta: 0.157599333217\n",
      "----------------------------\n",
      "Iteration: 5\n",
      "delta: 0.157306819076\n",
      "----------------------------\n",
      "Iteration: 6\n",
      "delta: 0.0298652541203\n",
      "----------------------------\n",
      "Iteration: 7\n",
      "delta: 0.00226286565156\n",
      "----------------------------\n",
      "Iteration: 8\n",
      "delta: 0.00368055440303\n",
      "----------------------------\n",
      "Iteration: 9\n",
      "delta: 0.00608637739221\n",
      "----------------------------\n",
      "Iteration: 10\n",
      "delta: 0.0103160469508\n",
      "----------------------------\n",
      "Iteration: 11\n",
      "delta: 0.0181009845305\n",
      "----------------------------\n",
      "Iteration: 12\n",
      "delta: 0.0330720598285\n",
      "----------------------------\n",
      "Iteration: 13\n",
      "delta: 0.061308506036\n",
      "----------------------------\n",
      "Iteration: 14\n",
      "delta: 0.0987853299834\n",
      "----------------------------\n",
      "Iteration: 15\n",
      "delta: 0.0891299162949\n",
      "----------------------------\n",
      "Iteration: 16\n",
      "delta: 0.0277100011315\n",
      "----------------------------\n",
      "Iteration: 17\n",
      "delta: 0.00356084861403\n",
      "----------------------------\n",
      "Iteration: 18\n",
      "delta: 0.000352114234538\n",
      "----------------------------\n",
      "Iteration: 19\n",
      "delta: 3.36760362324e-05\n",
      "----------------------------\n",
      "Iteration: 20\n",
      "delta: 3.21016028312e-06\n",
      "----------------------------\n",
      "Iteration: 21\n",
      "delta: 3.05911327853e-07\n",
      "----------------------------\n",
      "Iteration: 22\n",
      "delta: 2.91508585552e-08\n",
      "----------------------------\n",
      "Iteration: 23\n",
      "delta: 2.77783169253e-09\n",
      "----------------------------\n",
      "Iteration: 24\n",
      "delta: 2.64703857751e-10\n",
      "----------------------------\n",
      "Iteration: 25\n",
      "delta: 2.52240284726e-11\n",
      ".\n",
      "----------------------------------------------------------------------\n",
      "Ran 1 test in 1.282s\n",
      "\n",
      "OK\n"
     ]
    }
   ],
   "source": [
    "!python MrBMMEm_unitTest_Full.py"
   ]
  },
  {
   "cell_type": "code",
   "execution_count": null,
   "metadata": {
    "collapsed": true
   },
   "outputs": [],
   "source": []
  }
 ],
 "metadata": {
  "kernelspec": {
   "display_name": "Python 2",
   "language": "python",
   "name": "python2"
  },
  "language_info": {
   "codemirror_mode": {
    "name": "ipython",
    "version": 2
   },
   "file_extension": ".py",
   "mimetype": "text/x-python",
   "name": "python",
   "nbconvert_exporter": "python",
   "pygments_lexer": "ipython2",
   "version": "2.7.10"
  }
 },
 "nbformat": 4,
 "nbformat_minor": 0
}
