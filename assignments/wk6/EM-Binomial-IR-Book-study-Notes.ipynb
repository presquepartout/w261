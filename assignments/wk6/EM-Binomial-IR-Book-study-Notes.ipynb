{
 "cells": [
  {
   "cell_type": "markdown",
   "metadata": {},
   "source": [
    "### Code running the example in the IR book\n",
    "\n",
    "Try to demo the result in Table 16.3\n",
    "\n",
    "But pls note the original comment about epsilon is wrong."
   ]
  },
  {
   "cell_type": "code",
   "execution_count": 89,
   "metadata": {
    "collapsed": true
   },
   "outputs": [],
   "source": [
    "from collections import defaultdict\n",
    "from __future__ import division\n",
    "from operator import mul"
   ]
  },
  {
   "cell_type": "code",
   "execution_count": 224,
   "metadata": {
    "collapsed": false
   },
   "outputs": [],
   "source": [
    "def displayInfo(iteration):\n",
    "    print \"Iteration:\", iteration\n",
    "    print \"--------------\"\n",
    "    print \"alpha:\", alpha\n",
    "    print\n",
    "    for k in range(1, K+1):\n",
    "        for doc in range(1, N+1):\n",
    "            print \"r_%d_%d = %s\" % (doc, k, \n",
    "                        \"\" if r[doc][k] is None else \"{0:.3f}\".format(r[doc][k]))\n",
    "        print\n",
    "    print\n",
    "    for word in sorted_vocab:\n",
    "        for k in range(1, K+1):\n",
    "            print \"q_%s_%d = %.3f\" % (word, k, q[word][k])\n",
    "       "
   ]
  },
  {
   "cell_type": "code",
   "execution_count": 255,
   "metadata": {
    "collapsed": true
   },
   "outputs": [],
   "source": [
    "def I(tm, dn):\n",
    "    if tm in dn:\n",
    "        return 1\n",
    "    else:\n",
    "        return 0\n",
    "    \n",
    "def M_step():\n",
    "    # (16.16)\n",
    "    for m in vocab:\n",
    "        for k in range(1,K+1):\n",
    "            numerator = 0\n",
    "            for n in range(1, N+1):\n",
    "                if r[n][k] is None:\n",
    "                    continue\n",
    "                    \n",
    "                numerator += r[n][k] * I(m, d[n])\n",
    "            \n",
    "            denominator = 0\n",
    "            for n in range(1, N+1):\n",
    "                if r[n][k] is None:\n",
    "                    continue\n",
    "                    \n",
    "                denominator += r[n][k]\n",
    "            \n",
    "            q[m][k] = numerator / denominator\n",
    "            \n",
    "    for k in range(1,K+1):\n",
    "        count = 0\n",
    "        total = 0\n",
    "        for n in range(1, N+1):\n",
    "            if r[n][k] is None:\n",
    "                continue\n",
    "            total += r[n][k]\n",
    "            count += 1\n",
    "            \n",
    "        alpha[k] = total / count\n",
    "        \n",
    "def E_step():\n",
    "    # (16.17)\n",
    "    for n in range(1,N+1):\n",
    "        denominator = 0\n",
    "        for k in range(1,K+1):\n",
    "            denominator += alpha[k] * reduce(mul, [(q[m][k]+e) for m in d[n]], 1.0) * \\\n",
    "                        reduce(mul, [1-(q[m][k]+e) for m in (vocab - set(d[n]))], 1.0)\n",
    "                \n",
    "        for k in range(1,K+1):\n",
    "            numerator = alpha[k] * reduce(mul, [(q[m][k]+e) for m in d[n]], 1.0) * \\\n",
    "                        reduce(mul, [1-(q[m][k]+e) for m in (vocab - set(d[n]))], 1.0)\n",
    "                \n",
    "            r[n][k] = numerator/denominator\n",
    "    "
   ]
  },
  {
   "cell_type": "code",
   "execution_count": 256,
   "metadata": {
    "collapsed": true
   },
   "outputs": [],
   "source": [
    "d = {}\n",
    "d[1] = ('hot', 'chocolate', 'cocoa', 'beans')\n",
    "d[2] = ('cocoa', 'ghana', 'africa')\n",
    "d[3] = ('beans', 'harvest', 'ghana')\n",
    "d[4] = ('cocoa', 'butter')\n",
    "d[5] = ('butter', 'truffles')\n",
    "d[6] = ('sweet', 'chocolate')\n",
    "d[7] = ('sweet', 'sugar')\n",
    "d[8] = ('sugar', 'cane', 'brazil')\n",
    "d[9] = ('sweet', 'sugar', 'beet')\n",
    "d[10] = ('sweet', 'cake', 'icing')\n",
    "d[11] = ('cake', 'black', 'forest')\n",
    "\n",
    "vocab = set()\n",
    "for _, value in docs.items():\n",
    "    for word in value:\n",
    "        vocab.add(word)\n",
    "        \n",
    "sorted_vocab = sorted(list(vocab))\n",
    "K = 2\n",
    "N = len(docs)\n",
    "e = 0.0001\n",
    "        "
   ]
  },
  {
   "cell_type": "code",
   "execution_count": 257,
   "metadata": {
    "collapsed": true
   },
   "outputs": [],
   "source": [
    "alpha = {1:0.5, 2:0.5}\n",
    "r = [[None for c in range(2+1)] for r in range(N+1)]\n",
    "\n",
    "q = defaultdict(dict)\n",
    "for word in vocab:\n",
    "    for k in range(1, K+1):\n",
    "        q[word][k] = None\n",
    "\n",
    "## initialize\n",
    "r[6][1] = 1\n",
    "r[7][1] = 0\n",
    "r[6][2] = 0\n",
    "r[7][2] = 1"
   ]
  },
  {
   "cell_type": "code",
   "execution_count": 258,
   "metadata": {
    "collapsed": false
   },
   "outputs": [],
   "source": [
    "M_step() #iteration 0\n",
    "#displayInfo(\"After 0-M\")"
   ]
  },
  {
   "cell_type": "code",
   "execution_count": 259,
   "metadata": {
    "collapsed": true
   },
   "outputs": [],
   "source": [
    "for _ in range(25):\n",
    "    E_step()\n",
    "    M_step()"
   ]
  },
  {
   "cell_type": "code",
   "execution_count": 260,
   "metadata": {
    "collapsed": false
   },
   "outputs": [
    {
     "name": "stdout",
     "output_type": "stream",
     "text": [
      "Iteration: After 25 steps:\n",
      "--------------\n",
      "alpha: {1: 0.4545502223161797, 2: 0.5454497776838204}\n",
      "\n",
      "r_1_1 = 1.000\n",
      "r_2_1 = 1.000\n",
      "r_3_1 = 1.000\n",
      "r_4_1 = 1.000\n",
      "r_5_1 = 1.000\n",
      "r_6_1 = 0.000\n",
      "r_7_1 = 0.000\n",
      "r_8_1 = 0.000\n",
      "r_9_1 = 0.000\n",
      "r_10_1 = 0.000\n",
      "r_11_1 = 0.000\n",
      "\n",
      "r_1_2 = 0.000\n",
      "r_2_2 = 0.000\n",
      "r_3_2 = 0.000\n",
      "r_4_2 = 0.000\n",
      "r_5_2 = 0.000\n",
      "r_6_2 = 1.000\n",
      "r_7_2 = 1.000\n",
      "r_8_2 = 1.000\n",
      "r_9_2 = 1.000\n",
      "r_10_2 = 1.000\n",
      "r_11_2 = 1.000\n",
      "\n",
      "\n",
      "q_africa_1 = 0.200\n",
      "q_africa_2 = 0.000\n",
      "q_beans_1 = 0.400\n",
      "q_beans_2 = 0.000\n",
      "q_beet_1 = 0.000\n",
      "q_beet_2 = 0.167\n",
      "q_black_1 = 0.000\n",
      "q_black_2 = 0.167\n",
      "q_brazil_1 = 0.000\n",
      "q_brazil_2 = 0.167\n",
      "q_butter_1 = 0.400\n",
      "q_butter_2 = 0.000\n",
      "q_cake_1 = 0.000\n",
      "q_cake_2 = 0.333\n",
      "q_cane_1 = 0.000\n",
      "q_cane_2 = 0.167\n",
      "q_chocolate_1 = 0.200\n",
      "q_chocolate_2 = 0.167\n",
      "q_cocoa_1 = 0.600\n",
      "q_cocoa_2 = 0.000\n",
      "q_forest_1 = 0.000\n",
      "q_forest_2 = 0.167\n",
      "q_ghana_1 = 0.400\n",
      "q_ghana_2 = 0.000\n",
      "q_harvest_1 = 0.200\n",
      "q_harvest_2 = 0.000\n",
      "q_hot_1 = 0.200\n",
      "q_hot_2 = 0.000\n",
      "q_icing_1 = 0.000\n",
      "q_icing_2 = 0.167\n",
      "q_sugar_1 = 0.000\n",
      "q_sugar_2 = 0.500\n",
      "q_sweet_1 = 0.000\n",
      "q_sweet_2 = 0.667\n",
      "q_truffles_1 = 0.200\n",
      "q_truffles_2 = 0.000\n"
     ]
    }
   ],
   "source": [
    "displayInfo(\"After 25 steps:\")"
   ]
  },
  {
   "cell_type": "code",
   "execution_count": null,
   "metadata": {
    "collapsed": true
   },
   "outputs": [],
   "source": []
  }
 ],
 "metadata": {
  "kernelspec": {
   "display_name": "Python 2",
   "language": "python",
   "name": "python2"
  },
  "language_info": {
   "codemirror_mode": {
    "name": "ipython",
    "version": 2
   },
   "file_extension": ".py",
   "mimetype": "text/x-python",
   "name": "python",
   "nbconvert_exporter": "python",
   "pygments_lexer": "ipython2",
   "version": "2.7.10"
  }
 },
 "nbformat": 4,
 "nbformat_minor": 0
}
