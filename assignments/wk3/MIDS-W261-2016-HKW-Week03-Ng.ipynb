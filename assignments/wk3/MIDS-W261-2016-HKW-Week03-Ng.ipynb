{
 "cells": [
  {
   "cell_type": "markdown",
   "metadata": {},
   "source": [
    "Name: Patrick Ng  \n",
    "Email: patng@ischool.berkeley.edu  \n",
    "Class: W261-2  \n",
    "Week: 03  \n",
    "Date of submission: Feb 01, 2016"
   ]
  },
  {
   "cell_type": "markdown",
   "metadata": {},
   "source": [
    "## HW3.0.\n",
    "\n",
    "What is a merge sort? Where is it used in Hadoop?  \n",
    "How is  a combiner function in the context of Hadoop?   \n",
    "Give an example where it can be used and justify why it should be used in the context of this problem.  \n",
    "What is the Hadoop shuffle?"
   ]
  },
  {
   "cell_type": "markdown",
   "metadata": {},
   "source": [
    "TBD"
   ]
  },
  {
   "cell_type": "markdown",
   "metadata": {},
   "source": [
    "## HW3.1 \n",
    "Use Counters to do EDA (exploratory data analysis and to monitor progress)\n",
    "Counters are lightweight objects in Hadoop that allow you to keep track of system progress in both the map and reduce stages of processing. By default, Hadoop defines a number of standard counters in \"groups\"; these show up in the jobtracker webapp, giving you information such as \"Map input records\", \"Map output records\", etc. \n",
    "\n",
    "While processing information/data using MapReduce job, it is a challenge to monitor the progress of parallel threads running across nodes of distributed clusters. Moreover, it is also complicated to distinguish between the data that has been processed and the data which is yet to be processed. The MapReduce Framework offers a provision of user-defined Counters, which can be effectively utilized to monitor the progress of data across nodes of distributed clusters.\n",
    "\n",
    "Use the Consumer Complaints  Dataset provide here to complete this question:\n",
    "\n",
    "     https://www.dropbox.com/s/vbalm3yva2rr86m/Consumer_Complaints.csv?dl=0\n",
    "\n",
    "The consumer complaints dataset consists of diverse consumer complaints, which have been reported across the United States regarding various types of loans. The dataset consists of records of the form:\n",
    "\n",
    "Complaint ID,Product,Sub-product,Issue,Sub-issue,State,ZIP code,Submitted via,Date received,Date sent to company,Company,Company response,Timely response?,Consumer disputed?\n",
    "\n",
    "\n",
    "User-defined Counters\n",
    "\n",
    "Now, let’s use Hadoop Counters to identify the number of complaints pertaining to debt collection, mortgage and other categories (all other categories get lumped into this one) in the consumer complaints dataset. Basically produce the distribution of the Product column in this dataset using counters (limited to 3 counters here).\n",
    "\n",
    "Hadoop offers Job Tracker, an UI tool to determine the status and statistics of all jobs. Using the job tracker UI, developers can view the Counters that have been created. Screenshot your  job tracker UI as your job completes and include it here. Make sure that your user defined counters are visible. "
   ]
  },
  {
   "cell_type": "markdown",
   "metadata": {},
   "source": [
    "## Mapper"
   ]
  },
  {
   "cell_type": "code",
   "execution_count": 73,
   "metadata": {
    "collapsed": false
   },
   "outputs": [
    {
     "name": "stdout",
     "output_type": "stream",
     "text": [
      "Overwriting mapper.py\n"
     ]
    }
   ],
   "source": [
    "%%writefile mapper.py\n",
    "#!/usr/bin/python\n",
    "import sys\n",
    "import re\n",
    "\n",
    "# input comes from STDIN (standard input)\n",
    "for line in sys.stdin:\n",
    "    fields = line.split(\",\")\n",
    "\n",
    "    # Skip header row\n",
    "    if fields[0] == \"Complaint ID\":\n",
    "        continue\n",
    "\n",
    "    reason = fields[1].lower()\n",
    "    \n",
    "    if reason == \"debt collection\":\n",
    "        counter = \"debt\"\n",
    "    elif reason == \"mortgage\":\n",
    "        counter = \"mortgage\"\n",
    "    else:\n",
    "        counter = \"others\"\n",
    "        \n",
    "    sys.stderr.write('reporter:counter:custom,' + counter + ',1\\n')\n"
   ]
  },
  {
   "cell_type": "markdown",
   "metadata": {},
   "source": [
    "## Quick Test"
   ]
  },
  {
   "cell_type": "code",
   "execution_count": 74,
   "metadata": {
    "collapsed": false
   },
   "outputs": [
    {
     "name": "stdout",
     "output_type": "stream",
     "text": [
      "reporter:counter:custom,debt,1\r\n",
      "reporter:counter:custom,debt,1\r\n",
      "reporter:counter:custom,others,1\r\n",
      "reporter:counter:custom,debt,1\r\n",
      "reporter:counter:custom,others,1\r\n",
      "reporter:counter:custom,debt,1\r\n",
      "reporter:counter:custom,others,1\r\n",
      "reporter:counter:custom,debt,1\r\n",
      "reporter:counter:custom,others,1\r\n",
      "reporter:counter:custom,debt,1\r\n",
      "reporter:counter:custom,others,1\r\n",
      "reporter:counter:custom,others,1\r\n",
      "reporter:counter:custom,debt,1\r\n",
      "reporter:counter:custom,mortgage,1\r\n",
      "reporter:counter:custom,others,1\r\n",
      "reporter:counter:custom,others,1\r\n",
      "reporter:counter:custom,debt,1\r\n",
      "reporter:counter:custom,debt,1\r\n",
      "reporter:counter:custom,debt,1\r\n"
     ]
    }
   ],
   "source": [
    "# Quick test\n",
    "!head -n 20 Consumer_Complaints.csv  | python mapper.py"
   ]
  },
  {
   "cell_type": "markdown",
   "metadata": {},
   "source": [
    "## Run it in Hadoop"
   ]
  },
  {
   "cell_type": "code",
   "execution_count": 2,
   "metadata": {
    "collapsed": false
   },
   "outputs": [
    {
     "name": "stdout",
     "output_type": "stream",
     "text": [
      "16/01/30 17:26:52 WARN util.NativeCodeLoader: Unable to load native-hadoop library for your platform... using builtin-java classes where applicable\n",
      "16/01/30 17:26:54 WARN util.NativeCodeLoader: Unable to load native-hadoop library for your platform... using builtin-java classes where applicable\n"
     ]
    }
   ],
   "source": [
    "# upload input file to hdfs\n",
    "!hdfs dfs -rm -f Consumer_Complaints.csv\n",
    "!hdfs dfs -put Consumer_Complaints.csv"
   ]
  },
  {
   "cell_type": "code",
   "execution_count": 16,
   "metadata": {
    "collapsed": false
   },
   "outputs": [
    {
     "name": "stdout",
     "output_type": "stream",
     "text": [
      "16/01/30 17:40:10 WARN util.NativeCodeLoader: Unable to load native-hadoop library for your platform... using builtin-java classes where applicable\n",
      "Deleted hw3.1\n",
      "16/01/30 17:40:12 WARN streaming.StreamJob: -file option is deprecated, please use generic option -files instead.\n",
      "16/01/30 17:40:12 WARN util.NativeCodeLoader: Unable to load native-hadoop library for your platform... using builtin-java classes where applicable\n",
      "packageJobJar: [mapper.py, /var/folders/dm/nsw7wjf91f1c74hgl17ldw040000gn/T/hadoop-unjar6298878087895734314/] [] /var/folders/dm/nsw7wjf91f1c74hgl17ldw040000gn/T/streamjob2623231940027838210.jar tmpDir=null\n"
     ]
    }
   ],
   "source": [
    "# Hadoop streaming command\n",
    "!hdfs dfs -rm -r hw3.1\n",
    "!hadoop jar $HADOOP_INSTALL/share/hadoop/tools/lib/hadoop-*streaming*.jar \\\n",
    "-D mapred.reduce.tasks=0 \\\n",
    "-file mapper.py -mapper mapper.py \\\n",
    "-input Consumer_Complaints.csv \\\n",
    "-output hw3.1"
   ]
  },
  {
   "cell_type": "markdown",
   "metadata": {},
   "source": [
    "### Result\n",
    "\n",
    "![result](https://photos-3.dropbox.com/t/2/AAD96apEVb1NEyOodPWCtkdcs8K_w-nW4PJtqZe6LTUSCQ/12/15674996/png/32x32/1/_/1/2/Screenshot%202016-01-30%2017.42.35.png/EKi01gsYnS8gBygH/Hs_dhV-YD5vL1Ja5tyxj1tFInEhRb2H_uNNtVF96zBs?size=1024x768&size_mode=3)"
   ]
  },
  {
   "cell_type": "markdown",
   "metadata": {},
   "source": [
    "## HW 3.2  - Part 1\n",
    "\n",
    "Analyze the performance of your Mappers, Combiners and Reducers using Counters\n",
    "\n",
    "For this brief study the Input file will be one record (the next line only): \n",
    "foo foo quux labs foo bar quux\n",
    "\n",
    "\n",
    "Perform a word count analysis of this single record dataset using a Mapper and Reducer based WordCount (i.e., no combiners are used here) using user defined Counters to count up how many time the mapper and reducer are called. What is the value of your user defined Mapper Counter, and Reducer Counter after completing this word count job. The answer  should be 1 and 4 respectively. Please explain.\n",
    "\n",
    "Please use mulitple mappers and reducers for these jobs (at least 2 mappers and 2 reducers).\n",
    "Perform a word count analysis of the Issue column of the Consumer Complaints  Dataset using a Mapper and Reducer based WordCount (i.e., no combiners used anywhere)  using user defined Counters to count up how many time the mapper and reducer are called. What is the value of your user defined Mapper Counter, and Reducer Counter after completing your word count job. \n",
    "\n",
    "Perform a word count analysis of the Issue column of the Consumer Complaints  Dataset using a Mapper, Reducer, and standalone combiner (i.e., not an in-memory combiner) based WordCount using user defined Counters to count up how many time the mapper, combiner, reducer are called. What is the value of your user defined Mapper Counter, and Reducer Counter after completing your word count job. \n",
    "Using a single reducer: What are the top 50 most frequent terms in your word count analysis? Present the top 50 terms and their frequency and their relative frequency. Present the top 50 terms and their frequency and their relative frequency. If there are ties please sort the tokens in alphanumeric/string order. Present bottom 10 tokens (least frequent items). "
   ]
  },
  {
   "cell_type": "code",
   "execution_count": 377,
   "metadata": {
    "collapsed": false
   },
   "outputs": [
    {
     "name": "stdout",
     "output_type": "stream",
     "text": [
      "16/02/01 15:06:49 WARN util.NativeCodeLoader: Unable to load native-hadoop library for your platform... using builtin-java classes where applicable\n",
      "Deleted input.txt\n",
      "16/02/01 15:06:51 WARN util.NativeCodeLoader: Unable to load native-hadoop library for your platform... using builtin-java classes where applicable\n"
     ]
    }
   ],
   "source": [
    "# Prepare input file\n",
    "!echo \"foo foo quux labs foo bar quux\" > input.txt\n",
    "!hdfs dfs -rm -r input.txt\n",
    "!hdfs dfs -put input.txt"
   ]
  },
  {
   "cell_type": "markdown",
   "metadata": {},
   "source": [
    "### Mapper and Reducer"
   ]
  },
  {
   "cell_type": "code",
   "execution_count": 378,
   "metadata": {
    "collapsed": false
   },
   "outputs": [
    {
     "name": "stdout",
     "output_type": "stream",
     "text": [
      "Overwriting mapper.py\n"
     ]
    }
   ],
   "source": [
    "%%writefile mapper.py\n",
    "#!/usr/bin/python\n",
    "import sys\n",
    "import re\n",
    "\n",
    "# input comes from STDIN (standard input)\n",
    "for line in sys.stdin:\n",
    "    sys.stderr.write('reporter:counter:custom,mapper_called,1\\n')\n",
    "    words = line.strip().split(\" \")\n",
    "    for word in words:\n",
    "        print word + \"\\t1\" \n",
    "            "
   ]
  },
  {
   "cell_type": "code",
   "execution_count": 379,
   "metadata": {
    "collapsed": false
   },
   "outputs": [
    {
     "name": "stdout",
     "output_type": "stream",
     "text": [
      "Overwriting reducer.py\n"
     ]
    }
   ],
   "source": [
    "%%writefile reducer.py\n",
    "#!/usr/bin/python\n",
    "import sys\n",
    "\n",
    "wordCount = 0\n",
    "cur = None # the current word\n",
    "\n",
    "# input comes from STDIN\n",
    "for line in sys.stdin:\n",
    "    (word, count) = line.strip().split('\\t')\n",
    "    count = int(count)\n",
    "    \n",
    "    # If we have encountered a new word, output the answer of the current word\n",
    "    if cur != word:\n",
    "        if cur is not None:\n",
    "            sys.stderr.write('reporter:counter:custom,reducer_called,1\\n')\n",
    "            print \"%s\\t%d\" % (cur, wordCount)\n",
    "            wordCount = 0\n",
    "            \n",
    "    wordCount += count\n",
    "    cur = word\n",
    "\n",
    "\n",
    "# Output for the last word seen\n",
    "if cur is not None:\n",
    "    sys.stderr.write('reporter:counter:custom,reducer_called,1\\n')\n",
    "    print \"%s\\t%d\" % (cur, wordCount)"
   ]
  },
  {
   "cell_type": "markdown",
   "metadata": {},
   "source": [
    "### Quick Test"
   ]
  },
  {
   "cell_type": "code",
   "execution_count": 380,
   "metadata": {
    "collapsed": false
   },
   "outputs": [
    {
     "name": "stdout",
     "output_type": "stream",
     "text": [
      "reporter:counter:custom,mapper_called,1\n",
      "reporter:counter:custom,reducer_called,1\n",
      "bar\t1\n",
      "reporter:counter:custom,reducer_called,1\n",
      "foo\t3\n",
      "reporter:counter:custom,reducer_called,1\n",
      "labs\t1\n",
      "reporter:counter:custom,reducer_called,1\n",
      "quux\t2\n"
     ]
    }
   ],
   "source": [
    "!cat input.txt | python mapper.py | sort | python reducer.py"
   ]
  },
  {
   "cell_type": "markdown",
   "metadata": {},
   "source": [
    "### Run in Hadoop"
   ]
  },
  {
   "cell_type": "code",
   "execution_count": 381,
   "metadata": {
    "collapsed": false
   },
   "outputs": [
    {
     "name": "stdout",
     "output_type": "stream",
     "text": [
      "16/02/01 15:07:10 WARN util.NativeCodeLoader: Unable to load native-hadoop library for your platform... using builtin-java classes where applicable\n",
      "Deleted hw3.2-part1\n",
      "16/02/01 15:07:12 WARN streaming.StreamJob: -file option is deprecated, please use generic option -files instead.\n",
      "16/02/01 15:07:12 WARN util.NativeCodeLoader: Unable to load native-hadoop library for your platform... using builtin-java classes where applicable\n",
      "packageJobJar: [mapper.py, reducer.py, /var/folders/dm/nsw7wjf91f1c74hgl17ldw040000gn/T/hadoop-unjar5563988784049036857/] [] /var/folders/dm/nsw7wjf91f1c74hgl17ldw040000gn/T/streamjob5401736185448274375.jar tmpDir=null\n"
     ]
    }
   ],
   "source": [
    "!hdfs dfs -rm -r hw3.2-part1\n",
    "\n",
    "!hadoop jar $HADOOP_INSTALL/share/hadoop/tools/lib/hadoop-*streaming*.jar \\\n",
    "-file mapper.py -mapper mapper.py \\\n",
    "-file reducer.py -reducer reducer.py \\\n",
    "-input input.txt \\\n",
    "-output hw3.2-part1"
   ]
  },
  {
   "cell_type": "code",
   "execution_count": 382,
   "metadata": {
    "collapsed": false
   },
   "outputs": [
    {
     "name": "stdout",
     "output_type": "stream",
     "text": [
      "16/02/01 15:07:39 WARN util.NativeCodeLoader: Unable to load native-hadoop library for your platform... using builtin-java classes where applicable\n",
      "bar\t1\n",
      "foo\t3\n",
      "labs\t1\n",
      "quux\t2\n"
     ]
    }
   ],
   "source": [
    "# Show result\n",
    "!hdfs dfs -cat hw3.2-part1/part-00000"
   ]
  },
  {
   "cell_type": "markdown",
   "metadata": {},
   "source": [
    "### Result Part 1\n",
    "\n",
    "The mapper was called once, because there is only one line of input.  \n",
    "The reducer was called four times, because there are four words.\n"
   ]
  },
  {
   "cell_type": "markdown",
   "metadata": {},
   "source": [
    "## HW 3.2  - Part 2\n",
    "\n",
    "Please use mulitple mappers and reducers for these jobs (at least 2 mappers and 2 reducers).\n",
    "Perform a word count analysis of the Issue column of the Consumer Complaints  Dataset using a Mapper and Reducer based WordCount (i.e., no combiners used anywhere)  using user defined Counters to count up how many time the mapper and reducer are called. What is the value of your user defined Mapper Counter, and Reducer Counter after completing your word count job. "
   ]
  },
  {
   "cell_type": "markdown",
   "metadata": {},
   "source": [
    "### Mapper (re-use last Reducer)"
   ]
  },
  {
   "cell_type": "code",
   "execution_count": 385,
   "metadata": {
    "collapsed": false
   },
   "outputs": [
    {
     "name": "stdout",
     "output_type": "stream",
     "text": [
      "Overwriting mapper.py\n"
     ]
    }
   ],
   "source": [
    "%%writefile mapper.py\n",
    "#!/usr/bin/python\n",
    "import sys\n",
    "import re\n",
    "\n",
    "# Word delimiters are space, \\ and \"\n",
    "regex = re.compile(r\"[\\s/\\\"]+\")\n",
    "\n",
    "# input comes from STDIN (standard input)\n",
    "for line in sys.stdin:\n",
    "    fields = line.strip().split(\",\")\n",
    "\n",
    "    # Skip header row\n",
    "    if fields[0] == \"Complaint ID\":\n",
    "        continue\n",
    "\n",
    "    sys.stderr.write('reporter:counter:custom,mapper_called,1\\n')\n",
    "    \n",
    "    words = filter(None, regex.split(fields[3]))\n",
    "    for word in words:\n",
    "        print word + \"\\t1\" \n",
    "            "
   ]
  },
  {
   "cell_type": "markdown",
   "metadata": {},
   "source": [
    "### Quick Test"
   ]
  },
  {
   "cell_type": "code",
   "execution_count": 386,
   "metadata": {
    "collapsed": false
   },
   "outputs": [
    {
     "name": "stdout",
     "output_type": "stream",
     "text": [
      "reporter:counter:custom,mapper_called,1\r\n",
      "reporter:counter:custom,mapper_called,1\r\n",
      "reporter:counter:custom,mapper_called,1\r\n",
      "reporter:counter:custom,reducer_called,1\r\n",
      "Deposits\t1\r\n",
      "reporter:counter:custom,reducer_called,1\r\n",
      "Disclosure\t2\r\n",
      "reporter:counter:custom,reducer_called,1\r\n",
      "and\t1\r\n",
      "reporter:counter:custom,reducer_called,1\r\n",
      "debt\t2\r\n",
      "reporter:counter:custom,reducer_called,1\r\n",
      "of\t2\r\n",
      "reporter:counter:custom,reducer_called,1\r\n",
      "verification\t2\r\n",
      "reporter:counter:custom,reducer_called,1\r\n",
      "withdrawals\t1\r\n"
     ]
    }
   ],
   "source": [
    "!head -n 4 Consumer_Complaints.csv | python mapper.py | sort | python reducer.py"
   ]
  },
  {
   "cell_type": "markdown",
   "metadata": {},
   "source": [
    "### Run in Hadoop"
   ]
  },
  {
   "cell_type": "code",
   "execution_count": 387,
   "metadata": {
    "collapsed": false
   },
   "outputs": [
    {
     "name": "stdout",
     "output_type": "stream",
     "text": [
      "16/02/01 15:09:16 WARN util.NativeCodeLoader: Unable to load native-hadoop library for your platform... using builtin-java classes where applicable\n",
      "Deleted hw3.2-part2\n",
      "16/02/01 15:09:18 WARN streaming.StreamJob: -file option is deprecated, please use generic option -files instead.\n",
      "16/02/01 15:09:18 WARN util.NativeCodeLoader: Unable to load native-hadoop library for your platform... using builtin-java classes where applicable\n",
      "packageJobJar: [mapper.py, reducer.py, /var/folders/dm/nsw7wjf91f1c74hgl17ldw040000gn/T/hadoop-unjar4009242038859086120/] [] /var/folders/dm/nsw7wjf91f1c74hgl17ldw040000gn/T/streamjob1615893112402153518.jar tmpDir=null\n"
     ]
    }
   ],
   "source": [
    "!hdfs dfs -rm -r hw3.2-part2\n",
    "\n",
    "# Use 4 mappers and 4 reducers\n",
    "!hadoop jar $HADOOP_INSTALL/share/hadoop/tools/lib/hadoop-*streaming*.jar \\\n",
    "-D mapred.map.tasks=4 -D mapred.reduce.tasks=4 \\\n",
    "-file mapper.py -mapper mapper.py \\\n",
    "-file reducer.py -reducer reducer.py \\\n",
    "-input Consumer_Complaints.csv \\\n",
    "-output hw3.2-part2"
   ]
  },
  {
   "cell_type": "markdown",
   "metadata": {},
   "source": [
    "### Result Part 2\n",
    "\n",
    "The mapper was called 312,912 times.  \n",
    "The reducer was called 180 times."
   ]
  },
  {
   "cell_type": "markdown",
   "metadata": {},
   "source": [
    "## HW3.2 - Part 3\n",
    "\n",
    "Perform a word count analysis of the Issue column of the Consumer Complaints  Dataset using a Mapper, Reducer, and standalone combiner (i.e., not an in-memory combiner) based WordCount using user defined Counters to count up how many time the mapper, combiner, reducer are called. What is the value of your user defined Mapper Counter, and Reducer Counter after completing your word count job."
   ]
  },
  {
   "cell_type": "markdown",
   "metadata": {},
   "source": [
    "### Combiner (Note: Re-use the previous mapper and reducer)"
   ]
  },
  {
   "cell_type": "code",
   "execution_count": 388,
   "metadata": {
    "collapsed": false
   },
   "outputs": [
    {
     "name": "stdout",
     "output_type": "stream",
     "text": [
      "Overwriting combiner.py\n"
     ]
    }
   ],
   "source": [
    "%%writefile combiner.py\n",
    "#!/usr/bin/python\n",
    "import sys\n",
    "\n",
    "wordCount = 0\n",
    "curr = None # the current word\n",
    "\n",
    "# input comes from STDIN\n",
    "for line in sys.stdin:\n",
    "    (word, count) = line.split('\\t')\n",
    "    count = int(count)\n",
    "    \n",
    "    # If we have encountered a new word, output the answer of the current word\n",
    "    if curr != word:\n",
    "        if curr is not None:\n",
    "            sys.stderr.write('reporter:counter:custom,combiner_called,1\\n')\n",
    "            print \"%s\\t%d\" % (curr, wordCount)\n",
    "            wordCount = 0\n",
    "            \n",
    "    wordCount += count\n",
    "    curr = word\n",
    "\n",
    "\n",
    "# Output for the last word seen\n",
    "if curr is not None:\n",
    "    sys.stderr.write('reporter:counter:custom,combiner_called,1\\n')\n",
    "    print \"%s\\t%d\" % (curr, wordCount)"
   ]
  },
  {
   "cell_type": "markdown",
   "metadata": {},
   "source": [
    "### Quick Test"
   ]
  },
  {
   "cell_type": "code",
   "execution_count": 389,
   "metadata": {
    "collapsed": false
   },
   "outputs": [
    {
     "name": "stdout",
     "output_type": "stream",
     "text": [
      "reporter:counter:custom,reducer_called,1\r\n",
      "Deposits\t1\r\n",
      "reporter:counter:custom,reducer_called,1\r\n",
      "Disclosure\t2\r\n",
      "reporter:counter:custom,reducer_called,1\r\n",
      "and\t1\r\n",
      "reporter:counter:custom,reducer_called,1\r\n",
      "debt\t2\r\n",
      "reporter:counter:custom,reducer_called,1\r\n",
      "of\t2\r\n",
      "reporter:counter:custom,reducer_called,1\r\n",
      "verification\t2\r\n",
      "reporter:counter:custom,reducer_called,1\r\n",
      "withdrawals\t1\r\n"
     ]
    }
   ],
   "source": [
    "!head -n 4 Consumer_Complaints.csv | python mapper.py 2>/dev/null | python combiner.py 2>/dev/null | sort | python reducer.py"
   ]
  },
  {
   "cell_type": "code",
   "execution_count": 390,
   "metadata": {
    "collapsed": false
   },
   "outputs": [
    {
     "name": "stdout",
     "output_type": "stream",
     "text": [
      "16/02/01 15:12:06 WARN util.NativeCodeLoader: Unable to load native-hadoop library for your platform... using builtin-java classes where applicable\n",
      "Deleted hw3.2-part3\n",
      "16/02/01 15:12:08 WARN streaming.StreamJob: -file option is deprecated, please use generic option -files instead.\n",
      "16/02/01 15:12:09 WARN util.NativeCodeLoader: Unable to load native-hadoop library for your platform... using builtin-java classes where applicable\n",
      "packageJobJar: [mapper.py, combiner.py, reducer.py, /var/folders/dm/nsw7wjf91f1c74hgl17ldw040000gn/T/hadoop-unjar7280266546658507979/] [] /var/folders/dm/nsw7wjf91f1c74hgl17ldw040000gn/T/streamjob6856489607217714850.jar tmpDir=null\n"
     ]
    }
   ],
   "source": [
    "!hdfs dfs -rm -r hw3.2-part3\n",
    "\n",
    "# Use 4 mappers and 4 reducers\n",
    "!hadoop jar $HADOOP_INSTALL/share/hadoop/tools/lib/hadoop-*streaming*.jar \\\n",
    "-D mapred.map.tasks=4 -D mapred.reduce.tasks=4 \\\n",
    "-file mapper.py -mapper mapper.py \\\n",
    "-file combiner.py -combiner combiner.py \\\n",
    "-file reducer.py -reducer reducer.py \\\n",
    "-input Consumer_Complaints.csv \\\n",
    "-output hw3.2-part3"
   ]
  },
  {
   "cell_type": "markdown",
   "metadata": {},
   "source": [
    "### Result Part 3\n",
    "\n",
    "The mapper was called 312,912 times.  \n",
    "The combiner was called 628 times.  \n",
    "The reducer was called 180 times."
   ]
  },
  {
   "cell_type": "markdown",
   "metadata": {},
   "source": [
    "## HW 3.2 Part 4\n",
    "\n",
    "Using a single reducer: What are the top 50 most frequent terms in your word count analysis? Present the top 50 terms and their frequency and their relative frequency. If there are ties please sort the tokens in alphanumeric/string order. Present bottom 10 tokens (least frequent items). "
   ]
  },
  {
   "cell_type": "markdown",
   "metadata": {},
   "source": [
    "### Mapper and Reducer"
   ]
  },
  {
   "cell_type": "code",
   "execution_count": 391,
   "metadata": {
    "collapsed": false
   },
   "outputs": [
    {
     "name": "stdout",
     "output_type": "stream",
     "text": [
      "Overwriting mapper.py\n"
     ]
    }
   ],
   "source": [
    "%%writefile mapper.py\n",
    "#!/usr/bin/python\n",
    "import sys\n",
    "import re\n",
    "\n",
    "# input comes from STDIN (standard input)\n",
    "for line in sys.stdin:\n",
    "    (word, count) = line.strip().split(\"\\t\")\n",
    "\n",
    "    sys.stderr.write('reporter:counter:custom,mapper_called,1\\n')\n",
    "    \n",
    "    #print count + \"\\t\" + word \n",
    "    print line.strip()\n",
    "\n",
    "    # Use order inversion so that reducer can count the total word count in a single pass\n",
    "    #print str(sys.maxint) + \"\\t\" + count\n",
    "    print count + \"\\t\" + str(sys.maxint)"
   ]
  },
  {
   "cell_type": "code",
   "execution_count": 392,
   "metadata": {
    "collapsed": false
   },
   "outputs": [
    {
     "name": "stdout",
     "output_type": "stream",
     "text": [
      "Overwriting reducer.py\n"
     ]
    }
   ],
   "source": [
    "%%writefile reducer.py\n",
    "#!/usr/bin/python\n",
    "from __future__ import division # Use Python 3-style division\n",
    "import sys, Queue\n",
    "\n",
    "n_max, n_min = 50, 10\n",
    "q_min = Queue.Queue(n_min)\n",
    "a_max = []\n",
    "\n",
    "def updateResult(word, count, freq):\n",
    "    global n_max, q_min, a_max\n",
    "    \n",
    "    rec = [word, count, freq]\n",
    "    # put the biggest\n",
    "    if len(a_max) < n_max:\n",
    "        a_max.append(rec)\n",
    "    \n",
    "    # whatever left is the smallest\n",
    "    if q_min.full():\n",
    "        q_min.get()\n",
    "    q_min.put(rec)\n",
    "    \n",
    "wordCount = 0 # Count of each word\n",
    "totalCount = 0 # Total number of words\n",
    "curr = None # the current word\n",
    "\n",
    "# input comes from STDIN\n",
    "for line in sys.stdin:\n",
    "    #(count, word) = line.strip().split('\\t')\n",
    "    (word, count) = line.strip().split('\\t')\n",
    "    count = int(count)\n",
    "\n",
    "    # Find out the total word count.\n",
    "    # We use count == sys.maxint as the special key for order inversion.\n",
    "    if count == sys.maxint:\n",
    "        totalCount += int(word) # The word is the count\n",
    "        continue\n",
    "    \n",
    "    # If we have encountered a new word, output the answer of the current word\n",
    "    if curr != word:\n",
    "        if curr is not None:\n",
    "            sys.stderr.write('reporter:counter:custom,reducer_called,1\\n')\n",
    "            updateResult(curr, wordCount, wordCount/totalCount)\n",
    "            wordCount = 0\n",
    "            \n",
    "    wordCount += count\n",
    "    curr = word\n",
    "\n",
    "# Handle the last word seen\n",
    "if curr is not None:\n",
    "    sys.stderr.write('reporter:counter:custom,reducer_called,1\\n')\n",
    "    updateResult(curr, wordCount, wordCount/totalCount)\n",
    "    \n",
    "# Output the result\n",
    "print \"Top %d words\" % n_max\n",
    "for rec in a_max:\n",
    "    print \"%s\\t%d\\t%f\" % tuple(rec)\n",
    "    \n",
    "print\n",
    "print \"Bottom %d words\" % n_min\n",
    "while not q_min.empty():\n",
    "    print \"%s\\t%d\\t%f\" % tuple(q_min.get())\n"
   ]
  },
  {
   "cell_type": "markdown",
   "metadata": {},
   "source": [
    "### Quick test"
   ]
  },
  {
   "cell_type": "code",
   "execution_count": 308,
   "metadata": {
    "collapsed": false
   },
   "outputs": [
    {
     "name": "stdout",
     "output_type": "stream",
     "text": [
      "16/02/01 09:42:55 WARN util.NativeCodeLoader: Unable to load native-hadoop library for your platform... using builtin-java classes where applicable\n",
      "16/02/01 09:42:57 WARN util.NativeCodeLoader: Unable to load native-hadoop library for your platform... using builtin-java classes where applicable\n",
      "put: `hw3.2-part4-input.txt': File exists\n"
     ]
    }
   ],
   "source": [
    "# Prepare test input\n",
    "!hdfs dfs -getmerge hw3.2-part3/part-* hw3.2-part4-input.txt\n",
    "!hdfs dfs -put hw3.2-part4-input.txt"
   ]
  },
  {
   "cell_type": "code",
   "execution_count": 393,
   "metadata": {
    "collapsed": false
   },
   "outputs": [
    {
     "name": "stdout",
     "output_type": "stream",
     "text": [
      "Top 50 words\r\n",
      "Account\t16555\t0.874399\r\n",
      "Can't\t1999\t0.105583\r\n",
      "Cash\t240\t0.012676\r\n",
      "Applied\t139\t0.007342\r\n",
      "\r\n",
      "Bottom 10 words\r\n",
      "Account\t16555\t0.874399\r\n",
      "Can't\t1999\t0.105583\r\n",
      "Cash\t240\t0.012676\r\n",
      "Applied\t139\t0.007342\r\n"
     ]
    }
   ],
   "source": [
    "!head -n 4 hw3.2-part4-input.txt | python mapper.py 2>/dev/null | \\\n",
    "sort -t$'\\t' -k2,2nr -k1,1 | python reducer.py 2>/dev/null "
   ]
  },
  {
   "cell_type": "markdown",
   "metadata": {},
   "source": [
    "### Run it in Hadoop"
   ]
  },
  {
   "cell_type": "code",
   "execution_count": 394,
   "metadata": {
    "collapsed": false
   },
   "outputs": [
    {
     "name": "stdout",
     "output_type": "stream",
     "text": [
      "16/02/01 15:14:03 WARN util.NativeCodeLoader: Unable to load native-hadoop library for your platform... using builtin-java classes where applicable\n",
      "Deleted hw3.2-part4\n",
      "16/02/01 15:14:05 WARN streaming.StreamJob: -file option is deprecated, please use generic option -files instead.\n",
      "16/02/01 15:14:05 WARN util.NativeCodeLoader: Unable to load native-hadoop library for your platform... using builtin-java classes where applicable\n",
      "packageJobJar: [mapper.py, reducer.py, /var/folders/dm/nsw7wjf91f1c74hgl17ldw040000gn/T/hadoop-unjar8286699812081463044/] [] /var/folders/dm/nsw7wjf91f1c74hgl17ldw040000gn/T/streamjob738009617613787443.jar tmpDir=null\n"
     ]
    }
   ],
   "source": [
    "!hdfs dfs -rm -r hw3.2-part4\n",
    "\n",
    "# For sorting, use the 1st field (count) as the primary key, in reverse order.\n",
    "# Since we specify 2 key fields, the 2nd field (word) will be used as secondary key.\n",
    "!hadoop jar $HADOOP_INSTALL/share/hadoop/tools/lib/hadoop-*streaming*.jar \\\n",
    "-D mapred.reduce.tasks=1 \\\n",
    "-D stream.num.map.output.key.fields=2 \\\n",
    "-D mapred.output.key.comparator.class=org.apache.hadoop.mapred.lib.KeyFieldBasedComparator \\\n",
    "-D mapred.text.key.comparator.options=\"-k2,2nr -k1,1\" \\\n",
    "-file mapper.py -mapper mapper.py \\\n",
    "-file reducer.py -reducer reducer.py \\\n",
    "-input hw3.2-part3/part-* \\\n",
    "-output hw3.2-part4\n"
   ]
  },
  {
   "cell_type": "markdown",
   "metadata": {},
   "source": [
    "### Result for Part 4"
   ]
  },
  {
   "cell_type": "code",
   "execution_count": 395,
   "metadata": {
    "collapsed": false
   },
   "outputs": [
    {
     "name": "stdout",
     "output_type": "stream",
     "text": [
      "16/02/01 15:14:51 WARN util.NativeCodeLoader: Unable to load native-hadoop library for your platform... using builtin-java classes where applicable\n",
      "Top 50 words\t\n",
      "Loan\t107254\t0.109389\n",
      "modification\t70487\t0.071890\n",
      "credit\t40483\t0.041289\n",
      "servicing\t36767\t0.037499\n",
      "report\t34903\t0.035598\n",
      "Incorrect\t29133\t0.029713\n",
      "information\t29069\t0.029648\n",
      "on\t29069\t0.029648\n",
      "or\t22533\t0.022982\n",
      "debt\t17966\t0.018324\n",
      "Account\t16555\t0.016885\n",
      "and\t16448\t0.016775\n",
      "opening\t16205\t0.016528\n",
      "Credit\t14768\t0.015062\n",
      "club\t12545\t0.012795\n",
      "health\t12545\t0.012795\n",
      "loan\t12376\t0.012622\n",
      "not\t12353\t0.012599\n",
      "Cont'd\t11848\t0.012084\n",
      "attempts\t11848\t0.012084\n",
      "collect\t11848\t0.012084\n",
      "owed\t11848\t0.012084\n",
      "of\t10885\t0.011102\n",
      "my\t10731\t0.010945\n",
      "Deposits\t10555\t0.010765\n",
      "withdrawals\t10555\t0.010765\n",
      "Problems\t9484\t0.009673\n",
      "Application\t8868\t0.009045\n",
      "to\t8401\t0.008568\n",
      "Billing\t8158\t0.008320\n",
      "Other\t7886\t0.008043\n",
      "disputes\t6938\t0.007076\n",
      "Communication\t6920\t0.007058\n",
      "tactics\t6920\t0.007058\n",
      "reporting\t6559\t0.006690\n",
      "lease\t6337\t0.006463\n",
      "the\t6248\t0.006372\n",
      "being\t5663\t0.005776\n",
      "by\t5663\t0.005776\n",
      "caused\t5663\t0.005776\n",
      "funds\t5663\t0.005776\n",
      "low\t5663\t0.005776\n",
      "process\t5505\t0.005615\n",
      "Disclosure\t5214\t0.005318\n",
      "verification\t5214\t0.005318\n",
      "Managing\t5006\t0.005106\n",
      "company's\t4858\t0.004955\n",
      "investigation\t4858\t0.004955\n",
      "card\t4405\t0.004493\n",
      "Unable\t4357\t0.004444\n",
      "\t\n",
      "Bottom 10 words\t\n",
      "received\t98\t0.000100\n",
      "Payment\t92\t0.000094\n",
      "credited\t92\t0.000094\n",
      "Convenience\t75\t0.000076\n",
      "checks\t75\t0.000076\n",
      "amt\t71\t0.000072\n",
      "day\t71\t0.000072\n",
      "wrong\t71\t0.000072\n",
      "disclosures\t64\t0.000065\n",
      "missing\t64\t0.000065\n"
     ]
    }
   ],
   "source": [
    "!hdfs dfs -cat hw3.2-part4/part-00000"
   ]
  },
  {
   "cell_type": "markdown",
   "metadata": {},
   "source": [
    "## HW3.2.1 OPTIONAL \n",
    "Using 2 reducers: What are the top 50 most frequent terms in your word count analysis? Present the top 50 terms and their frequency and their relative frequency. Present the top 50 terms and their frequency and their relative frequency. If there are ties please sort the tokens in alphanumeric/string order. Present bottom 10 tokens (least frequent items). "
   ]
  },
  {
   "cell_type": "code",
   "execution_count": null,
   "metadata": {
    "collapsed": true
   },
   "outputs": [],
   "source": [
    "?????"
   ]
  },
  {
   "cell_type": "markdown",
   "metadata": {},
   "source": [
    "## HW3.3. \n",
    "\n",
    "Shopping Cart Analysis  \n",
    "Product Recommendations: The action or practice of selling additional products or services \n",
    "to existing customers is called cross-selling. Giving product recommendation is \n",
    "one of the examples of cross-selling that are frequently used by online retailers. \n",
    "One simple method to give product recommendations is to recommend products that are frequently\n",
    "browsed together by the customers.  \n",
    "\n",
    "For this homework use the online browsing behavior dataset located at: \n",
    "\n",
    "       https://www.dropbox.com/s/zlfyiwa70poqg74/ProductPurchaseData.txt?dl=0\n",
    "\n",
    "Each line in this dataset represents a browsing session of a customer. \n",
    "On each line, each string of 8 characters represents the id of an item browsed during that session.   \n",
    "The items are separated by spaces.\n",
    "\n",
    "\n",
    "Do some exploratory data analysis of this dataset. \n",
    "\n",
    "How many unique items are available from this supplier?\n",
    "\n",
    "Using a single reducer: Report your findings such as number of unique products; largest basket; report the top 50 most frequently purchased items,  their frequency,  and their relative frequency (break ties by sorting the products alphabetical order) etc. using Hadoop Map-Reduce. "
   ]
  },
  {
   "cell_type": "code",
   "execution_count": 396,
   "metadata": {
    "collapsed": false
   },
   "outputs": [
    {
     "name": "stdout",
     "output_type": "stream",
     "text": [
      "Overwriting mapper1.py\n"
     ]
    }
   ],
   "source": [
    "%%writefile mapper1.py\n",
    "#!/usr/bin/python\n",
    "import sys\n",
    "import re\n",
    "\n",
    "# input comes from STDIN (standard input)\n",
    "for line in sys.stdin:\n",
    "    items = line.strip().split()\n",
    "    \n",
    "    # Use order inversion to help calculate the largest basket\n",
    "    print \"#\\t\" + str(len(items)) # Use # as the special key\n",
    "\n",
    "    for item in items:\n",
    "        print item + \"\\t1\"\n"
   ]
  },
  {
   "cell_type": "code",
   "execution_count": 397,
   "metadata": {
    "collapsed": false
   },
   "outputs": [
    {
     "name": "stdout",
     "output_type": "stream",
     "text": [
      "Overwriting reducer1.py\n"
     ]
    }
   ],
   "source": [
    "%%writefile reducer1.py\n",
    "#!/usr/bin/python\n",
    "from __future__ import division # Use Python 3-style division\n",
    "import sys\n",
    "\n",
    "largestBasket = None # Largest basket seen\n",
    "uniqueCount = 0 # Number of unqiue items\n",
    "itemCount = 0 # Item count\n",
    "curr = None # The current item\n",
    "        \n",
    "# input comes from STDIN\n",
    "for line in sys.stdin:\n",
    "    (item, count) = line.strip().split('\\t')\n",
    "    count = int(count)\n",
    "\n",
    "    # Find out the largest basket size.  The first set of input is for largest basket.\n",
    "    if largestBasket is None:\n",
    "        largestBasket = count\n",
    "        \n",
    "    # Skip all the largest basket records\n",
    "    if item == \"#\":\n",
    "        continue\n",
    "            \n",
    "    # If we have encountered a new item, output the count of the last item\n",
    "    if curr is not None and curr != item:\n",
    "        print \"%d\\t%s\" % (itemCount, curr)        \n",
    "        # Use order inversion to calculate the total number of items\n",
    "        print \"%d\\t%d\" % (sys.maxint, itemCount)\n",
    "        # Increase the number of unique items\n",
    "        uniqueCount += 1       \n",
    "        itemCount = 0\n",
    "            \n",
    "    itemCount += count\n",
    "    curr = item\n",
    "\n",
    "# Handle the last item seen\n",
    "if curr is not None:\n",
    "    print \"%d\\t%s\" % (itemCount, curr)        \n",
    "    # Use order inversion to calculate the total number of items\n",
    "    print \"%d\\t%d\" % (sys.maxint, itemCount)\n",
    "    # Increase the number of unique items\n",
    "    uniqueCount += 1       \n",
    "    itemCount = 0\n",
    "    \n",
    "# Report the \"Largest Basket\" and \"Number of unique items\"\n",
    "print \"%d\\t%d\" % (sys.maxint-1, largestBasket)\n",
    "print \"%d\\t%d\" % (sys.maxint-2, uniqueCount)\n"
   ]
  },
  {
   "cell_type": "code",
   "execution_count": 408,
   "metadata": {
    "collapsed": false
   },
   "outputs": [
    {
     "name": "stdout",
     "output_type": "stream",
     "text": [
      "Overwriting mapper2.py\n"
     ]
    }
   ],
   "source": [
    "%%writefile mapper2.py\n",
    "#!/usr/bin/python\n",
    "import sys\n",
    "import re\n",
    "\n",
    "# input comes from STDIN (standard input)\n",
    "for line in sys.stdin:\n",
    "    print line.strip()\n"
   ]
  },
  {
   "cell_type": "code",
   "execution_count": 450,
   "metadata": {
    "collapsed": false
   },
   "outputs": [
    {
     "name": "stdout",
     "output_type": "stream",
     "text": [
      "Overwriting reducer2.py\n"
     ]
    }
   ],
   "source": [
    "%%writefile reducer2.py\n",
    "#!/usr/bin/python\n",
    "from __future__ import division # Use Python 3-style division\n",
    "import sys\n",
    "\n",
    "totalCount = 0 # Total number of items\n",
    "itemPrinted = 0\n",
    "itemCount = 0\n",
    "curr = None # The current item\n",
    "        \n",
    "# input comes from STDIN\n",
    "for line in sys.stdin:\n",
    "    (count, item) = line.strip().split('\\t')\n",
    "    try:\n",
    "        count = int(count)\n",
    "    except:\n",
    "        print \"Unexpected error:\", sys.exc_info()[0]\n",
    "        continue\n",
    "    \n",
    "    # The first part is for calculating the total number of items\n",
    "    if count == sys.maxint:\n",
    "        totalCount += int(item)\n",
    "        continue\n",
    "        \n",
    "    if count == sys.maxint - 1:\n",
    "        print \"Largest basket size:\", item\n",
    "        print\n",
    "        continue\n",
    "        \n",
    "    if count == sys.maxint - 2:\n",
    "        print \"Number of unique items:\", item\n",
    "        print\n",
    "        continue\n",
    "\n",
    "    # If we have encountered a new item, output the count of the current item\n",
    "    if curr is not None and curr != item:\n",
    "        if itemPrinted < 50:\n",
    "            print \"%s\\t%d\\t%f\" % (curr, itemCount, itemCount/totalCount) \n",
    "            itemPrinted += 1\n",
    "            \n",
    "        itemCount = 0\n",
    "    \n",
    "    itemCount += count\n",
    "    curr = item\n",
    "\n",
    "    \n",
    "# Handle the last item seen\n",
    "if itemPrinted < 50 and curr is not None:\n",
    "    print \"%s\\t%d\\t%f\" % (curr, itemCount, itemCount/totalCount)     \n"
   ]
  },
  {
   "cell_type": "markdown",
   "metadata": {},
   "source": [
    "### Quick Test"
   ]
  },
  {
   "cell_type": "code",
   "execution_count": 452,
   "metadata": {
    "collapsed": false
   },
   "outputs": [
    {
     "name": "stdout",
     "output_type": "stream",
     "text": [
      "Largest basket size: 12\r\n",
      "\r\n",
      "Number of unique items: 22\r\n",
      "\r\n",
      "ELE17451\t4\t0.142857\r\n",
      "FRO86643\t2\t0.071429\r\n",
      "GRO99222\t2\t0.071429\r\n",
      "SNA11465\t2\t0.071429\r\n",
      "DAI22896\t1\t0.035714\r\n",
      "ELE23393\t1\t0.035714\r\n",
      "ELE26917\t1\t0.035714\r\n",
      "ELE37798\t1\t0.035714\r\n",
      "ELE52966\t1\t0.035714\r\n",
      "ELE89019\t1\t0.035714\r\n",
      "ELE91550\t1\t0.035714\r\n",
      "FRO11987\t1\t0.035714\r\n",
      "FRO12685\t1\t0.035714\r\n",
      "FRO84225\t1\t0.035714\r\n",
      "FRO90334\t1\t0.035714\r\n",
      "GRO12298\t1\t0.035714\r\n",
      "GRO56989\t1\t0.035714\r\n",
      "GRO73461\t1\t0.035714\r\n",
      "SNA30755\t1\t0.035714\r\n",
      "SNA80192\t1\t0.035714\r\n",
      "SNA90258\t1\t0.035714\r\n",
      "SNA99873\t1\t0.035714\r\n"
     ]
    }
   ],
   "source": [
    "!head -n 4 ProductPurchaseData.txt | \\\n",
    "python mapper1.py 2>/dev/null | \\\n",
    "sort -t$'\\t' -k1,1 -k2,2nr | \\\n",
    "python reducer1.py 2>/dev/null | \\\n",
    "python mapper2.py 2>/dev/null | \\\n",
    "sort -t$'\\t' -k1,1nr -k2,2 | \\\n",
    "python reducer2.py 2>/dev/null "
   ]
  },
  {
   "cell_type": "markdown",
   "metadata": {},
   "source": [
    "### Run it in Hadoop"
   ]
  },
  {
   "cell_type": "code",
   "execution_count": 269,
   "metadata": {
    "collapsed": false
   },
   "outputs": [
    {
     "name": "stdout",
     "output_type": "stream",
     "text": [
      "16/01/31 23:09:40 WARN util.NativeCodeLoader: Unable to load native-hadoop library for your platform... using builtin-java classes where applicable\n",
      "16/01/31 23:09:42 WARN util.NativeCodeLoader: Unable to load native-hadoop library for your platform... using builtin-java classes where applicable\n"
     ]
    }
   ],
   "source": [
    "# upload input file to hdfs\n",
    "!hdfs dfs -rm -f ProductPurchaseData.txt\n",
    "!hdfs dfs -put ProductPurchaseData.txt"
   ]
  },
  {
   "cell_type": "code",
   "execution_count": 412,
   "metadata": {
    "collapsed": false
   },
   "outputs": [
    {
     "name": "stdout",
     "output_type": "stream",
     "text": [
      "16/02/01 15:31:06 WARN util.NativeCodeLoader: Unable to load native-hadoop library for your platform... using builtin-java classes where applicable\n",
      "Deleted hw3.3-part1\n",
      "16/02/01 15:31:08 WARN streaming.StreamJob: -file option is deprecated, please use generic option -files instead.\n",
      "16/02/01 15:31:08 WARN util.NativeCodeLoader: Unable to load native-hadoop library for your platform... using builtin-java classes where applicable\n",
      "packageJobJar: [mapper1.py, reducer1.py, /var/folders/dm/nsw7wjf91f1c74hgl17ldw040000gn/T/hadoop-unjar1703381879190473497/] [] /var/folders/dm/nsw7wjf91f1c74hgl17ldw040000gn/T/streamjob1429589155387374743.jar tmpDir=null\n"
     ]
    }
   ],
   "source": [
    "# First job\n",
    "!hdfs dfs -rm -r hw3.3-part1\n",
    "\n",
    "!hadoop jar $HADOOP_INSTALL/share/hadoop/tools/lib/hadoop-*streaming*.jar \\\n",
    "-D mapred.map.tasks=3 \\\n",
    "-D mapred.reduce.tasks=1 \\\n",
    "-D stream.num.map.output.key.fields=2 \\\n",
    "-D mapred.output.key.comparator.class=org.apache.hadoop.mapred.lib.KeyFieldBasedComparator \\\n",
    "-D mapred.text.key.comparator.options=\"-k1,1 -k2,2nr\" \\\n",
    "-file mapper1.py -mapper mapper1.py \\\n",
    "-file reducer1.py -reducer reducer1.py \\\n",
    "-input ProductPurchaseData.txt \\\n",
    "-output hw3.3-part1"
   ]
  },
  {
   "cell_type": "code",
   "execution_count": 451,
   "metadata": {
    "collapsed": false
   },
   "outputs": [
    {
     "name": "stdout",
     "output_type": "stream",
     "text": [
      "16/02/01 15:52:31 WARN util.NativeCodeLoader: Unable to load native-hadoop library for your platform... using builtin-java classes where applicable\n",
      "Deleted hw3.3-part2\n",
      "16/02/01 15:52:32 WARN streaming.StreamJob: -file option is deprecated, please use generic option -files instead.\n",
      "16/02/01 15:52:33 WARN util.NativeCodeLoader: Unable to load native-hadoop library for your platform... using builtin-java classes where applicable\n",
      "packageJobJar: [mapper2.py, reducer2.py, /var/folders/dm/nsw7wjf91f1c74hgl17ldw040000gn/T/hadoop-unjar7528322599724841861/] [] /var/folders/dm/nsw7wjf91f1c74hgl17ldw040000gn/T/streamjob6200196147300426428.jar tmpDir=null\n"
     ]
    }
   ],
   "source": [
    "# Second job, using the result from first job as input\n",
    "!hdfs dfs -rm -r hw3.3-part2\n",
    "\n",
    "!hadoop jar $HADOOP_INSTALL/share/hadoop/tools/lib/hadoop-*streaming*.jar \\\n",
    "-D mapred.map.tasks=1 \\\n",
    "-D mapred.reduce.tasks=1 \\\n",
    "-D stream.num.map.output.key.fields=2 \\\n",
    "-D mapred.output.key.comparator.class=org.apache.hadoop.mapred.lib.KeyFieldBasedComparator \\\n",
    "-D mapred.text.key.comparator.options=\"-k1,1nr -k2,2\" \\\n",
    "-file mapper2.py -mapper mapper2.py \\\n",
    "-file reducer2.py -reducer reducer2.py \\\n",
    "-input hw3.3-part1/part-* \\\n",
    "-output hw3.3-part2"
   ]
  },
  {
   "cell_type": "markdown",
   "metadata": {},
   "source": [
    "### Output Result"
   ]
  },
  {
   "cell_type": "code",
   "execution_count": 453,
   "metadata": {
    "collapsed": false
   },
   "outputs": [
    {
     "name": "stdout",
     "output_type": "stream",
     "text": [
      "16/02/01 15:54:44 WARN util.NativeCodeLoader: Unable to load native-hadoop library for your platform... using builtin-java classes where applicable\n",
      "Largest basket size: 37\t\n",
      "\t\n",
      "Number of unique items: 12592\t\n",
      "\t\n",
      "DAI62779\t6667\t0.017507\n",
      "FRO40251\t3881\t0.010191\n",
      "ELE17451\t3875\t0.010175\n",
      "GRO73461\t3602\t0.009458\n",
      "SNA80324\t3044\t0.007993\n",
      "ELE32164\t2851\t0.007486\n",
      "DAI75645\t2736\t0.007184\n",
      "SNA45677\t2455\t0.006447\n",
      "FRO31317\t2330\t0.006118\n",
      "DAI85309\t2293\t0.006021\n",
      "ELE26917\t2292\t0.006019\n",
      "FRO80039\t2233\t0.005864\n",
      "GRO21487\t2115\t0.005554\n",
      "SNA99873\t2083\t0.005470\n",
      "GRO59710\t2004\t0.005262\n",
      "GRO71621\t1920\t0.005042\n",
      "FRO85978\t1918\t0.005036\n",
      "GRO30386\t1840\t0.004832\n",
      "ELE74009\t1816\t0.004769\n",
      "GRO56726\t1784\t0.004685\n",
      "DAI63921\t1773\t0.004656\n",
      "GRO46854\t1756\t0.004611\n",
      "ELE66600\t1713\t0.004498\n",
      "DAI83733\t1712\t0.004496\n",
      "FRO32293\t1702\t0.004469\n",
      "ELE66810\t1697\t0.004456\n",
      "SNA55762\t1646\t0.004322\n",
      "DAI22177\t1627\t0.004272\n",
      "FRO78087\t1531\t0.004020\n",
      "ELE99737\t1516\t0.003981\n",
      "ELE34057\t1489\t0.003910\n",
      "GRO94758\t1489\t0.003910\n",
      "FRO35904\t1436\t0.003771\n",
      "FRO53271\t1420\t0.003729\n",
      "SNA93860\t1407\t0.003695\n",
      "SNA90094\t1390\t0.003650\n",
      "GRO38814\t1352\t0.003550\n",
      "ELE56788\t1345\t0.003532\n",
      "GRO61133\t1321\t0.003469\n",
      "DAI88807\t1316\t0.003456\n",
      "ELE74482\t1316\t0.003456\n",
      "ELE59935\t1311\t0.003443\n",
      "SNA96271\t1295\t0.003401\n",
      "DAI43223\t1290\t0.003387\n",
      "ELE91337\t1289\t0.003385\n",
      "GRO15017\t1275\t0.003348\n",
      "DAI31081\t1261\t0.003311\n",
      "GRO81087\t1220\t0.003204\n",
      "DAI22896\t1219\t0.003201\n",
      "GRO85051\t1214\t0.003188\n"
     ]
    }
   ],
   "source": [
    "!hdfs dfs -cat hw3.3-part2/part-00000"
   ]
  },
  {
   "cell_type": "markdown",
   "metadata": {},
   "source": [
    "## 3.3.1 OPTIONAL \n",
    "Using 2 reducers:  Report your findings such as number of unique products; largest basket; report the top 50 most frequently purchased items,  their frequency,  and their relative frequency (break ties by sorting the products alphabetical order) etc. using Hadoop Map-Reduce. "
   ]
  },
  {
   "cell_type": "code",
   "execution_count": null,
   "metadata": {
    "collapsed": true
   },
   "outputs": [],
   "source": [
    "?????"
   ]
  },
  {
   "cell_type": "markdown",
   "metadata": {},
   "source": [
    "## HW3.4. Pairs\n",
    "\n",
    "Suppose we want to recommend new products to the customer based on the products they\n",
    "have already browsed on the online website. Write a map-reduce program \n",
    "to find products which are frequently browsed together. Fix the support count (cooccurence count) to s = 100 \n",
    "(i.e. product pairs need to occur together at least 100 times to be considered frequent) \n",
    "and find pairs of items (sometimes referred to itemsets of size 2 in association rule mining) that have a support count of 100 or more.\n",
    "\n",
    "List the top 50 product pairs with corresponding support count (aka frequency), and relative frequency or support (the number of records where they coccur/the number of baskets in the dataset) in decreasing order of support  for frequent (100>count) itemsets of size 2. \n",
    "\n",
    "Use the Pairs pattern (lecture 3) to  extract these frequent itemsets of size 2. Free free to use combiners if they bring value. Instrument your code with counters for count the number of times your mapper, combiner and reducers are called.  \n",
    "\n",
    "Please output records of the following form for the top 50 pairs (itemsets of size 2): \n",
    "\n",
    "      item1, item2, support count, support\n",
    "\n",
    "\n",
    "\n",
    "Fix the ordering of the pairs lexicographically (left to right), \n",
    "and break ties in support (between pairs, if any exist) \n",
    "by taking the first ones in lexicographically increasing order. \n",
    "\n",
    "Report  the compute time for the Pairs job. Describe the computational setup used (E.g., single computer; dual core; linux, number of mappers, number of reducers)\n",
    "Instrument your mapper, combiner, and reducer to count how many times each is called using Counters and report these counts."
   ]
  },
  {
   "cell_type": "markdown",
   "metadata": {},
   "source": [
    "### Mapper and Reducer (part 1)"
   ]
  },
  {
   "cell_type": "code",
   "execution_count": 463,
   "metadata": {
    "collapsed": false
   },
   "outputs": [
    {
     "name": "stdout",
     "output_type": "stream",
     "text": [
      "Overwriting mapper1.py\n"
     ]
    }
   ],
   "source": [
    "%%writefile mapper1.py\n",
    "#!/usr/bin/python\n",
    "import sys\n",
    "import re\n",
    "\n",
    "# input comes from STDIN (standard input)\n",
    "for line in sys.stdin:\n",
    "    items = line.strip().split()\n",
    "    \n",
    "    sys.stderr.write('reporter:counter:custom,mapper_called,1\\n')\n",
    "\n",
    "    # Use order inversion to help calculate the total # of baskets\n",
    "    print \"#\\t\\t1\" # Use # as the special key\n",
    "    \n",
    "    items = list(set(items)) # Remove duplicate items\n",
    "\n",
    "    # sort the items as we need to fix the ordering of the pairs lexicographically\n",
    "    items = sorted(items)\n",
    "    \n",
    "    # First ignore the corner case\n",
    "    if len(items) <= 1:\n",
    "        continue\n",
    "        \n",
    "    # Output all co-occuring pairs.   \n",
    "    for i in range(len(items) - 1):\n",
    "        x = items[i]\n",
    "        for j in range(i+1, len(items)):\n",
    "            y = items[j]\n",
    "            print \"%s\\t%s\\t1\" % (x, y)"
   ]
  },
  {
   "cell_type": "code",
   "execution_count": 473,
   "metadata": {
    "collapsed": false
   },
   "outputs": [
    {
     "name": "stdout",
     "output_type": "stream",
     "text": [
      "Overwriting reducer1.py\n"
     ]
    }
   ],
   "source": [
    "%%writefile reducer1.py\n",
    "#!/usr/bin/python\n",
    "from __future__ import division # Use Python 3-style division\n",
    "import sys\n",
    "\n",
    "supportCount = 0 # Support count of each pair\n",
    "totalCount = 0 # Total number of baskets\n",
    "lastPair = None # The pair previously seen\n",
    "supportThreshold = 100\n",
    "\n",
    "# input comes from STDIN\n",
    "for line in sys.stdin:\n",
    "    (item1, item2, count) = line.strip().split('\\t')\n",
    "    count = int(count)\n",
    "\n",
    "    # Find out the total basket count.\n",
    "    # We use # as the special key for order inversion.\n",
    "    if item1 == \"#\":\n",
    "        totalCount += count\n",
    "        continue\n",
    "        \n",
    "    pair = [item1, item2]\n",
    "    \n",
    "    # If we have encountered a new pair, output the count of the last pair\n",
    "    if lastPair and lastPair != pair:\n",
    "        sys.stderr.write('reporter:counter:custom,reducer_called,1\\n')\n",
    "        if supportCount >= supportThreshold:\n",
    "            print \"%s\\t%s\\t%d\\t%f\" % (lastPair[0], lastPair[1], supportCount, supportCount / totalCount)\n",
    "        supportCount = 0\n",
    "            \n",
    "    supportCount += count\n",
    "    lastPair = pair\n",
    "\n",
    "# Handle the last pair seen\n",
    "if lastPair is not None:\n",
    "    sys.stderr.write('reporter:counter:custom,reducer_called,1\\n')\n",
    "    if supportCount >= supportThreshold:\n",
    "        print \"%s\\t%s\\t%d\\t%f\" % (lastPair[0], lastPair[1], supportCount, supportCount / totalCount)"
   ]
  },
  {
   "cell_type": "markdown",
   "metadata": {},
   "source": [
    "### Mapper and Reducer (Part 2)"
   ]
  },
  {
   "cell_type": "code",
   "execution_count": 465,
   "metadata": {
    "collapsed": false
   },
   "outputs": [
    {
     "name": "stdout",
     "output_type": "stream",
     "text": [
      "Overwriting mapper2.py\n"
     ]
    }
   ],
   "source": [
    "%%writefile mapper2.py\n",
    "#!/usr/bin/python\n",
    "import sys\n",
    "import re\n",
    "\n",
    "# input comes from STDIN (standard input)\n",
    "for line in sys.stdin:\n",
    "    (item1, item2, count, support) = line.strip().split(\"\\t\")\n",
    "\n",
    "    sys.stderr.write('reporter:counter:custom,mapper_called,1\\n')\n",
    "    \n",
    "    # Output the count as the first key field, so that we can use\n",
    "    # Hadoop to sort it in reverse order.\n",
    "    print \"\\t\".join([count, item1, item2, support])"
   ]
  },
  {
   "cell_type": "code",
   "execution_count": 466,
   "metadata": {
    "collapsed": false
   },
   "outputs": [
    {
     "name": "stdout",
     "output_type": "stream",
     "text": [
      "Overwriting reducer2.py\n"
     ]
    }
   ],
   "source": [
    "%%writefile reducer2.py\n",
    "#!/usr/bin/python\n",
    "from __future__ import division # Use Python 3-style division\n",
    "import sys, Queue\n",
    "\n",
    "n_max = 50\n",
    "a_max = []\n",
    "\n",
    "# input comes from STDIN\n",
    "for line in sys.stdin:\n",
    "    sys.stderr.write('reporter:counter:custom,reducer_called,1\\n')\n",
    "    if len(a_max) < n_max:\n",
    "        a_max.append(line)\n",
    "    else:\n",
    "        break\n",
    "\n",
    "# Output the result\n",
    "print \"Top %d pairs\" % n_max\n",
    "for line in a_max:\n",
    "    rec = line.strip().split('\\t')\n",
    "    print \"%s, %s, %s, %s\" % (rec[1], rec[2], rec[0], rec[3])"
   ]
  },
  {
   "cell_type": "markdown",
   "metadata": {},
   "source": [
    "### Quick test"
   ]
  },
  {
   "cell_type": "code",
   "execution_count": 472,
   "metadata": {
    "collapsed": false
   },
   "outputs": [
    {
     "name": "stdout",
     "output_type": "stream",
     "text": [
      "Top 50 pairs\r\n",
      "ELE17451, GRO99222, 2, 1.000000\r\n",
      "ELE17451, ELE26917, 1, 0.500000\r\n",
      "ELE17451, ELE52966, 1, 0.500000\r\n",
      "ELE17451, ELE89019, 1, 0.500000\r\n",
      "ELE17451, ELE91550, 1, 0.500000\r\n",
      "ELE17451, FRO11987, 1, 0.500000\r\n",
      "ELE17451, FRO12685, 1, 0.500000\r\n",
      "ELE17451, FRO84225, 1, 0.500000\r\n",
      "ELE17451, FRO90334, 1, 0.500000\r\n",
      "ELE17451, GRO12298, 1, 0.500000\r\n",
      "ELE17451, SNA11465, 1, 0.500000\r\n",
      "ELE17451, SNA30755, 1, 0.500000\r\n",
      "ELE17451, SNA80192, 1, 0.500000\r\n",
      "ELE17451, SNA90258, 1, 0.500000\r\n",
      "ELE26917, ELE52966, 1, 0.500000\r\n",
      "ELE26917, ELE91550, 1, 0.500000\r\n",
      "ELE26917, FRO12685, 1, 0.500000\r\n",
      "ELE26917, FRO84225, 1, 0.500000\r\n",
      "ELE26917, FRO90334, 1, 0.500000\r\n",
      "ELE26917, GRO12298, 1, 0.500000\r\n",
      "ELE26917, GRO99222, 1, 0.500000\r\n",
      "ELE26917, SNA11465, 1, 0.500000\r\n",
      "ELE26917, SNA30755, 1, 0.500000\r\n",
      "ELE26917, SNA80192, 1, 0.500000\r\n",
      "ELE52966, ELE91550, 1, 0.500000\r\n",
      "ELE52966, FRO12685, 1, 0.500000\r\n",
      "ELE52966, FRO84225, 1, 0.500000\r\n",
      "ELE52966, FRO90334, 1, 0.500000\r\n",
      "ELE52966, GRO12298, 1, 0.500000\r\n",
      "ELE52966, GRO99222, 1, 0.500000\r\n",
      "ELE52966, SNA11465, 1, 0.500000\r\n",
      "ELE52966, SNA30755, 1, 0.500000\r\n",
      "ELE52966, SNA80192, 1, 0.500000\r\n",
      "ELE89019, FRO11987, 1, 0.500000\r\n",
      "ELE89019, GRO99222, 1, 0.500000\r\n",
      "ELE89019, SNA90258, 1, 0.500000\r\n",
      "ELE91550, FRO12685, 1, 0.500000\r\n",
      "ELE91550, FRO84225, 1, 0.500000\r\n",
      "ELE91550, FRO90334, 1, 0.500000\r\n",
      "ELE91550, GRO12298, 1, 0.500000\r\n",
      "ELE91550, GRO99222, 1, 0.500000\r\n",
      "ELE91550, SNA11465, 1, 0.500000\r\n",
      "ELE91550, SNA30755, 1, 0.500000\r\n",
      "ELE91550, SNA80192, 1, 0.500000\r\n",
      "FRO11987, GRO99222, 1, 0.500000\r\n",
      "FRO11987, SNA90258, 1, 0.500000\r\n",
      "FRO12685, FRO84225, 1, 0.500000\r\n",
      "FRO12685, FRO90334, 1, 0.500000\r\n",
      "FRO12685, GRO12298, 1, 0.500000\r\n",
      "FRO12685, GRO99222, 1, 0.500000\r\n"
     ]
    }
   ],
   "source": [
    "!head -n 2 ProductPurchaseData.txt | \\\n",
    "python mapper1.py 2>/dev/null | \\\n",
    "sort -t$'\\t' -k1,1 | \\\n",
    "python reducer1.py 2>/dev/null | \\\n",
    "python mapper2.py 2>/dev/null | \\\n",
    "sort -t$'\\t' -k1,1rn -k2,3 | python reducer2.py 2>/dev/null "
   ]
  },
  {
   "cell_type": "markdown",
   "metadata": {},
   "source": [
    "### Run it in Hadoop"
   ]
  },
  {
   "cell_type": "code",
   "execution_count": 475,
   "metadata": {
    "collapsed": false
   },
   "outputs": [
    {
     "name": "stdout",
     "output_type": "stream",
     "text": [
      "16/02/01 16:10:19 WARN util.NativeCodeLoader: Unable to load native-hadoop library for your platform... using builtin-java classes where applicable\n",
      "Deleted hw3.4-part1\n",
      "16/02/01 16:10:21 WARN streaming.StreamJob: -file option is deprecated, please use generic option -files instead.\n",
      "16/02/01 16:10:21 WARN util.NativeCodeLoader: Unable to load native-hadoop library for your platform... using builtin-java classes where applicable\n",
      "packageJobJar: [mapper1.py, reducer1.py, /var/folders/dm/nsw7wjf91f1c74hgl17ldw040000gn/T/hadoop-unjar7465626546467091791/] [] /var/folders/dm/nsw7wjf91f1c74hgl17ldw040000gn/T/streamjob6420947684759056072.jar tmpDir=null\n"
     ]
    }
   ],
   "source": [
    "# Part 1\n",
    "\n",
    "!hdfs dfs -rm -r hw3.4-part1\n",
    "\n",
    "!hadoop jar $HADOOP_INSTALL/share/hadoop/tools/lib/hadoop-*streaming*.jar \\\n",
    "-D mapred.map.tasks=3 \\\n",
    "-D mapred.reduce.tasks=1 \\\n",
    "-D stream.num.map.output.key.fields=2 \\\n",
    "-D mapred.output.key.comparator.class=org.apache.hadoop.mapred.lib.KeyFieldBasedComparator \\\n",
    "-D mapred.text.key.comparator.options=\"-k1,1 -k2,2\" \\\n",
    "-file mapper1.py -mapper mapper1.py \\\n",
    "-file reducer1.py -reducer reducer1.py \\\n",
    "-input ProductPurchaseData.txt \\\n",
    "-output hw3.4-part1"
   ]
  },
  {
   "cell_type": "code",
   "execution_count": 476,
   "metadata": {
    "collapsed": false
   },
   "outputs": [
    {
     "name": "stdout",
     "output_type": "stream",
     "text": [
      "16/02/01 16:11:15 WARN util.NativeCodeLoader: Unable to load native-hadoop library for your platform... using builtin-java classes where applicable\n",
      "Deleted hw3.4-part2\n",
      "16/02/01 16:11:17 WARN streaming.StreamJob: -file option is deprecated, please use generic option -files instead.\n",
      "16/02/01 16:11:17 WARN util.NativeCodeLoader: Unable to load native-hadoop library for your platform... using builtin-java classes where applicable\n",
      "packageJobJar: [mapper2.py, reducer2.py, /var/folders/dm/nsw7wjf91f1c74hgl17ldw040000gn/T/hadoop-unjar6198274553210111322/] [] /var/folders/dm/nsw7wjf91f1c74hgl17ldw040000gn/T/streamjob6503966365536855588.jar tmpDir=null\n"
     ]
    }
   ],
   "source": [
    "# Part 2\n",
    "\n",
    "!hdfs dfs -rm -r hw3.4-part2\n",
    "\n",
    "# For sorting, use the 1st field (count) as the primary key, in reverse order.\n",
    "!hadoop jar $HADOOP_INSTALL/share/hadoop/tools/lib/hadoop-*streaming*.jar \\\n",
    "-D mapred.reduce.tasks=1 \\\n",
    "-D stream.num.map.output.key.fields=3 \\\n",
    "-D mapred.output.key.comparator.class=org.apache.hadoop.mapred.lib.KeyFieldBasedComparator \\\n",
    "-D mapred.text.key.comparator.options=\"-k1,1nr -k2,2 -k3,3\" \\\n",
    "-file mapper2.py -mapper mapper2.py \\\n",
    "-file reducer2.py -reducer reducer2.py \\\n",
    "-input hw3.4-part1/part-* \\\n",
    "-output hw3.4-part2"
   ]
  },
  {
   "cell_type": "code",
   "execution_count": 477,
   "metadata": {
    "collapsed": false
   },
   "outputs": [
    {
     "name": "stdout",
     "output_type": "stream",
     "text": [
      "16/02/01 16:11:50 WARN util.NativeCodeLoader: Unable to load native-hadoop library for your platform... using builtin-java classes where applicable\n",
      "Top 50 pairs\t\n",
      "DAI62779, ELE17451, 1592, 0.051188\t\n",
      "FRO40251, SNA80324, 1412, 0.045400\t\n",
      "DAI75645, FRO40251, 1254, 0.040320\t\n",
      "FRO40251, GRO85051, 1213, 0.039002\t\n",
      "DAI62779, GRO73461, 1139, 0.036623\t\n",
      "DAI75645, SNA80324, 1130, 0.036333\t\n",
      "DAI62779, FRO40251, 1070, 0.034404\t\n",
      "DAI62779, SNA80324, 923, 0.029678\t\n",
      "DAI62779, DAI85309, 918, 0.029517\t\n",
      "ELE32164, GRO59710, 911, 0.029292\t\n",
      "DAI62779, DAI75645, 882, 0.028359\t\n",
      "FRO40251, GRO73461, 882, 0.028359\t\n",
      "DAI62779, ELE92920, 877, 0.028198\t\n",
      "FRO40251, FRO92469, 835, 0.026848\t\n",
      "DAI62779, ELE32164, 832, 0.026752\t\n",
      "DAI75645, GRO73461, 712, 0.022893\t\n",
      "DAI43223, ELE32164, 711, 0.022861\t\n",
      "DAI62779, GRO30386, 709, 0.022797\t\n",
      "ELE17451, FRO40251, 697, 0.022411\t\n",
      "DAI85309, ELE99737, 659, 0.021189\t\n",
      "DAI62779, ELE26917, 650, 0.020900\t\n",
      "GRO21487, GRO73461, 631, 0.020289\t\n",
      "DAI62779, SNA45677, 604, 0.019421\t\n",
      "ELE17451, SNA80324, 597, 0.019196\t\n",
      "DAI62779, GRO71621, 595, 0.019131\t\n",
      "DAI62779, SNA55762, 593, 0.019067\t\n",
      "DAI62779, DAI83733, 586, 0.018842\t\n",
      "ELE17451, GRO73461, 580, 0.018649\t\n",
      "GRO73461, SNA80324, 562, 0.018070\t\n",
      "DAI62779, GRO59710, 561, 0.018038\t\n",
      "DAI62779, FRO80039, 550, 0.017684\t\n",
      "DAI75645, ELE17451, 547, 0.017588\t\n",
      "DAI62779, SNA93860, 537, 0.017266\t\n",
      "DAI55148, DAI62779, 526, 0.016913\t\n",
      "DAI43223, GRO59710, 512, 0.016462\t\n",
      "ELE17451, ELE32164, 511, 0.016430\t\n",
      "DAI62779, SNA18336, 506, 0.016270\t\n",
      "ELE32164, GRO73461, 486, 0.015627\t\n",
      "DAI62779, FRO78087, 482, 0.015498\t\n",
      "DAI85309, ELE17451, 482, 0.015498\t\n",
      "DAI62779, GRO94758, 479, 0.015401\t\n",
      "DAI62779, GRO21487, 471, 0.015144\t\n",
      "GRO85051, SNA80324, 471, 0.015144\t\n",
      "ELE17451, GRO30386, 468, 0.015048\t\n",
      "FRO85978, SNA95666, 463, 0.014887\t\n",
      "DAI62779, FRO19221, 462, 0.014855\t\n",
      "DAI62779, GRO46854, 461, 0.014823\t\n",
      "DAI43223, DAI62779, 459, 0.014758\t\n",
      "ELE92920, SNA18336, 455, 0.014630\t\n",
      "DAI88079, FRO40251, 446, 0.014340\t\n"
     ]
    }
   ],
   "source": [
    "# Show the result\n",
    "!hdfs dfs -cat hw3.4-part2/part-00000"
   ]
  },
  {
   "cell_type": "markdown",
   "metadata": {
    "collapsed": true
   },
   "source": [
    "### Report \n",
    "\n",
    "Compute time: 34 + 13 = 47sec   \n",
    "Setup: Quad Core, OS X, 3 mappers, 1 reducer  \n",
    "Mapper called: 31101 + 1334 = 32435 times  \n",
    "Reducer called: 877095 + 51 = 877146 times  "
   ]
  },
  {
   "cell_type": "code",
   "execution_count": null,
   "metadata": {
    "collapsed": true
   },
   "outputs": [],
   "source": []
  }
 ],
 "metadata": {
  "kernelspec": {
   "display_name": "Python 2",
   "language": "python",
   "name": "python2"
  },
  "language_info": {
   "codemirror_mode": {
    "name": "ipython",
    "version": 2
   },
   "file_extension": ".py",
   "mimetype": "text/x-python",
   "name": "python",
   "nbconvert_exporter": "python",
   "pygments_lexer": "ipython2",
   "version": "2.7.10"
  }
 },
 "nbformat": 4,
 "nbformat_minor": 0
}
