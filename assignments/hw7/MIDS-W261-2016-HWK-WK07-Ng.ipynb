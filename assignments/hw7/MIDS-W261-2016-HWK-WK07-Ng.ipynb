{
 "cells": [
  {
   "cell_type": "markdown",
   "metadata": {},
   "source": [
    "Name: Patrick Ng  \n",
    "Class: W261-2  \n",
    "Date: Mar 10, 2016  \n",
    "HW07"
   ]
  },
  {
   "cell_type": "code",
   "execution_count": 2,
   "metadata": {
    "collapsed": false
   },
   "outputs": [],
   "source": [
    "%load_ext autoreload\n",
    "%autoreload 2\n",
    "%matplotlib inline"
   ]
  },
  {
   "cell_type": "markdown",
   "metadata": {},
   "source": [
    "## HW 7.0: Shortest path graph distances (toy networks)\n",
    "\n",
    "```\n",
    "In this part of your assignment you will develop the base of your code for the week.\n",
    "\n",
    "Write MRJob classes to find shortest path graph distances, \n",
    "as described in the lectures. In addition to finding the distances, \n",
    "your code should also output a distance-minimizing path between the source and target.\n",
    "Work locally for this part of the assignment, and use \n",
    "both of the undirected and directed toy networks.\n",
    "\n",
    "To proof you code's function, run the following jobs\n",
    "\n",
    "- shortest path in the undirected network from node 1 to node 4\n",
    "Solution: 1,5,4 \n",
    "\n",
    "- shortest path in the directed network from node 1 to node 5\n",
    "Solution: 1,2,4,5\n",
    "\n",
    "and report your output---make sure it is correct!\n",
    "```"
   ]
  },
  {
   "cell_type": "markdown",
   "metadata": {},
   "source": [
    "#### Init function: convert an input file into an SSSP file\n",
    "SSSP File format:  \n",
    "```\n",
    "JSON representaton of:\n",
    "node id \\t [ {adj-list dict}, [path from src], cost from src, status ]\n",
    "\n",
    "e.g.\n",
    "3       [{\"2\": 1, \"4\": 1}, [], 9223372036854775807, \"U\"]\n",
    "```"
   ]
  },
  {
   "cell_type": "code",
   "execution_count": 20,
   "metadata": {
    "collapsed": false
   },
   "outputs": [
    {
     "name": "stdout",
     "output_type": "stream",
     "text": [
      "Overwriting MrInitSssp.py\n"
     ]
    }
   ],
   "source": [
    "%%writefile MrInitSssp.py\n",
    "from numpy import argmin, array, random\n",
    "import re\n",
    "import numpy as np\n",
    "from mrjob.job import MRJob, MRStep\n",
    "import mrjob\n",
    "import json\n",
    "import sys\n",
    "\n",
    "class MrInitSssp(MRJob):\n",
    "\n",
    "    SORT_VALUES = True  # Need 2nd sort\n",
    "   \n",
    "    def initValues(self, node):\n",
    "        status = 'U'\n",
    "        sps = [] # Unknown\n",
    "        costFromSrc = sys.maxint # Unknown\n",
    "            \n",
    "        return (sps, costFromSrc, status)\n",
    "\n",
    "    def mapper(self, _, line):\n",
    "        # input format:\n",
    "        # Json object:\n",
    "        # 1       {'2': 1, '6': 1}\n",
    "        \n",
    "        fields = line.strip().split('\\t')\n",
    "        node = int(fields[0])\n",
    "\n",
    "        # JSON uses double quote for string\n",
    "        adjList = json.loads(fields[1].replace(\"'\", '\"'))\n",
    "        \n",
    "        sps, costFromSrc, status = self.initValues(node)\n",
    "        \n",
    "        # Output for the node, which is an outbound node\n",
    "        yield node, [0, adjList, sps, costFromSrc, status]\n",
    "        \n",
    "        # Also need to output an empty entry for every nodes in the adjList.\n",
    "        # It is needed for directed graph, so that in the reducer we can generate \n",
    "        # an entry for nodes which don't have an outbound link.\n",
    "        for key in adjList.keys():\n",
    "            yield int(key), [1]\n",
    "            \n",
    "    def reducer(self, node, values):\n",
    "        value = values.next()\n",
    "        \n",
    "        # An outbound node will be seen first because we use 2nd sorting\n",
    "        if value[0] == 0:\n",
    "            # It's an outbound record\n",
    "            yield node, value[1:]\n",
    "        else:\n",
    "            # For directed graph, generate an entry for a node which doesn't have an outbound \n",
    "            # link.\n",
    "            sps, costFromSrc, status = self.initValues(node)\n",
    "            yield node, [{}, sps, costFromSrc, status]\n",
    "            \n",
    "                                                  \n",
    "if __name__ == '__main__':\n",
    "    MrInitSssp.run()"
   ]
  },
  {
   "cell_type": "markdown",
   "metadata": {},
   "source": [
    "### MRJob for find shortest path"
   ]
  },
  {
   "cell_type": "code",
   "execution_count": 26,
   "metadata": {
    "collapsed": false
   },
   "outputs": [
    {
     "name": "stdout",
     "output_type": "stream",
     "text": [
      "Overwriting MrSssp_hw70.py\n"
     ]
    }
   ],
   "source": [
    "%%writefile MrSssp_hw70.py\n",
    "from numpy import argmin, array, random\n",
    "import re\n",
    "import numpy as np\n",
    "from mrjob.job import MRJob, MRStep\n",
    "from itertools import chain\n",
    "import mrjob\n",
    "import sys\n",
    "\n",
    "class MrSssp_hw70(MRJob):\n",
    "    INPUT_PROTOCOL = mrjob.protocol.JSONProtocol\n",
    "    SORT_VALUES = True # Need to do secondary sort\n",
    "\n",
    "    def configure_options(self):\n",
    "        super(MrSssp_hw70, self).configure_options()\n",
    "        self.add_passthrough_option(\n",
    "            '--initSrcNode', type='int', default=None, \n",
    "            help='The source node to initialize.')\n",
    "    \n",
    "    def initValues(self, node):\n",
    "        if node == self.options.srcNode:\n",
    "            # This is the source node\n",
    "            status = 'Q'\n",
    "            sps = [node] # shortest path from source\n",
    "            costFromSrc = 0\n",
    "        else:\n",
    "            # Other nodes\n",
    "            status = 'U'\n",
    "            sps = [] # Unknown\n",
    "            costFromSrc = sys.maxint # Unknown\n",
    "            \n",
    "        return (sps, costFromSrc, status)\n",
    "\n",
    "    def mapper(self, nodeId, data):\n",
    "        # data format:\n",
    "        # Json object:\n",
    "        # [ {adj-list dict}, [path from src], cost from src, status ]\n",
    "        \n",
    "        #print >> sys.stderr, \"input data:\", data\n",
    "        nodeId = int(nodeId)\n",
    "        adjList, pathFromSrc, costFromSrc, status = data\n",
    "        \n",
    "        if nodeId == self.options.initSrcNode:\n",
    "            # This is the source node, and we're asked to initialize it\n",
    "            status = 'Q'\n",
    "            pathFromSrc = [nodeId] # shortest path from source\n",
    "            costFromSrc = 0\n",
    "        \n",
    "        if status == \"Q\":\n",
    "            # The node is in Queued mode.  It's a frontier node.\n",
    "            # Need to process its neighbours\n",
    "            for neighbor, weight in adjList.items():\n",
    "                neighbor = int(neighbor)\n",
    "                neighborPathFromSrc = pathFromSrc + [neighbor]\n",
    "                neighborCostFromSrc = costFromSrc + weight\n",
    "                \n",
    "                # Put 0 in the front for secondary sorting purpose\n",
    "                yield neighbor, (0, None, neighborPathFromSrc, neighborCostFromSrc, \"Q\")\n",
    "        \n",
    "            # Lastly, change its own status to visited\n",
    "            status = \"V\"\n",
    "\n",
    "        # Put 0 in the front for secondary sorting purpose\n",
    "        yield nodeId, (1, adjList, pathFromSrc, costFromSrc, status)\n",
    "        \n",
    "    def reducer(self, key, values):\n",
    "        minCostFromSrc = sys.maxint\n",
    "        emitted = False\n",
    "        \n",
    "        for data in values:\n",
    "            assert not emitted, \"Should not see more records after we've emitted result\"\n",
    "            \n",
    "            sortkey, adjList, pathFromSrc, costFromSrc, status = data\n",
    "            \n",
    "            if adjList is None:\n",
    "                assert status == 'Q', \"status must be Q for record emitted by neighbor\"\n",
    "                \n",
    "                # It is a record emitted from a neighbor\n",
    "                if costFromSrc < minCostFromSrc:\n",
    "                    minCostFromSrc = costFromSrc\n",
    "                    minPathFromSrc = pathFromSrc                    \n",
    "            else:\n",
    "                \n",
    "                if minCostFromSrc < costFromSrc:\n",
    "                    # Its 'cost from Src' becomes smaller.  Put it to the frontier.\n",
    "                    status = \"Q\"\n",
    "                    costFromSrc = minCostFromSrc\n",
    "                    pathFromSrc = minPathFromSrc            \n",
    "                \n",
    "                yield key, [adjList, pathFromSrc, costFromSrc, status] \n",
    "\n",
    "                emitted = True\n",
    "                                                  \n",
    "if __name__ == '__main__':\n",
    "    MrSssp_hw70.run()"
   ]
  },
  {
   "cell_type": "markdown",
   "metadata": {},
   "source": [
    "### MRJob for checking terminating condition"
   ]
  },
  {
   "cell_type": "code",
   "execution_count": 22,
   "metadata": {
    "collapsed": false
   },
   "outputs": [
    {
     "name": "stdout",
     "output_type": "stream",
     "text": [
      "Overwriting MrCheckTermination.py\n"
     ]
    }
   ],
   "source": [
    "%%writefile MrCheckTermination.py\n",
    "from mrjob.job import MRJob, MRStep\n",
    "import mrjob\n",
    "import sys\n",
    "\n",
    "class MrCheckTermination(MRJob):\n",
    "    def configure_options(self):\n",
    "        super(MrCheckTermination, self).configure_options()\n",
    "        self.add_passthrough_option(\n",
    "            '--destNode', type='int', default=None, help='The destination Node.')\n",
    "\n",
    "    INPUT_PROTOCOL = mrjob.protocol.JSONProtocol\n",
    "\n",
    "    def mapper(self, nodeId, data):\n",
    "        # Input format:\n",
    "        # Json object:\n",
    "        # 5       [{\"1\": 1, \"2\": 1, \"4\": 1}, [1, 2, 4, 5], 3, \"V\"]\n",
    "        assert self.options.destNode is not None, \"Needs to have a destination node specified\"\n",
    "        \n",
    "        if int(nodeId) == self.options.destNode and data[3] == \"V\":\n",
    "            # We're done!\n",
    "            yield 0, [nodeId] + data\n",
    "            \n",
    "        elif data[3] == \"Q\":\n",
    "            yield 1, None\n",
    "        \n",
    "    def reducer_init(self):\n",
    "        self.QueuedSeen = False\n",
    "        self.Finished = False\n",
    "        \n",
    "    def reducer(self, key, values):\n",
    "        if self.Finished:\n",
    "            return\n",
    "        \n",
    "        if key == 0:\n",
    "            # We're done\n",
    "            self.Finished = True\n",
    "            yield 1, values.next()\n",
    "            \n",
    "        elif not self.QueuedSeen:\n",
    "            assert key == 1\n",
    "            self.QueuedSeen = True\n",
    "            \n",
    "    def reducer_final(self):\n",
    "        if not self.Finished and not self.QueuedSeen:\n",
    "            # Not a single Queued node\n",
    "            yield 0, None \n",
    "            \n",
    "                                                  \n",
    "if __name__ == '__main__':\n",
    "    MrCheckTermination.run()"
   ]
  },
  {
   "cell_type": "markdown",
   "metadata": {},
   "source": [
    "### Driver for finding shortest path"
   ]
  },
  {
   "cell_type": "code",
   "execution_count": 23,
   "metadata": {
    "collapsed": false
   },
   "outputs": [
    {
     "name": "stdout",
     "output_type": "stream",
     "text": [
      "Overwriting Driver_Hw70.py\n"
     ]
    }
   ],
   "source": [
    "%%writefile Driver_Hw70.py\n",
    "from numpy import random\n",
    "from MrSssp_hw70 import MrSssp_hw70\n",
    "from MrInitSssp import MrInitSssp\n",
    "from MrCheckTermination import MrCheckTermination\n",
    "import json\n",
    "import sys\n",
    "import shutil\n",
    "\n",
    "import argparse\n",
    "parser = argparse.ArgumentParser()\n",
    "parser.add_argument(\"--initFile\", type=str)\n",
    "parser.add_argument(\"--destNode\", type=str)\n",
    "parser.add_argument(\"--srcNode\", type=str)\n",
    "args = parser.parse_args()\n",
    "\n",
    "shutil.copy(args.initFile, 'sssp.txt')\n",
    "\n",
    "mrArgsBase = ['sssp.txt', '--strict-protocols',\n",
    "            '-r', 'inline']\n",
    "    \n",
    "mr_job1 = MrSssp_hw70(args = [\"--initSrcNode\", args.srcNode] + mrArgsBase)\n",
    "mr_job2 = MrCheckTermination(args = [\"--destNode\", args.destNode] + mrArgsBase)\n",
    "\n",
    "i = 1\n",
    "finished = False\n",
    "\n",
    "while(not finished):\n",
    "    print \"iteration\"+str(i)+\":\"\n",
    "    \n",
    "    with mr_job1.make_runner() as runner: \n",
    "        runner.run()\n",
    "\n",
    "        # Generate the new sssp.txt based on job's output\n",
    "        with open('sssp.txt', 'w') as f:\n",
    "            for line in runner.stream_output():\n",
    "                key, value =  mr_job1.parse_output_line(line)\n",
    "                f.write(\"%s\\t%s\\n\" % (key,json.dumps(value)))\n",
    "\n",
    "    # Check if we have reached termination state\n",
    "    with mr_job2.make_runner() as runner: \n",
    "        runner.run()\n",
    "\n",
    "        for line in runner.stream_output():\n",
    "            key, value =  mr_job2.parse_output_line(line)\n",
    "            if key == 1:\n",
    "                print\n",
    "                print \"Result:\", value\n",
    "            else:\n",
    "                assert key == 0\n",
    "                print\n",
    "                print \"Not Found\"\n",
    "                \n",
    "            finished = True\n",
    "    i += 1\n",
    "    \n",
    "    mr_job1 = MrSssp_hw70(args = mrArgsBase)\n",
    "\n",
    "        "
   ]
  },
  {
   "cell_type": "markdown",
   "metadata": {},
   "source": [
    "### Run it for undirected_toy.txt"
   ]
  },
  {
   "cell_type": "code",
   "execution_count": 27,
   "metadata": {
    "collapsed": false
   },
   "outputs": [],
   "source": [
    "!python MrInitSssp.py undirected_toy.txt -q -r inline --no-strict-protocols \\\n",
    "> initSssp.txt"
   ]
  },
  {
   "cell_type": "code",
   "execution_count": 28,
   "metadata": {
    "collapsed": false
   },
   "outputs": [
    {
     "name": "stdout",
     "output_type": "stream",
     "text": [
      "iteration1:\n",
      "No handlers could be found for logger \"mrjob.sim\"\n",
      "iteration2:\n",
      "iteration3:\n",
      "\n",
      "Result: [4, {'3': 1, '2': 1, '5': 1}, [1, 2, 4], 2, 'V']\n"
     ]
    }
   ],
   "source": [
    "!python Driver_Hw70.py --initFile initSssp.txt --srcNode 1 --destNode 4"
   ]
  },
  {
   "cell_type": "markdown",
   "metadata": {},
   "source": [
    "**Answer:**  \n",
    "From the output, you can see that the paths from 1 to 4 is: 1, 2, 4  \n",
    "  \n",
    "(It is different from the standard solution, but it is okay because there is more than one path from 1 to 4.)"
   ]
  },
  {
   "cell_type": "markdown",
   "metadata": {},
   "source": [
    "### Run it for directed_toy.txt"
   ]
  },
  {
   "cell_type": "code",
   "execution_count": 30,
   "metadata": {
    "collapsed": false
   },
   "outputs": [],
   "source": [
    "!python MrInitSssp.py directed_toy.txt -q -r inline --no-strict-protocols \\\n",
    "> initSssp.txt"
   ]
  },
  {
   "cell_type": "code",
   "execution_count": 31,
   "metadata": {
    "collapsed": false
   },
   "outputs": [
    {
     "name": "stdout",
     "output_type": "stream",
     "text": [
      "iteration1:\n",
      "No handlers could be found for logger \"mrjob.sim\"\n",
      "iteration2:\n",
      "iteration3:\n",
      "iteration4:\n",
      "\n",
      "Result: [5, {'1': 1, '2': 1, '4': 1}, [1, 2, 4, 5], 3, 'V']\n"
     ]
    }
   ],
   "source": [
    "!python Driver_Hw70.py --initFile initSssp.txt --srcNode 1 --destNode 5"
   ]
  },
  {
   "cell_type": "markdown",
   "metadata": {},
   "source": [
    "**Answer:**  \n",
    "From the output, you can see that the paths from 1 to 5 is: 1, 2, 4, 5 "
   ]
  },
  {
   "cell_type": "markdown",
   "metadata": {
    "collapsed": true
   },
   "source": [
    "## HW 7.1: Exploratory data analysis (NLTK synonyms)\n",
    "```\n",
    "Using MRJob, explore the synonyms network data.\n",
    "Consider plotting the degree distribution (does it follow a power law?),\n",
    "and determine some of the key features, like:\n",
    "\n",
    "number of nodes, \n",
    "number links,\n",
    "or the average degree (i.e., the average number of links per node),\n",
    "etc...\n",
    "\n",
    "As you develop your code, please be sure to run it locally first (though on the whole dataset). \n",
    "Once you have gotten you code to run locally, deploy it on AWS as a systems test\n",
    "in preparation for our next dataset (which will require AWS).\n",
    "```"
   ]
  },
  {
   "cell_type": "code",
   "execution_count": 4,
   "metadata": {
    "collapsed": false
   },
   "outputs": [
    {
     "name": "stdout",
     "output_type": "stream",
     "text": [
      "Overwriting MrExplore_hw71.py\n"
     ]
    }
   ],
   "source": [
    "%%writefile MrExplore_hw71.py\n",
    "from __future__ import division\n",
    "from numpy import argmin, array, random\n",
    "import re\n",
    "import numpy as np\n",
    "from mrjob.job import MRJob, MRStep\n",
    "from itertools import chain\n",
    "import mrjob\n",
    "import sys\n",
    "import json\n",
    "\n",
    "class MrExplore_hw71(MRJob):\n",
    "    def steps(self):\n",
    "        return [\n",
    "            MRStep(\n",
    "                   mapper=self.mapper,\n",
    "                   combiner = self.reducer,\n",
    "                   reducer=self.reducer\n",
    "            )\n",
    "               ]\n",
    "\n",
    "    def mapper(self, _, data):\n",
    "        # data format:\n",
    "        # 1       {'2': 1, '3': 1, '4': 1}\n",
    "\n",
    "        yield \"n\", 1 # for total number of nodes\n",
    "        \n",
    "        # JSON uses double quote for string\n",
    "        fields = data.strip().split('\\t')\n",
    "        adjList = json.loads(fields[1].replace(\"'\", '\"'))\n",
    "        degree = len(adjList)\n",
    "        yield \"l\", degree # for total number of links\n",
    "        \n",
    "        yield \"d\" + str(degree), 1  # for distribution of degree\n",
    "\n",
    "    def reducer(self, key, values):\n",
    "        total = sum([v for v in values])\n",
    "        yield key, total            \n",
    "              \n",
    "if __name__ == '__main__':\n",
    "    MrExplore_hw71.run()"
   ]
  },
  {
   "cell_type": "markdown",
   "metadata": {},
   "source": [
    "#### Run it locally"
   ]
  },
  {
   "cell_type": "code",
   "execution_count": 74,
   "metadata": {
    "collapsed": false
   },
   "outputs": [],
   "source": [
    "!python MrExplore_hw71.py synNet.txt \\\n",
    "-r inline \\\n",
    "--strict-protocol \\\n",
    "-q \\\n",
    "> hw71_result.txt"
   ]
  },
  {
   "cell_type": "code",
   "execution_count": 84,
   "metadata": {
    "collapsed": false
   },
   "outputs": [
    {
     "name": "stdout",
     "output_type": "stream",
     "text": [
      "Number of nodes = 8271\n",
      "Number of links = 61134\n"
     ]
    },
    {
     "data": {
      "image/png": "[encoded data removed]",
      "text/plain": [
       "<matplotlib.figure.Figure at 0x10ecfdfd0>"
      ]
     },
     "metadata": {},
     "output_type": "display_data"
    }
   ],
   "source": [
    "import matplotlib.pyplot as plt\n",
    "import matplotlib.ticker as ticker\n",
    "\n",
    "degreeDist = {}\n",
    "\n",
    "with open(\"hw71_result.txt\", \"r\") as f:\n",
    "    for line in f:\n",
    "        fields = line.strip().split('\\t')\n",
    "        key = fields[0].replace('\"', '')\n",
    "        value = fields[1]\n",
    "        if key == \"l\":\n",
    "            totalLinks = int(value)\n",
    "        elif key == \"n\":\n",
    "            totalNodes = int(value)\n",
    "        else:\n",
    "            # format: \"d3\"\n",
    "            degree = int(key[1:])\n",
    "            degreeDist[degree] = int(value)\n",
    "\n",
    "print \"Number of nodes =\", totalNodes\n",
    "print \"Number of links =\", totalLinks\n",
    "\n",
    "degrees = [int(x) for x in degreeDist.keys()] \n",
    "counts = degreeDist.values()\n",
    "\n",
    "fig, ax = plt.subplots()\n",
    "\n",
    "ax.hist(degrees, weights = counts, bins = 20, log=True, align='mid')\n",
    "plt.xlabel('degree (log scale)')\n",
    "plt.ylabel('count (log scale)')\n",
    "plt.title('Distribution of degree')\n",
    "plt.show()"
   ]
  },
  {
   "cell_type": "markdown",
   "metadata": {},
   "source": [
    "## HW 7.2: Shortest path graph distances (NLTK synonyms)\n",
    "```\n",
    "Write (reuse your code from 7.0) an MRJob class to find shortest path graph distances, \n",
    "and apply it to the NLTK synonyms network dataset. \n",
    "\n",
    "Proof your code's function by running the job:\n",
    "\n",
    "- shortest path starting at \"walk\" (index=7827) and ending at \"make\" (index=536),\n",
    "\n",
    "and showing you code's output. Once again, your output should include the path and the distance.\n",
    "\n",
    "As you develop your code, please be sure to run it locally first (though on the whole dataset). \n",
    "Once you have gotten you code to run locally, deploy it on AWS as a systems test\n",
    "in preparation for our next dataset (which will require AWS).\n",
    "```"
   ]
  },
  {
   "cell_type": "code",
   "execution_count": 71,
   "metadata": {
    "collapsed": false
   },
   "outputs": [
    {
     "name": "stdout",
     "output_type": "stream",
     "text": [
      "Overwriting Driver_Hw72.py\n"
     ]
    }
   ],
   "source": [
    "%%writefile Driver_Hw72.py\n",
    "from numpy import random\n",
    "from MrSssp_hw70 import MrSssp_hw70\n",
    "from MrCheckTermination import MrCheckTermination\n",
    "import json\n",
    "import sys\n",
    "import boto3\n",
    "import botocore\n",
    "import shutil\n",
    "import time\n",
    "\n",
    "import argparse\n",
    "parser = argparse.ArgumentParser()\n",
    "parser.add_argument(\"--initFile\", type=str)\n",
    "parser.add_argument(\"--srcNode\", type=str, help=\"The source node\", default=None)\n",
    "parser.add_argument(\"--destNode\", type=str, help=\"The destination node\", default=None)\n",
    "parser.add_argument(\"--interSsspFolder\", type=str, default=None)\n",
    "parser.add_argument(\"--ec2-instance-type\", type=str, default=None)\n",
    "parser.add_argument(\"--num-ec2-instances\", type=str, default=None)\n",
    "parser.add_argument(\"-r\", \"--run\", type=str)\n",
    "args = parser.parse_args()\n",
    "\n",
    "jobArgsBase = ['-r', args.run,\n",
    "             '--no-strict-protocols']\n",
    "\n",
    "if args.run == \"emr\":\n",
    "    jobArgsBase += [\"--pool-emr-job-flows\"]\n",
    "    \n",
    "    if args.ec2_instance_type is not None:\n",
    "        jobArgsBase += [\"--ec2-instance-type\", args.ec2_instance_type]\n",
    "        \n",
    "    if args.num_ec2_instances is not None:\n",
    "        jobArgsBase += [\"--num-ec2-instances\", args.num_ec2_instances]\n",
    "\n",
    "    \n",
    "i = 1\n",
    "startTime = time.time()\n",
    "finished = False\n",
    "interSsspFile = args.initFile # Use the initialized sssp in the first iteration\n",
    "srcNodeInit = False\n",
    "\n",
    "while(not finished):\n",
    "    print \"iteration %d: (%d sec since started)\" % (i, time.time() - startTime)\n",
    "    \n",
    "    jobArgs = [interSsspFile] + jobArgsBase\n",
    "    \n",
    "    # Switch to use a different SSSP file name for subsequent iterations\n",
    "    if args.run == \"inline\" or args.run == \"local\":\n",
    "        interSsspFile = \"_interSssp.txt\"\n",
    "    else:\n",
    "        interSsspFile = args.interSsspFolder + \"iter\" + str(i) + \"/\"\n",
    "        jobArgs += [\"--no-output\", \"--output-dir\", interSsspFile]\n",
    "     \n",
    "    # Have to initialize the source node during the first iteration\n",
    "    job1_args = jobArgs\n",
    "    if not srcNodeInit:\n",
    "        job1_args += [\"--initSrcNode\", args.srcNode]\n",
    "        srcNodeInit = True\n",
    "    \n",
    "    mr_job1 = MrSssp_hw70(args=job1_args)\n",
    "    \n",
    "    with mr_job1.make_runner() as runner: \n",
    "        runner.run()\n",
    "\n",
    "        if args.run == \"inline\" or args.run == \"local\":\n",
    "            # Generate the new SSSP based on job's output\n",
    "            with open(interSsspFile, 'w') as f:            \n",
    "                for line in runner.stream_output():\n",
    "                    key, value =  mr_job1.parse_output_line(line)\n",
    "                    f.write(\"%s\\t%s\\n\" % (key,json.dumps(value)))\n",
    "\n",
    "    # Check if we have reached termination state\n",
    "    jobArgs = [interSsspFile, '--destNode', args.destNode] + jobArgsBase\n",
    "    mr_job2 = MrCheckTermination(args=jobArgs)\n",
    "    \n",
    "    with mr_job2.make_runner() as runner: \n",
    "        runner.run()\n",
    "\n",
    "        for line in runner.stream_output():\n",
    "            key, value =  mr_job2.parse_output_line(line)\n",
    "            if key == 1:\n",
    "                print\n",
    "                print \"Shortest path:\", value[2], \"; Cost:\", value[3]\n",
    "            else:\n",
    "                assert key == 0\n",
    "                print\n",
    "                print \"Not Found\"\n",
    "                \n",
    "            finished = True\n",
    "    i += 1\n",
    "    \n",
    "print\n",
    "print \"Total time: %d sec\" % (time.time() - startTime)\n",
    "        "
   ]
  },
  {
   "cell_type": "markdown",
   "metadata": {},
   "source": [
    "#### Run it locally"
   ]
  },
  {
   "cell_type": "code",
   "execution_count": 49,
   "metadata": {
    "collapsed": false
   },
   "outputs": [],
   "source": [
    "!python MrInitSssp.py synNet.txt -q -r inline --no-strict-protocols \\\n",
    "> initSssp.txt"
   ]
  },
  {
   "cell_type": "code",
   "execution_count": 50,
   "metadata": {
    "collapsed": false
   },
   "outputs": [
    {
     "name": "stdout",
     "output_type": "stream",
     "text": [
      "iteration 1: (0 sec since started)\n",
      "No handlers could be found for logger \"mrjob.sim\"\n",
      "iteration 2: (3 sec since started)\n",
      "iteration 3: (5 sec since started)\n",
      "iteration 4: (8 sec since started)\n",
      "\n",
      "Shortest path: [7827, 1426, 1668, 536] ; Cost: 3\n",
      "\n",
      "Total time: 11 sec\n"
     ]
    }
   ],
   "source": [
    "!python Driver_Hw72.py -r local --initFile initSssp.txt --srcNode 7827 --destNode 536"
   ]
  },
  {
   "cell_type": "markdown",
   "metadata": {},
   "source": [
    "#### Run it on Hadoop with HDFS"
   ]
  },
  {
   "cell_type": "markdown",
   "metadata": {},
   "source": [
    "##### Initialize input file"
   ]
  },
  {
   "cell_type": "code",
   "execution_count": 36,
   "metadata": {
    "collapsed": false
   },
   "outputs": [
    {
     "name": "stdout",
     "output_type": "stream",
     "text": [
      "16/03/10 11:36:07 WARN util.NativeCodeLoader: Unable to load native-hadoop library for your platform... using builtin-java classes where applicable\n",
      "Deleted hw72_init\n"
     ]
    }
   ],
   "source": [
    "!hdfs dfs -rm -r hw72_init\n",
    "\n",
    "!python MrInitSssp.py synNet.txt -q -r hadoop --no-strict-protocols \\\n",
    "--output-dir hdfs://127.0.0.1/user/patrickng/hw72_init \\\n",
    "--no-output \\\n",
    "--no-strict-protocols \\"
   ]
  },
  {
   "cell_type": "code",
   "execution_count": 37,
   "metadata": {
    "collapsed": false
   },
   "outputs": [
    {
     "name": "stdout",
     "output_type": "stream",
     "text": [
      "16/03/10 11:36:53 WARN util.NativeCodeLoader: Unable to load native-hadoop library for your platform... using builtin-java classes where applicable\n",
      "Found 2 items\n",
      "-rw-r--r--   1 patrickng supergroup          0 2016-03-10 11:36 hdfs://127.0.0.1/user/patrickng/hw72_init/_SUCCESS\n",
      "-rw-r--r--   1 patrickng supergroup     969970 2016-03-10 11:36 hdfs://127.0.0.1/user/patrickng/hw72_init/part-00000\n"
     ]
    }
   ],
   "source": [
    "!hdfs dfs -ls hdfs://127.0.0.1/user/patrickng/hw72_init"
   ]
  },
  {
   "cell_type": "markdown",
   "metadata": {},
   "source": [
    "##### Run the MrJob on Hadoop"
   ]
  },
  {
   "cell_type": "code",
   "execution_count": 39,
   "metadata": {
    "collapsed": false
   },
   "outputs": [
    {
     "name": "stdout",
     "output_type": "stream",
     "text": [
      "16/03/10 11:37:20 WARN util.NativeCodeLoader: Unable to load native-hadoop library for your platform... using builtin-java classes where applicable\n",
      "rm: `hw72_inter': No such file or directory\n",
      "iteration 1: (0 sec since started)\n",
      "No handlers could be found for logger \"mrjob.compat\"\n",
      "iteration 2: (73 sec since started)\n",
      "iteration 3: (141 sec since started)\n",
      "iteration 4: (213 sec since started)\n",
      "\n",
      "Shortest path: [7827, 1426, 1668, 536]\n",
      "\n",
      "Total time: 289 sec\n"
     ]
    }
   ],
   "source": [
    "!hdfs dfs -rm -r hw72_inter\n",
    "\n",
    "!python Driver_Hw72.py -r hadoop \\\n",
    "--initFile hdfs://127.0.0.1/user/patrickng/hw72_init \\\n",
    "--interSsspFolder hdfs://127.0.0.1/user/patrickng/hw72_inter/ \\\n",
    "--destNode 536 \\\n",
    "--srcNode 7827 \\\n"
   ]
  },
  {
   "cell_type": "markdown",
   "metadata": {},
   "source": [
    "#### Run it on EMR"
   ]
  },
  {
   "cell_type": "markdown",
   "metadata": {},
   "source": [
    "##### Initialize input file"
   ]
  },
  {
   "cell_type": "code",
   "execution_count": 44,
   "metadata": {
    "collapsed": false
   },
   "outputs": [
    {
     "name": "stdout",
     "output_type": "stream",
     "text": [
      "make_bucket: s3://patng323-w261-hw72/\n",
      "upload: ./synNet.txt to s3://patng323-w261-hw72/input/synNet.txt\n",
      "2016-03-10 11:08:52        111 directed_toy.txt\n",
      "2016-03-10 11:45:50     705298 synNet.txt\n"
     ]
    }
   ],
   "source": [
    "!aws s3 mb s3://patng323-w261-hw72\n",
    "!aws s3 cp synNet.txt s3://patng323-w261-hw72/input/\n",
    "!aws s3 ls s3://patng323-w261-hw72/input/"
   ]
  },
  {
   "cell_type": "code",
   "execution_count": 51,
   "metadata": {
    "collapsed": false
   },
   "outputs": [
    {
     "name": "stdout",
     "output_type": "stream",
     "text": [
      "delete: s3://patng323-w261-hw72/init/_SUCCESS\n",
      "delete: s3://patng323-w261-hw72/init/part-00000  \n",
      "Wait 5.0s sec for S3 eventual consistency\n",
      "Got unexpected keyword arguments: ssh_tunnel\n",
      "using configs in /Users/patrickng/.mrjob.conf\n",
      "using existing scratch bucket mrjob-0c26425c25d7acc1\n",
      "using s3://mrjob-0c26425c25d7acc1/tmp/ as our scratch dir on S3\n",
      "creating tmp directory /var/folders/dm/nsw7wjf91f1c74hgl17ldw040000gn/T/MrInitSssp.patrickng.20160310.035925.358808\n",
      "writing master bootstrap script to /var/folders/dm/nsw7wjf91f1c74hgl17ldw040000gn/T/MrInitSssp.patrickng.20160310.035925.358808/b.py\n",
      "Copying non-input files into s3://mrjob-0c26425c25d7acc1/tmp/MrInitSssp.patrickng.20160310.035925.358808/files/\n",
      "Attempting to find an available job flow...\n",
      "hash_object() is deprecated and will be removed in v0.5\n",
      "Adding our job to existing job flow j-358X2FTMOOO57\n",
      "Job launched 32.0s ago, status RUNNING: Running step (MrInitSssp.patrickng.20160310.035925.358808: Step 1 of 1)\n",
      "Job launched 64.1s ago, status RUNNING: Running step (MrInitSssp.patrickng.20160310.035925.358808: Step 1 of 1)\n",
      "Job launched 96.4s ago, status RUNNING: Running step (MrInitSssp.patrickng.20160310.035925.358808: Step 1 of 1)\n",
      "Job launched 128.6s ago, status RUNNING: Running step (MrInitSssp.patrickng.20160310.035925.358808: Step 1 of 1)\n",
      "Job launched 161.5s ago, status RUNNING: Running step (MrInitSssp.patrickng.20160310.035925.358808: Step 1 of 1)\n",
      "Job completed.\n",
      "Running time was 150.0s (not counting time spent waiting for the EC2 instances)\n",
      "ec2_key_pair_file not specified, going to S3\n",
      "Fetching counters from S3...\n",
      "Waiting 5.0s for S3 eventual consistency\n",
      "Counters from step 1:\n",
      "  File Input Format Counters :\n",
      "    Bytes Read: 742804\n",
      "  File Output Format Counters :\n",
      "    Bytes Written: 969970\n",
      "  FileSystemCounters:\n",
      "    FILE_BYTES_READ: 388706\n",
      "    FILE_BYTES_WRITTEN: 937787\n",
      "    HDFS_BYTES_READ: 372\n",
      "    S3_BYTES_READ: 742804\n",
      "    S3_BYTES_WRITTEN: 969970\n",
      "  Job Counters :\n",
      "    Launched map tasks: 4\n",
      "    Launched reduce tasks: 1\n",
      "    Rack-local map tasks: 4\n",
      "    SLOTS_MILLIS_MAPS: 114358\n",
      "    SLOTS_MILLIS_REDUCES: 49049\n",
      "    Total time spent by all maps waiting after reserving slots (ms): 0\n",
      "    Total time spent by all reduces waiting after reserving slots (ms): 0\n",
      "  Map-Reduce Framework:\n",
      "    CPU time spent (ms): 26360\n",
      "    Combine input records: 0\n",
      "    Combine output records: 0\n",
      "    Map input bytes: 705298\n",
      "    Map input records: 8271\n",
      "    Map output bytes: 1601536\n",
      "    Map output materialized bytes: 415387\n",
      "    Map output records: 69405\n",
      "    Physical memory (bytes) snapshot: 895913984\n",
      "    Reduce input groups: 16542\n",
      "    Reduce input records: 69405\n",
      "    Reduce output records: 8271\n",
      "    Reduce shuffle bytes: 415387\n",
      "    SPLIT_RAW_BYTES: 372\n",
      "    Spilled Records: 138810\n",
      "    Total committed heap usage (bytes): 620118016\n",
      "    Virtual memory (bytes) snapshot: 3105779712\n",
      "removing tmp directory /var/folders/dm/nsw7wjf91f1c74hgl17ldw040000gn/T/MrInitSssp.patrickng.20160310.035925.358808\n",
      "Removing all files in s3://mrjob-0c26425c25d7acc1/tmp/MrInitSssp.patrickng.20160310.035925.358808/\n"
     ]
    }
   ],
   "source": [
    "!aws s3 rm --recursive s3://patng323-w261-hw72/init\n",
    "!echo \"Wait 5.0s sec for S3 eventual consistency\"\n",
    "!sleep 5\n",
    "\n",
    "!python MrInitSssp.py \\\n",
    "s3://patng323-w261-hw72/input/synNet.txt \\\n",
    "-r emr \\\n",
    "--pool-emr-job-flows \\\n",
    "--num-ec2-instances=1 \\\n",
    "--ec2-instance-type=m1.large \\\n",
    "--no-strict-protocols \\\n",
    "--no-output \\\n",
    "--output-dir s3://patng323-w261-hw72/init/ \\\n",
    "    \n"
   ]
  },
  {
   "cell_type": "code",
   "execution_count": 52,
   "metadata": {
    "collapsed": false
   },
   "outputs": [
    {
     "name": "stdout",
     "output_type": "stream",
     "text": [
      "2016-03-10 12:02:25          0 _SUCCESS\r\n",
      "2016-03-10 12:02:19     969970 part-00000\r\n"
     ]
    }
   ],
   "source": [
    "!aws s3 ls s3://patng323-w261-hw72/init/"
   ]
  },
  {
   "cell_type": "markdown",
   "metadata": {},
   "source": [
    "#### Run the driver"
   ]
  },
  {
   "cell_type": "code",
   "execution_count": 59,
   "metadata": {
    "collapsed": false
   },
   "outputs": [
    {
     "name": "stdout",
     "output_type": "stream",
     "text": [
      "delete: s3://patng323-w261-hw72/inter/iter1/part-00000\n",
      "delete: s3://patng323-w261-hw72/inter/iter1/_SUCCESS\n",
      "Wait 5.0s sec for S3 eventual consistency\n",
      "iteration 1: (0 sec since started)\n",
      "No handlers could be found for logger \"mrjob.conf\"\n",
      "iteration 2: (395 sec since started)\n",
      "iteration 3: (828 sec since started)\n",
      "iteration 4: (1235 sec since started)\n",
      "\n",
      "Shortest path: [7827, 1426, 1668, 536] ; Cost: 3\n",
      "\n",
      "Total time: 1668 sec\n"
     ]
    }
   ],
   "source": [
    "!aws s3 rm --recursive s3://patng323-w261-hw72/inter\n",
    "!echo \"Wait 5.0s sec for S3 eventual consistency\"\n",
    "!sleep 5\n",
    "    \n",
    "!python Driver_Hw72.py \\\n",
    "-r emr \\\n",
    "--initFile s3://patng323-w261-hw72/init/ \\\n",
    "--interSsspFolder s3://patng323-w261-hw72/inter/ \\\n",
    "--num-ec2-instances=1 \\\n",
    "--ec2-instance-type=m1.large \\\n",
    "--destNode 536 \\\n",
    "--srcNode 7827\n"
   ]
  },
  {
   "cell_type": "markdown",
   "metadata": {},
   "source": [
    "## HW 7.3: Exploratory data analysis (Wikipedia)\n",
    "```\n",
    "Using MRJob, explore the Wikipedia network data on the AWS cloud. Reuse your code from HW 7.1---does is scale well? \n",
    "Be cautioned that Wikipedia is a directed network, where links are not symmetric. \n",
    "So, even though a node may be linked to, it will not appear as a primary record itself if it has no out-links. \n",
    "This means that you may have to ADJUST your code (depending on its design). \n",
    "To be sure of your code's functionality in this context, run a systems test on the directed_toy.txt network.```\n"
   ]
  },
  {
   "cell_type": "code",
   "execution_count": null,
   "metadata": {
    "collapsed": true
   },
   "outputs": [],
   "source": []
  },
  {
   "cell_type": "markdown",
   "metadata": {},
   "source": [
    "## HW 7.4: Shortest path graph distances (Wikipedia)\n",
    "```\n",
    "Using MRJob, find shortest path graph distances in the Wikipedia network on the AWS cloud.\n",
    "Reuse your code from 7.2, but once again be warned of Wikipedia being a directed network.\n",
    "To be sure of your code's functionality in this context, run a systems test on the directed_toy.txt network.\n",
    "\n",
    "When running your code on the Wikipedia network, proof its function by running the job:\n",
    "\n",
    "- shortest path from \"Ireland\" (index=6176135) to \"University of California, Berkeley\" (index=13466359),\n",
    "\n",
    "and show your code's output. Show the shortest path in terms of just page IDS but also in terms of the name of page (show of your MapReduce join skills!!)\n",
    "\n",
    "Once your code is running, find some other shortest paths and report your results.```"
   ]
  },
  {
   "cell_type": "markdown",
   "metadata": {},
   "source": [
    "##### Initialize input file"
   ]
  },
  {
   "cell_type": "code",
   "execution_count": 63,
   "metadata": {
    "collapsed": false
   },
   "outputs": [
    {
     "name": "stdout",
     "output_type": "stream",
     "text": [
      "make_bucket: s3://patng323-w261-hw74/\n",
      "Wait 5.0s sec for S3 eventual consistency\n"
     ]
    }
   ],
   "source": [
    "!aws s3 mb s3://patng323-w261-hw74\n",
    "!sleep 3\n",
    "!aws s3 rm --recursive s3://patng323-w261-hw74/init\n",
    "!echo \"Wait 5.0s sec for S3 eventual consistency\"\n",
    "!sleep 5\n",
    "\n",
    "!python MrInitSssp.py \\\n",
    "s3://ucb-mids-mls-networks/wikipedia/all-pages-indexed-out.txt \\\n",
    "-r emr \\\n",
    "--pool-emr-job-flows \\\n",
    "--num-ec2-instances=4 \\\n",
    "--ec2-instance-type=m1.large \\\n",
    "--no-strict-protocols \\\n",
    "--no-output \\\n",
    "--output-dir s3://patng323-w261-hw74/init/ \\"
   ]
  },
  {
   "cell_type": "code",
   "execution_count": 65,
   "metadata": {
    "collapsed": false
   },
   "outputs": [
    {
     "name": "stdout",
     "output_type": "stream",
     "text": [
      "2016-03-10 13:45:28          0 _SUCCESS\n",
      "2016-03-10 13:31:01  535737703 part-00000\n",
      "2016-03-10 13:31:05  537456160 part-00001\n",
      "2016-03-10 13:30:54  536055558 part-00002\n",
      "2016-03-10 13:39:14  537140533 part-00003\n",
      "2016-03-10 13:39:30  536470791 part-00004\n"
     ]
    }
   ],
   "source": [
    "!aws s3 ls s3://patng323-w261-hw74/init/"
   ]
  },
  {
   "cell_type": "markdown",
   "metadata": {},
   "source": [
    "#### Run the driver"
   ]
  },
  {
   "cell_type": "code",
   "execution_count": 72,
   "metadata": {
    "collapsed": false
   },
   "outputs": [
    {
     "name": "stdout",
     "output_type": "stream",
     "text": [
      "Wait 5.0s sec for S3 eventual consistency\n",
      "iteration 1: (0 sec since started)\n",
      "No handlers could be found for logger \"mrjob.conf\"\n",
      "iteration 2: (1117 sec since started)\n",
      "iteration 3: (1920 sec since started)\n",
      "\n",
      "Shortest path: [6176135, 11607791, 13466359] ; Cost: 3\n",
      "\n",
      "Total time: 2747 sec\n"
     ]
    }
   ],
   "source": [
    "!aws s3 rm --recursive s3://patng323-w261-hw74/inter\n",
    "!echo \"Wait 5.0s sec for S3 eventual consistency\"\n",
    "!sleep 5\n",
    "    \n",
    "!python Driver_Hw72.py \\\n",
    "-r emr \\\n",
    "--initFile s3://patng323-w261-hw74/init/ \\\n",
    "--interSsspFolder s3://patng323-w261-hw74/inter/ \\\n",
    "--num-ec2-instances 4 \\\n",
    "--ec2-instance-type m1.xlarge \\\n",
    "--destNode 13466359 \\\n",
    "--srcNode 6176135\n",
    "\n"
   ]
  },
  {
   "cell_type": "code",
   "execution_count": null,
   "metadata": {
    "collapsed": true
   },
   "outputs": [],
   "source": []
  }
 ],
 "metadata": {
  "kernelspec": {
   "display_name": "Python 2",
   "language": "python",
   "name": "python2"
  },
  "language_info": {
   "codemirror_mode": {
    "name": "ipython",
    "version": 2
   },
   "file_extension": ".py",
   "mimetype": "text/x-python",
   "name": "python",
   "nbconvert_exporter": "python",
   "pygments_lexer": "ipython2",
   "version": "2.7.10"
  }
 },
 "nbformat": 4,
 "nbformat_minor": 0
}
