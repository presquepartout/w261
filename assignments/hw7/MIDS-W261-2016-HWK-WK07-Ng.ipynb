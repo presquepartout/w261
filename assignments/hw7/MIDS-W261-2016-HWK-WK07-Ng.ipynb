{
 "cells": [
  {
   "cell_type": "markdown",
   "metadata": {},
   "source": [
    "Name: Patrick Ng  \n",
    "Class: W261-2  \n",
    "Date: Mar 10, 2016  \n",
    "HW07"
   ]
  },
  {
   "cell_type": "code",
   "execution_count": 81,
   "metadata": {
    "collapsed": false
   },
   "outputs": [
    {
     "name": "stdout",
     "output_type": "stream",
     "text": [
      "The autoreload extension is already loaded. To reload it, use:\n",
      "  %reload_ext autoreload\n"
     ]
    }
   ],
   "source": [
    "%load_ext autoreload\n",
    "%autoreload 2"
   ]
  },
  {
   "cell_type": "markdown",
   "metadata": {},
   "source": [
    "## HW 7.0: Shortest path graph distances (toy networks)\n",
    "\n",
    "```\n",
    "In this part of your assignment you will develop the base of your code for the week.\n",
    "\n",
    "Write MRJob classes to find shortest path graph distances, \n",
    "as described in the lectures. In addition to finding the distances, \n",
    "your code should also output a distance-minimizing path between the source and target.\n",
    "Work locally for this part of the assignment, and use \n",
    "both of the undirected and directed toy networks.\n",
    "\n",
    "To proof you code's function, run the following jobs\n",
    "\n",
    "- shortest path in the undirected network from node 1 to node 4\n",
    "Solution: 1,5,4 \n",
    "\n",
    "- shortest path in the directed network from node 1 to node 5\n",
    "Solution: 1,2,4,5\n",
    "\n",
    "and report your output---make sure it is correct!\n",
    "```"
   ]
  },
  {
   "cell_type": "markdown",
   "metadata": {},
   "source": [
    "#### Init function: convert an input file into an SSSP file\n",
    "SSSP File format:  \n",
    "```\n",
    "JSON representaton of:\n",
    "node id \\t [ {adj-list dict}, [path from src], cost from src, status ]\n",
    "\n",
    "e.g.\n",
    "3       [{\"2\": 1, \"4\": 1}, [], 9223372036854775807, \"U\"]\n",
    "```"
   ]
  },
  {
   "cell_type": "code",
   "execution_count": 126,
   "metadata": {
    "collapsed": false
   },
   "outputs": [
    {
     "name": "stdout",
     "output_type": "stream",
     "text": [
      "Overwriting InitSssp.py\n"
     ]
    }
   ],
   "source": [
    "%%writefile InitSssp.py\n",
    "import sys\n",
    "import json\n",
    "\n",
    "def initSomeValues(isSourceNode, src):\n",
    "    if isSourceNode:\n",
    "        # This is the source node\n",
    "        status = 'Q'\n",
    "        sps = [int(src)] # shortest path from source\n",
    "        costFromSrc = 0\n",
    "    else:\n",
    "        # Other nodes\n",
    "        status = 'U'\n",
    "        sps = [] # Unknown\n",
    "        costFromSrc = sys.maxint # Unknown\n",
    "        \n",
    "    return (status, sps, costFromSrc)\n",
    "\n",
    "class InitSssp:\n",
    "    @staticmethod\n",
    "    def run(fn, src):\n",
    "        seenNodes = set()\n",
    "        emittedNodes = set()\n",
    "                \n",
    "        # Input format:\n",
    "        # 4       {'2': 1, '5': 1}\n",
    "        with open('sssp.txt', 'w') as output:\n",
    "            with open(fn, \"r\") as f:\n",
    "                for line in f:\n",
    "                    fields = line.strip().split('\\t')\n",
    "\n",
    "                    node = fields[0]\n",
    "\n",
    "                    # JSON uses double quote for string\n",
    "                    adjList = json.loads(fields[1].replace(\"'\", '\"'))\n",
    "\n",
    "                    status, sps, costFromSrc = initSomeValues(src == fields[0], src)\n",
    "\n",
    "                    values = [adjList, sps, costFromSrc, status]\n",
    "                    output.write(\"%s\\t%s\\n\" % (node, json.dumps(values)))\n",
    "\n",
    "                    # Remember all the nodes we've seen in the adjacency list,\n",
    "                    # and all the nodes we've emitted\n",
    "                    seenNodes.update(adjList.keys())\n",
    "                    emittedNodes.update(node)\n",
    "\n",
    "            # We may have items which are seen in the adj list, but they don't have an entry in the\n",
    "            # input record to point back to anyone.  This could happen in input for directed graph.\n",
    "            # In this case we still need to export a record for those remaining nodes.\n",
    "            for node in seenNodes - emittedNodes:\n",
    "                status, sps, costFromSrc = initSomeValues(src == node, src)\n",
    "                adjList = {}\n",
    "                values = [adjList, sps, costFromSrc, status]\n",
    "                output.write(\"%s\\t%s\\n\" % (node, json.dumps(values)))\n",
    "\n",
    "if __name__ == '__main__':\n",
    "    fn = sys.argv[1]\n",
    "    src = sys.argv[2]\n",
    "\n",
    "    InitSssp.run(fn, src)"
   ]
  },
  {
   "cell_type": "markdown",
   "metadata": {},
   "source": [
    "### MRJob for find shortest path"
   ]
  },
  {
   "cell_type": "code",
   "execution_count": 130,
   "metadata": {
    "collapsed": false
   },
   "outputs": [
    {
     "name": "stdout",
     "output_type": "stream",
     "text": [
      "Overwriting MrSssp_hw70.py\n"
     ]
    }
   ],
   "source": [
    "%%writefile MrSssp_hw70.py\n",
    "from numpy import argmin, array, random\n",
    "import re\n",
    "import numpy as np\n",
    "from mrjob.job import MRJob, MRStep\n",
    "from itertools import chain\n",
    "import mrjob\n",
    "import sys\n",
    "\n",
    "class MrSssp_hw70(MRJob):\n",
    "    def configure_options(self):\n",
    "        super(MrSssp_hw70, self).configure_options()\n",
    "        self.add_passthrough_option(\n",
    "            '-k', type='int', default=4, help='The number of centroids.')\n",
    "        \n",
    "    def steps(self):\n",
    "        return [\n",
    "            MRStep(\n",
    "                   mapper=self.mapper,\n",
    "                   #combiner = self.combiner,\n",
    "                   reducer=self.reducer\n",
    "            )\n",
    "               ]\n",
    "\n",
    "    INPUT_PROTOCOL = mrjob.protocol.JSONProtocol\n",
    "    \n",
    "    def mapper(self, nodeId, data):\n",
    "        # data format:\n",
    "        # Json object:\n",
    "        # [ {adj-list dict}, [path from src], cost from src, status ]\n",
    "        \n",
    "        #print >> sys.stderr, \"input data:\", data\n",
    "        adjList, pathFromSrc, costFromSrc, status = data\n",
    "        \n",
    "        if status == \"Q\":\n",
    "            # The node is in Queued mode.  It's a frontier node.\n",
    "            # Need to process its neighbours\n",
    "            for neighbor, weight in adjList.items():\n",
    "                neighbor = int(neighbor)\n",
    "                neighborPathFromSrc = pathFromSrc + [neighbor]\n",
    "                neighborCostFromSrc = costFromSrc + weight\n",
    "                yield neighbor, (None, neighborPathFromSrc, neighborCostFromSrc, \"Q\")\n",
    "        \n",
    "            # Lastly, change its own status to visited\n",
    "            status = \"V\"\n",
    "            \n",
    "        yield nodeId, (adjList, pathFromSrc, costFromSrc, status)\n",
    "        \n",
    "    def reducer(self, key, values):\n",
    "        newStatus = None\n",
    "        minCostFromSrc = sys.maxint\n",
    "        \n",
    "        for data in values:\n",
    "            adjList, pathFromSrc, costFromSrc, status = data\n",
    "            \n",
    "            if adjList is None:\n",
    "                # It is a record emitted from a neighbor\n",
    "                if costFromSrc < minCostFromSrc:\n",
    "                    minCostFromSrc = costFromSrc\n",
    "                    minPathFromSrc = pathFromSrc                    \n",
    "                    assert status == 'Q', \"status must be Q for record emitted by neighbor\"\n",
    "                    newStatus = status\n",
    "            else:\n",
    "                realAdjList = adjList\n",
    "                latestCostFromSrc = costFromSrc\n",
    "                latestPathFromSrc = pathFromSrc\n",
    "                latestStatus = status\n",
    "        \n",
    "        if minCostFromSrc < latestCostFromSrc:\n",
    "            # Its 'cost from Src' becomes smaller.  Put it to the frontier.\n",
    "            latestStatus = newStatus\n",
    "            assert latestStatus == 'Q'\n",
    "            latestCostFromSrc = minCostFromSrc\n",
    "            latestPathFromSrc = minPathFromSrc            \n",
    "            \n",
    "        yield key, (realAdjList, latestPathFromSrc, latestCostFromSrc, latestStatus)\n",
    "            \n",
    "              \n",
    "if __name__ == '__main__':\n",
    "    MrSssp_hw70.run()"
   ]
  },
  {
   "cell_type": "markdown",
   "metadata": {},
   "source": [
    "### Driver for finding shortest path"
   ]
  },
  {
   "cell_type": "code",
   "execution_count": 134,
   "metadata": {
    "collapsed": false
   },
   "outputs": [
    {
     "name": "stdout",
     "output_type": "stream",
     "text": [
      "Overwriting Driver_Hw70.py\n"
     ]
    }
   ],
   "source": [
    "%%writefile Driver_Hw70.py\n",
    "from numpy import random\n",
    "from MrSssp_hw70 import MrSssp_hw70\n",
    "from InitSssp import InitSssp\n",
    "import json\n",
    "import sys\n",
    "\n",
    "import argparse\n",
    "parser = argparse.ArgumentParser()\n",
    "parser.add_argument(\"--inputFile\", type=str)\n",
    "parser.add_argument(\"--srcNode\", type=str)\n",
    "args = parser.parse_args()\n",
    "\n",
    "mr_job = MrSssp_hw70(args=['sssp.txt',\n",
    "                        '--no-strict-protocols',\n",
    "                        '-r', 'inline'])\n",
    "\n",
    "# Initialized sssp.txt\n",
    "InitSssp.run(args.inputFile, args.srcNode)\n",
    "\n",
    "i = 1\n",
    "hasQueuedNode = True\n",
    "\n",
    "# Loop as long as we still have at least one queued node\n",
    "while(hasQueuedNode):\n",
    "    print \"iteration\"+str(i)+\":\"\n",
    "    \n",
    "    hasQueuedNode = False # Init it back to False\n",
    "    with mr_job.make_runner() as runner: \n",
    "        runner.run()\n",
    "\n",
    "        # Generate the new sssp.txt based on job's output\n",
    "        with open('sssp.txt', 'w') as f:\n",
    "            for line in runner.stream_output():\n",
    "                key, value =  mr_job.parse_output_line(line)\n",
    "                f.write(\"%s\\t%s\\n\" % (key,json.dumps(value)))\n",
    "                print \"Result: %s\\t%s\" % (key,value)\n",
    "                \n",
    "                if not hasQueuedNode:\n",
    "                    # Check if we've seen at least one Queued node\n",
    "                    hasQueuedNode = value[-1] == 'Q'\n",
    "                        \n",
    "    print\n",
    "    print \"------------------------\"\n",
    "    print\n",
    "    i += 1\n",
    "        "
   ]
  },
  {
   "cell_type": "markdown",
   "metadata": {},
   "source": [
    "### Run it for undirected_toy.txt"
   ]
  },
  {
   "cell_type": "code",
   "execution_count": 135,
   "metadata": {
    "collapsed": false
   },
   "outputs": [
    {
     "name": "stdout",
     "output_type": "stream",
     "text": [
      "iteration1:\n",
      "Result: 1\t[{'2': 1, '5': 1}, [1], 0, 'V']\n",
      "Result: 2\t[{'1': 1, '3': 1, '5': 1, '4': 1}, [1, 2], 1, 'Q']\n",
      "Result: 3\t[{'2': 1, '4': 1}, [], 9223372036854775807, 'U']\n",
      "Result: 4\t[{'3': 1, '2': 1, '5': 1}, [], 9223372036854775807, 'U']\n",
      "Result: 5\t[{'1': 1, '2': 1, '4': 1}, [1, 5], 1, 'Q']\n",
      "\n",
      "------------------------\n",
      "\n",
      "iteration2:\n",
      "Result: 1\t[{'2': 1, '5': 1}, [1], 0, 'V']\n",
      "Result: 2\t[{'1': 1, '3': 1, '5': 1, '4': 1}, [1, 2], 1, 'V']\n",
      "Result: 3\t[{'2': 1, '4': 1}, [1, 2, 3], 2, 'Q']\n",
      "Result: 4\t[{'3': 1, '2': 1, '5': 1}, [1, 2, 4], 2, 'Q']\n",
      "Result: 5\t[{'1': 1, '2': 1, '4': 1}, [1, 5], 1, 'V']\n",
      "\n",
      "------------------------\n",
      "\n",
      "iteration3:\n",
      "Result: 1\t[{'2': 1, '5': 1}, [1], 0, 'V']\n",
      "Result: 2\t[{'1': 1, '3': 1, '5': 1, '4': 1}, [1, 2], 1, 'V']\n",
      "Result: 3\t[{'2': 1, '4': 1}, [1, 2, 3], 2, 'V']\n",
      "Result: 4\t[{'3': 1, '2': 1, '5': 1}, [1, 2, 4], 2, 'V']\n",
      "Result: 5\t[{'1': 1, '2': 1, '4': 1}, [1, 5], 1, 'V']\n",
      "\n",
      "------------------------\n",
      "\n"
     ]
    }
   ],
   "source": [
    "!python Driver_Hw70.py --inputFile undirected_toy.txt --srcNode 1"
   ]
  },
  {
   "cell_type": "markdown",
   "metadata": {},
   "source": [
    "**Answer:**  \n",
    "From the output, you can see that the paths from 1 to 4 is: 1, 2, 4  \n",
    "  \n",
    "(It is different from the standard solution, but it is okay because there is more than one path from 1 to 4.)"
   ]
  },
  {
   "cell_type": "markdown",
   "metadata": {},
   "source": [
    "### Run it for directed_toy.txt"
   ]
  },
  {
   "cell_type": "code",
   "execution_count": 133,
   "metadata": {
    "collapsed": false
   },
   "outputs": [
    {
     "name": "stdout",
     "output_type": "stream",
     "text": [
      "iteration1:\n",
      "Result: 1\t[{'2': 1, '6': 1}, [1], 0, 'V']\n",
      "Result: 2\t[{'1': 1, '3': 1, '4': 1}, [1, 2], 1, 'Q']\n",
      "Result: 3\t[{'2': 1, '4': 1}, [], 9223372036854775807, 'U']\n",
      "Result: 4\t[{'2': 1, '5': 1}, [], 9223372036854775807, 'U']\n",
      "Result: 5\t[{'1': 1, '2': 1, '4': 1}, [], 9223372036854775807, 'U']\n",
      "Result: 6\t[{}, [1, 6], 1, 'Q']\n",
      "\n",
      "------------------------\n",
      "\n",
      "iteration2:\n",
      "Result: 1\t[{'2': 1, '6': 1}, [1], 0, 'V']\n",
      "Result: 2\t[{'1': 1, '3': 1, '4': 1}, [1, 2], 1, 'V']\n",
      "Result: 3\t[{'2': 1, '4': 1}, [1, 2, 3], 2, 'Q']\n",
      "Result: 4\t[{'2': 1, '5': 1}, [1, 2, 4], 2, 'Q']\n",
      "Result: 5\t[{'1': 1, '2': 1, '4': 1}, [], 9223372036854775807, 'U']\n",
      "Result: 6\t[{}, [1, 6], 1, 'V']\n",
      "\n",
      "------------------------\n",
      "\n",
      "iteration3:\n",
      "Result: 1\t[{'2': 1, '6': 1}, [1], 0, 'V']\n",
      "Result: 2\t[{'1': 1, '3': 1, '4': 1}, [1, 2], 1, 'V']\n",
      "Result: 3\t[{'2': 1, '4': 1}, [1, 2, 3], 2, 'V']\n",
      "Result: 4\t[{'2': 1, '5': 1}, [1, 2, 4], 2, 'V']\n",
      "Result: 5\t[{'1': 1, '2': 1, '4': 1}, [1, 2, 4, 5], 3, 'Q']\n",
      "Result: 6\t[{}, [1, 6], 1, 'V']\n",
      "\n",
      "------------------------\n",
      "\n",
      "iteration4:\n",
      "Result: 1\t[{'2': 1, '6': 1}, [1], 0, 'V']\n",
      "Result: 2\t[{'1': 1, '3': 1, '4': 1}, [1, 2], 1, 'V']\n",
      "Result: 3\t[{'2': 1, '4': 1}, [1, 2, 3], 2, 'V']\n",
      "Result: 4\t[{'2': 1, '5': 1}, [1, 2, 4], 2, 'V']\n",
      "Result: 5\t[{'1': 1, '2': 1, '4': 1}, [1, 2, 4, 5], 3, 'V']\n",
      "Result: 6\t[{}, [1, 6], 1, 'V']\n",
      "\n",
      "------------------------\n",
      "\n"
     ]
    }
   ],
   "source": [
    "!python Driver_Hw70.py --inputFile directed_toy.txt --srcNode 1"
   ]
  },
  {
   "cell_type": "markdown",
   "metadata": {},
   "source": [
    "**Answer:**  \n",
    "From the output, you can see that the paths from 1 to 5 is: 1, 2, 4, 5 "
   ]
  },
  {
   "cell_type": "code",
   "execution_count": null,
   "metadata": {
    "collapsed": true
   },
   "outputs": [],
   "source": []
  }
 ],
 "metadata": {
  "kernelspec": {
   "display_name": "Python 2",
   "language": "python",
   "name": "python2"
  },
  "language_info": {
   "codemirror_mode": {
    "name": "ipython",
    "version": 2
   },
   "file_extension": ".py",
   "mimetype": "text/x-python",
   "name": "python",
   "nbconvert_exporter": "python",
   "pygments_lexer": "ipython2",
   "version": "2.7.10"
  }
 },
 "nbformat": 4,
 "nbformat_minor": 0
}
