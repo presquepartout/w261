{
 "cells": [
  {
   "cell_type": "markdown",
   "metadata": {},
   "source": [
    "Name: Patrick Ng  \n",
    "Class: W261-2  \n",
    "Date: Mar 10, 2016  \n",
    "HW07"
   ]
  },
  {
   "cell_type": "code",
   "execution_count": 1,
   "metadata": {
    "collapsed": false
   },
   "outputs": [],
   "source": [
    "%load_ext autoreload\n",
    "%autoreload 2\n",
    "%matplotlib inline"
   ]
  },
  {
   "cell_type": "markdown",
   "metadata": {},
   "source": [
    "## HW 7.0: Shortest path graph distances (toy networks)\n",
    "\n",
    "```\n",
    "In this part of your assignment you will develop the base of your code for the week.\n",
    "\n",
    "Write MRJob classes to find shortest path graph distances, \n",
    "as described in the lectures. In addition to finding the distances, \n",
    "your code should also output a distance-minimizing path between the source and target.\n",
    "Work locally for this part of the assignment, and use \n",
    "both of the undirected and directed toy networks.\n",
    "\n",
    "To proof you code's function, run the following jobs\n",
    "\n",
    "- shortest path in the undirected network from node 1 to node 4\n",
    "Solution: 1,5,4 \n",
    "\n",
    "- shortest path in the directed network from node 1 to node 5\n",
    "Solution: 1,2,4,5\n",
    "\n",
    "and report your output---make sure it is correct!\n",
    "```"
   ]
  },
  {
   "cell_type": "markdown",
   "metadata": {},
   "source": [
    "#### Init function: convert an input file into an SSSP file\n",
    "SSSP File format:  \n",
    "```\n",
    "JSON representaton of:\n",
    "node id \\t [ {adj-list dict}, [path from src], cost from src, status ]\n",
    "\n",
    "e.g.\n",
    "3       [{\"2\": 1, \"4\": 1}, [], 9223372036854775807, \"U\"]\n",
    "```"
   ]
  },
  {
   "cell_type": "code",
   "execution_count": 150,
   "metadata": {
    "collapsed": false
   },
   "outputs": [
    {
     "name": "stdout",
     "output_type": "stream",
     "text": [
      "Overwriting InitSssp.py\n"
     ]
    }
   ],
   "source": [
    "%%writefile InitSssp.py\n",
    "import sys\n",
    "import json\n",
    "\n",
    "def initSomeValues(isSourceNode, src):\n",
    "    if isSourceNode:\n",
    "        # This is the source node\n",
    "        status = 'Q'\n",
    "        sps = [int(src)] # shortest path from source\n",
    "        costFromSrc = 0\n",
    "    else:\n",
    "        # Other nodes\n",
    "        status = 'U'\n",
    "        sps = [] # Unknown\n",
    "        costFromSrc = sys.maxint # Unknown\n",
    "        \n",
    "    return (status, sps, costFromSrc)\n",
    "\n",
    "class InitSssp:\n",
    "    @staticmethod\n",
    "    def run(fn, src):\n",
    "        seenNodes = set()\n",
    "        emittedNodes = set()\n",
    "                \n",
    "        # Input format:\n",
    "        # 4       {'2': 1, '5': 1}\n",
    "        with open('sssp.txt', 'w') as output:\n",
    "            with open(fn, \"r\") as f:\n",
    "                for line in f:\n",
    "                    fields = line.strip().split('\\t')\n",
    "\n",
    "                    node = fields[0]\n",
    "\n",
    "                    # JSON uses double quote for string\n",
    "                    adjList = json.loads(fields[1].replace(\"'\", '\"'))\n",
    "\n",
    "                    status, sps, costFromSrc = initSomeValues(src == fields[0], src)\n",
    "\n",
    "                    values = [adjList, sps, costFromSrc, status]\n",
    "                    output.write(\"%s\\t%s\\n\" % (node, json.dumps(values)))\n",
    "\n",
    "                    # Remember all the nodes we've seen in the adjacency list,\n",
    "                    # and all the nodes we've emitted\n",
    "                    seenNodes.update(adjList.keys())\n",
    "                    emittedNodes.add(node)\n",
    "                    \n",
    "            # We may have items which are seen in the adj list, but they don't have an entry in the\n",
    "            # input record to point back to anyone.  This could happen in input for directed graph.\n",
    "            # In this case we still need to export a record for those remaining nodes.\n",
    "            for node in seenNodes - emittedNodes:\n",
    "                status, sps, costFromSrc = initSomeValues(src == node, src)\n",
    "                adjList = {}\n",
    "                values = [adjList, sps, costFromSrc, status]\n",
    "                output.write(\"%s\\t%s\\n\" % (node, json.dumps(values)))\n",
    "\n",
    "if __name__ == '__main__':\n",
    "    fn = sys.argv[1]\n",
    "    src = sys.argv[2]\n",
    "\n",
    "    InitSssp.run(fn, src)"
   ]
  },
  {
   "cell_type": "markdown",
   "metadata": {},
   "source": [
    "### MRJob for find shortest path"
   ]
  },
  {
   "cell_type": "code",
   "execution_count": 104,
   "metadata": {
    "collapsed": false
   },
   "outputs": [
    {
     "name": "stdout",
     "output_type": "stream",
     "text": [
      "Overwriting MrSssp_hw70.py\n"
     ]
    }
   ],
   "source": [
    "%%writefile MrSssp_hw70.py\n",
    "from numpy import argmin, array, random\n",
    "import re\n",
    "import numpy as np\n",
    "from mrjob.job import MRJob, MRStep\n",
    "from itertools import chain\n",
    "import mrjob\n",
    "import sys\n",
    "\n",
    "class MrSssp_hw70(MRJob):\n",
    "    def steps(self):\n",
    "        return [\n",
    "            MRStep(\n",
    "                   mapper=self.mapper,\n",
    "                   #combiner = self.combiner,\n",
    "                   reducer=self.reducer\n",
    "            )\n",
    "               ]\n",
    "\n",
    "    INPUT_PROTOCOL = mrjob.protocol.JSONProtocol\n",
    "\n",
    "    def mapper(self, nodeId, data):\n",
    "        # data format:\n",
    "        # Json object:\n",
    "        # [ {adj-list dict}, [path from src], cost from src, status ]\n",
    "        \n",
    "        #print >> sys.stderr, \"input data:\", data\n",
    "        adjList, pathFromSrc, costFromSrc, status = data\n",
    "        \n",
    "        if status == \"Q\":\n",
    "            # The node is in Queued mode.  It's a frontier node.\n",
    "            # Need to process its neighbours\n",
    "            for neighbor, weight in adjList.items():\n",
    "                neighbor = int(neighbor)\n",
    "                neighborPathFromSrc = pathFromSrc + [neighbor]\n",
    "                neighborCostFromSrc = costFromSrc + weight\n",
    "                yield neighbor, (None, neighborPathFromSrc, neighborCostFromSrc, \"Q\")\n",
    "        \n",
    "            # Lastly, change its own status to visited\n",
    "            status = \"V\"\n",
    "            \n",
    "        yield nodeId, (adjList, pathFromSrc, costFromSrc, status)\n",
    "        \n",
    "    def reducer(self, key, values):\n",
    "        newStatus = None\n",
    "        minCostFromSrc = sys.maxint\n",
    "        \n",
    "        for data in values:\n",
    "            adjList, pathFromSrc, costFromSrc, status = data\n",
    "            \n",
    "            if adjList is None:\n",
    "                # It is a record emitted from a neighbor\n",
    "                if costFromSrc < minCostFromSrc:\n",
    "                    minCostFromSrc = costFromSrc\n",
    "                    minPathFromSrc = pathFromSrc                    \n",
    "                    assert status == 'Q', \"status must be Q for record emitted by neighbor\"\n",
    "                    newStatus = status\n",
    "            else:\n",
    "                realAdjList = adjList\n",
    "                latestCostFromSrc = costFromSrc\n",
    "                latestPathFromSrc = pathFromSrc\n",
    "                latestStatus = status\n",
    "        \n",
    "        if minCostFromSrc < latestCostFromSrc:\n",
    "            # Its 'cost from Src' becomes smaller.  Put it to the frontier.\n",
    "            latestStatus = newStatus\n",
    "            assert latestStatus == 'Q'\n",
    "            latestCostFromSrc = minCostFromSrc\n",
    "            latestPathFromSrc = minPathFromSrc            \n",
    "            \n",
    "        yield key, (realAdjList, latestPathFromSrc, latestCostFromSrc, latestStatus)\n",
    "            \n",
    "              \n",
    "if __name__ == '__main__':\n",
    "    MrSssp_hw70.run()"
   ]
  },
  {
   "cell_type": "markdown",
   "metadata": {},
   "source": [
    "### Driver for finding shortest path"
   ]
  },
  {
   "cell_type": "code",
   "execution_count": 134,
   "metadata": {
    "collapsed": false
   },
   "outputs": [
    {
     "name": "stdout",
     "output_type": "stream",
     "text": [
      "Overwriting Driver_Hw70.py\n"
     ]
    }
   ],
   "source": [
    "%%writefile Driver_Hw70.py\n",
    "from numpy import random\n",
    "from MrSssp_hw70 import MrSssp_hw70\n",
    "from InitSssp import InitSssp\n",
    "import json\n",
    "import sys\n",
    "\n",
    "import argparse\n",
    "parser = argparse.ArgumentParser()\n",
    "parser.add_argument(\"--inputFile\", type=str)\n",
    "parser.add_argument(\"--srcNode\", type=str)\n",
    "args = parser.parse_args()\n",
    "\n",
    "mr_job = MrSssp_hw70(args=['sssp.txt',\n",
    "                        '--no-strict-protocols',\n",
    "                        '-r', 'inline'])\n",
    "\n",
    "# Initialized sssp.txt\n",
    "InitSssp.run(args.inputFile, args.srcNode)\n",
    "\n",
    "i = 1\n",
    "hasQueuedNode = True\n",
    "\n",
    "# Loop as long as we still have at least one queued node\n",
    "while(hasQueuedNode):\n",
    "    print \"iteration\"+str(i)+\":\"\n",
    "    \n",
    "    hasQueuedNode = False # Init it back to False\n",
    "    with mr_job.make_runner() as runner: \n",
    "        runner.run()\n",
    "\n",
    "        # Generate the new sssp.txt based on job's output\n",
    "        with open('sssp.txt', 'w') as f:\n",
    "            for line in runner.stream_output():\n",
    "                key, value =  mr_job.parse_output_line(line)\n",
    "                f.write(\"%s\\t%s\\n\" % (key,json.dumps(value)))\n",
    "                print \"Result: %s\\t%s\" % (key,value)\n",
    "                \n",
    "                if not hasQueuedNode:\n",
    "                    # Check if we've seen at least one Queued node\n",
    "                    hasQueuedNode = value[-1] == 'Q'\n",
    "                        \n",
    "    print\n",
    "    print \"------------------------\"\n",
    "    print\n",
    "    i += 1\n",
    "        "
   ]
  },
  {
   "cell_type": "markdown",
   "metadata": {},
   "source": [
    "### Run it for undirected_toy.txt"
   ]
  },
  {
   "cell_type": "code",
   "execution_count": 88,
   "metadata": {
    "collapsed": false
   },
   "outputs": [
    {
     "name": "stdout",
     "output_type": "stream",
     "text": [
      "iteration1:\n",
      "Result: 1\t[{'2': 1, '5': 1}, [1], 0, 'V']\n",
      "Result: 2\t[{'1': 1, '3': 1, '5': 1, '4': 1}, [1, 2], 1, 'Q']\n",
      "Result: 3\t[{'2': 1, '4': 1}, [], 9223372036854775807, 'U']\n",
      "Result: 4\t[{'3': 1, '2': 1, '5': 1}, [], 9223372036854775807, 'U']\n",
      "Result: 5\t[{'1': 1, '2': 1, '4': 1}, [1, 5], 1, 'Q']\n",
      "\n",
      "------------------------\n",
      "\n",
      "iteration2:\n",
      "Result: 1\t[{'2': 1, '5': 1}, [1], 0, 'V']\n",
      "Result: 2\t[{'1': 1, '3': 1, '5': 1, '4': 1}, [1, 2], 1, 'V']\n",
      "Result: 3\t[{'2': 1, '4': 1}, [1, 2, 3], 2, 'Q']\n",
      "Result: 4\t[{'3': 1, '2': 1, '5': 1}, [1, 2, 4], 2, 'Q']\n",
      "Result: 5\t[{'1': 1, '2': 1, '4': 1}, [1, 5], 1, 'V']\n",
      "\n",
      "------------------------\n",
      "\n",
      "iteration3:\n",
      "Result: 1\t[{'2': 1, '5': 1}, [1], 0, 'V']\n",
      "Result: 2\t[{'1': 1, '3': 1, '5': 1, '4': 1}, [1, 2], 1, 'V']\n",
      "Result: 3\t[{'2': 1, '4': 1}, [1, 2, 3], 2, 'V']\n",
      "Result: 4\t[{'3': 1, '2': 1, '5': 1}, [1, 2, 4], 2, 'V']\n",
      "Result: 5\t[{'1': 1, '2': 1, '4': 1}, [1, 5], 1, 'V']\n",
      "\n",
      "------------------------\n",
      "\n"
     ]
    }
   ],
   "source": [
    "!python Driver_Hw70.py --inputFile undirected_toy.txt --srcNode 1"
   ]
  },
  {
   "cell_type": "markdown",
   "metadata": {},
   "source": [
    "**Answer:**  \n",
    "From the output, you can see that the paths from 1 to 4 is: 1, 2, 4  \n",
    "  \n",
    "(It is different from the standard solution, but it is okay because there is more than one path from 1 to 4.)"
   ]
  },
  {
   "cell_type": "markdown",
   "metadata": {},
   "source": [
    "### Run it for directed_toy.txt"
   ]
  },
  {
   "cell_type": "code",
   "execution_count": 133,
   "metadata": {
    "collapsed": false
   },
   "outputs": [
    {
     "name": "stdout",
     "output_type": "stream",
     "text": [
      "iteration1:\n",
      "Result: 1\t[{'2': 1, '6': 1}, [1], 0, 'V']\n",
      "Result: 2\t[{'1': 1, '3': 1, '4': 1}, [1, 2], 1, 'Q']\n",
      "Result: 3\t[{'2': 1, '4': 1}, [], 9223372036854775807, 'U']\n",
      "Result: 4\t[{'2': 1, '5': 1}, [], 9223372036854775807, 'U']\n",
      "Result: 5\t[{'1': 1, '2': 1, '4': 1}, [], 9223372036854775807, 'U']\n",
      "Result: 6\t[{}, [1, 6], 1, 'Q']\n",
      "\n",
      "------------------------\n",
      "\n",
      "iteration2:\n",
      "Result: 1\t[{'2': 1, '6': 1}, [1], 0, 'V']\n",
      "Result: 2\t[{'1': 1, '3': 1, '4': 1}, [1, 2], 1, 'V']\n",
      "Result: 3\t[{'2': 1, '4': 1}, [1, 2, 3], 2, 'Q']\n",
      "Result: 4\t[{'2': 1, '5': 1}, [1, 2, 4], 2, 'Q']\n",
      "Result: 5\t[{'1': 1, '2': 1, '4': 1}, [], 9223372036854775807, 'U']\n",
      "Result: 6\t[{}, [1, 6], 1, 'V']\n",
      "\n",
      "------------------------\n",
      "\n",
      "iteration3:\n",
      "Result: 1\t[{'2': 1, '6': 1}, [1], 0, 'V']\n",
      "Result: 2\t[{'1': 1, '3': 1, '4': 1}, [1, 2], 1, 'V']\n",
      "Result: 3\t[{'2': 1, '4': 1}, [1, 2, 3], 2, 'V']\n",
      "Result: 4\t[{'2': 1, '5': 1}, [1, 2, 4], 2, 'V']\n",
      "Result: 5\t[{'1': 1, '2': 1, '4': 1}, [1, 2, 4, 5], 3, 'Q']\n",
      "Result: 6\t[{}, [1, 6], 1, 'V']\n",
      "\n",
      "------------------------\n",
      "\n",
      "iteration4:\n",
      "Result: 1\t[{'2': 1, '6': 1}, [1], 0, 'V']\n",
      "Result: 2\t[{'1': 1, '3': 1, '4': 1}, [1, 2], 1, 'V']\n",
      "Result: 3\t[{'2': 1, '4': 1}, [1, 2, 3], 2, 'V']\n",
      "Result: 4\t[{'2': 1, '5': 1}, [1, 2, 4], 2, 'V']\n",
      "Result: 5\t[{'1': 1, '2': 1, '4': 1}, [1, 2, 4, 5], 3, 'V']\n",
      "Result: 6\t[{}, [1, 6], 1, 'V']\n",
      "\n",
      "------------------------\n",
      "\n"
     ]
    }
   ],
   "source": [
    "!python Driver_Hw70.py --inputFile directed_toy.txt --srcNode 1"
   ]
  },
  {
   "cell_type": "markdown",
   "metadata": {},
   "source": [
    "**Answer:**  \n",
    "From the output, you can see that the paths from 1 to 5 is: 1, 2, 4, 5 "
   ]
  },
  {
   "cell_type": "markdown",
   "metadata": {
    "collapsed": true
   },
   "source": [
    "## HW 7.1: Exploratory data analysis (NLTK synonyms)\n",
    "```\n",
    "Using MRJob, explore the synonyms network data.\n",
    "Consider plotting the degree distribution (does it follow a power law?),\n",
    "and determine some of the key features, like:\n",
    "\n",
    "number of nodes, \n",
    "number links,\n",
    "or the average degree (i.e., the average number of links per node),\n",
    "etc...\n",
    "\n",
    "As you develop your code, please be sure to run it locally first (though on the whole dataset). \n",
    "Once you have gotten you code to run locally, deploy it on AWS as a systems test\n",
    "in preparation for our next dataset (which will require AWS).\n",
    "```"
   ]
  },
  {
   "cell_type": "code",
   "execution_count": 4,
   "metadata": {
    "collapsed": false
   },
   "outputs": [
    {
     "name": "stdout",
     "output_type": "stream",
     "text": [
      "Overwriting MrExplore_hw71.py\n"
     ]
    }
   ],
   "source": [
    "%%writefile MrExplore_hw71.py\n",
    "from __future__ import division\n",
    "from numpy import argmin, array, random\n",
    "import re\n",
    "import numpy as np\n",
    "from mrjob.job import MRJob, MRStep\n",
    "from itertools import chain\n",
    "import mrjob\n",
    "import sys\n",
    "import json\n",
    "\n",
    "class MrExplore_hw71(MRJob):\n",
    "    def steps(self):\n",
    "        return [\n",
    "            MRStep(\n",
    "                   mapper=self.mapper,\n",
    "                   combiner = self.reducer,\n",
    "                   reducer=self.reducer\n",
    "            )\n",
    "               ]\n",
    "\n",
    "    def mapper(self, _, data):\n",
    "        # data format:\n",
    "        # 1       {'2': 1, '3': 1, '4': 1}\n",
    "\n",
    "        yield \"n\", 1 # for total number of nodes\n",
    "        \n",
    "        # JSON uses double quote for string\n",
    "        fields = data.strip().split('\\t')\n",
    "        adjList = json.loads(fields[1].replace(\"'\", '\"'))\n",
    "        degree = len(adjList)\n",
    "        yield \"l\", degree # for total number of links\n",
    "        \n",
    "        yield \"d\" + str(degree), 1  # for distribution of degree\n",
    "\n",
    "    def reducer(self, key, values):\n",
    "        total = sum([v for v in values])\n",
    "        yield key, total            \n",
    "              \n",
    "if __name__ == '__main__':\n",
    "    MrExplore_hw71.run()"
   ]
  },
  {
   "cell_type": "markdown",
   "metadata": {},
   "source": [
    "#### Run it locally"
   ]
  },
  {
   "cell_type": "code",
   "execution_count": 74,
   "metadata": {
    "collapsed": false
   },
   "outputs": [],
   "source": [
    "!python MrExplore_hw71.py synNet.txt \\\n",
    "-r inline \\\n",
    "--strict-protocol \\\n",
    "-q \\\n",
    "> hw71_result.txt"
   ]
  },
  {
   "cell_type": "code",
   "execution_count": 84,
   "metadata": {
    "collapsed": false
   },
   "outputs": [
    {
     "name": "stdout",
     "output_type": "stream",
     "text": [
      "Number of nodes = 8271\n",
      "Number of links = 61134\n"
     ]
    },
    {
     "data": {
      "image/png": "[encoded data removed]",
      "text/plain": [
       "<matplotlib.figure.Figure at 0x10ecfdfd0>"
      ]
     },
     "metadata": {},
     "output_type": "display_data"
    }
   ],
   "source": [
    "import matplotlib.pyplot as plt\n",
    "import matplotlib.ticker as ticker\n",
    "\n",
    "degreeDist = {}\n",
    "\n",
    "with open(\"hw71_result.txt\", \"r\") as f:\n",
    "    for line in f:\n",
    "        fields = line.strip().split('\\t')\n",
    "        key = fields[0].replace('\"', '')\n",
    "        value = fields[1]\n",
    "        if key == \"l\":\n",
    "            totalLinks = int(value)\n",
    "        elif key == \"n\":\n",
    "            totalNodes = int(value)\n",
    "        else:\n",
    "            # format: \"d3\"\n",
    "            degree = int(key[1:])\n",
    "            degreeDist[degree] = int(value)\n",
    "\n",
    "print \"Number of nodes =\", totalNodes\n",
    "print \"Number of links =\", totalLinks\n",
    "\n",
    "degrees = [int(x) for x in degreeDist.keys()] \n",
    "counts = degreeDist.values()\n",
    "\n",
    "fig, ax = plt.subplots()\n",
    "\n",
    "ax.hist(degrees, weights = counts, bins = 20, log=True, align='mid')\n",
    "plt.xlabel('degree (log scale)')\n",
    "plt.ylabel('count (log scale)')\n",
    "plt.title('Distribution of degree')\n",
    "plt.show()"
   ]
  },
  {
   "cell_type": "markdown",
   "metadata": {},
   "source": [
    "#### Try running it on EMR"
   ]
  },
  {
   "cell_type": "code",
   "execution_count": 81,
   "metadata": {
    "collapsed": false
   },
   "outputs": [
    {
     "name": "stdout",
     "output_type": "stream",
     "text": [
      "A client error (NoSuchBucket) occurred when calling the ListObjects operation: The specified bucket does not exist\n",
      "Completed 1 part(s) with ... file(s) remaining\n",
      "remove_bucket failed: s3://patng323-w261-hw71/ A client error (NoSuchBucket) occurred when calling the DeleteBucket operation: The specified bucket does not exist\n",
      "\n",
      "make_bucket: s3://patng323-w261-hw71/\n",
      "upload: ./synNet.txt to s3://patng323-w261-hw71/input/synNet.txt\n"
     ]
    }
   ],
   "source": [
    "!aws s3 rb --force s3://patng323-w261-hw71\n",
    "!aws s3 mb s3://patng323-w261-hw71\n",
    "!aws s3 cp synNet.txt s3://patng323-w261-hw71/input/synNet.txt"
   ]
  },
  {
   "cell_type": "code",
   "execution_count": 82,
   "metadata": {
    "collapsed": false
   },
   "outputs": [
    {
     "name": "stdout",
     "output_type": "stream",
     "text": [
      "Got unexpected keyword arguments: ssh_tunnel\n",
      "no configs found; falling back on auto-configuration\n",
      "no configs found; falling back on auto-configuration\n",
      "creating new scratch bucket mrjob-7b44dd6b28252569\n",
      "using s3://mrjob-7b44dd6b28252569/tmp/ as our scratch dir on S3\n",
      "creating tmp directory /var/folders/dm/nsw7wjf91f1c74hgl17ldw040000gn/T/MrExplore_hw71.patrickng.20160307.143323.522917\n",
      "writing master bootstrap script to /var/folders/dm/nsw7wjf91f1c74hgl17ldw040000gn/T/MrExplore_hw71.patrickng.20160307.143323.522917/b.py\n",
      "creating S3 bucket 'mrjob-7b44dd6b28252569' to use as scratch space\n",
      "Copying non-input files into s3://mrjob-7b44dd6b28252569/tmp/MrExplore_hw71.patrickng.20160307.143323.522917/files/\n",
      "Waiting 5.0s for S3 eventual consistency\n",
      "Creating Elastic MapReduce job flow\n",
      "Can't access IAM API, trying default instance profile: EMR_EC2_DefaultRole\n",
      "Can't access IAM API, trying default service role: EMR_DefaultRole\n",
      "Job flow created with ID: j-R48XJEHVP59P\n",
      "Setting EMR tags: job=hw7_1\n",
      "Created new job flow j-R48XJEHVP59P\n",
      "Job launched 32.1s ago, status STARTING: Provisioning Amazon EC2 capacity\n",
      "Job launched 64.5s ago, status STARTING: Provisioning Amazon EC2 capacity\n",
      "Job launched 96.4s ago, status STARTING: Provisioning Amazon EC2 capacity\n",
      "Job launched 128.8s ago, status STARTING: Provisioning Amazon EC2 capacity\n",
      "Job launched 160.7s ago, status STARTING: Provisioning Amazon EC2 capacity\n",
      "Job launched 192.9s ago, status STARTING: Provisioning Amazon EC2 capacity\n",
      "Job launched 224.9s ago, status STARTING: Configuring cluster software\n",
      "Job launched 257.5s ago, status BOOTSTRAPPING: Running bootstrap actions\n",
      "Job launched 289.8s ago, status BOOTSTRAPPING: Running bootstrap actions\n",
      "Job launched 322.3s ago, status RUNNING: Running step (MrExplore_hw71.patrickng.20160307.143323.522917: Step 1 of 1)\n",
      "Job launched 354.3s ago, status RUNNING: Running step (MrExplore_hw71.patrickng.20160307.143323.522917: Step 1 of 1)\n",
      "Job completed.\n",
      "Running time was 82.0s (not counting time spent waiting for the EC2 instances)\n",
      "ec2_key_pair_file not specified, going to S3\n",
      "Fetching counters from S3...\n",
      "Waiting 5.0s for S3 eventual consistency\n",
      "Counters from step 1:\n",
      "  File Input Format Counters :\n",
      "    Bytes Read: 719675\n",
      "  File Output Format Counters :\n",
      "    Bytes Written: 738\n",
      "  FileSystemCounters:\n",
      "    FILE_BYTES_READ: 1430\n",
      "    FILE_BYTES_WRITTEN: 191766\n",
      "    HDFS_BYTES_READ: 558\n",
      "    S3_BYTES_READ: 719675\n",
      "    S3_BYTES_WRITTEN: 738\n",
      "  Job Counters :\n",
      "    Launched map tasks: 6\n",
      "    Launched reduce tasks: 1\n",
      "    Rack-local map tasks: 6\n",
      "    SLOTS_MILLIS_MAPS: 51670\n",
      "    SLOTS_MILLIS_REDUCES: 17073\n",
      "    Total time spent by all maps waiting after reserving slots (ms): 0\n",
      "    Total time spent by all reduces waiting after reserving slots (ms): 0\n",
      "  Map-Reduce Framework:\n",
      "    CPU time spent (ms): 6850\n",
      "    Combine input records: 24813\n",
      "    Combine output records: 311\n",
      "    Map input bytes: 705298\n",
      "    Map input records: 8271\n",
      "    Map output bytes: 160917\n",
      "    Map output materialized bytes: 2193\n",
      "    Map output records: 24813\n",
      "    Physical memory (bytes) snapshot: 2668101632\n",
      "    Reduce input groups: 85\n",
      "    Reduce input records: 311\n",
      "    Reduce output records: 85\n",
      "    Reduce shuffle bytes: 2193\n",
      "    SPLIT_RAW_BYTES: 558\n",
      "    Spilled Records: 622\n",
      "    Total committed heap usage (bytes): 2714238976\n",
      "    Virtual memory (bytes) snapshot: 9364283392\n",
      "removing tmp directory /var/folders/dm/nsw7wjf91f1c74hgl17ldw040000gn/T/MrExplore_hw71.patrickng.20160307.143323.522917\n",
      "Removing all files in s3://mrjob-7b44dd6b28252569/tmp/MrExplore_hw71.patrickng.20160307.143323.522917/\n",
      "Removing all files in s3://mrjob-7b44dd6b28252569/tmp/logs/j-R48XJEHVP59P/\n",
      "Terminating job flow: j-R48XJEHVP59P\n"
     ]
    }
   ],
   "source": [
    "!python MrExplore_hw71.py \\\n",
    "s3://patng323-w261-hw71/input/ \\\n",
    "-r emr \\\n",
    "--ec2-instance-type m1.large \\\n",
    "--num-ec2-instances 2 \\\n",
    "--emr-tag job=hw7_1 \\\n",
    "--aws-region us-east-1 \\\n",
    "--strict-protocols \\\n",
    "--no-output \\\n",
    "--output-dir=s3://patng323-w261-hw71/output"
   ]
  },
  {
   "cell_type": "code",
   "execution_count": 83,
   "metadata": {
    "collapsed": false
   },
   "outputs": [
    {
     "name": "stdout",
     "output_type": "stream",
     "text": [
      "download: s3://patng323-w261-hw71/output/part-00000 to ./hw71_result.txt\r\n"
     ]
    }
   ],
   "source": [
    "!rm -f hw71_result.txt\n",
    "!aws s3 cp s3://patng323-w261-hw71/output/part-00000 hw71_result.txt"
   ]
  },
  {
   "cell_type": "markdown",
   "metadata": {},
   "source": [
    "## HW 7.2: Shortest path graph distances (NLTK synonyms)\n",
    "```\n",
    "Write (reuse your code from 7.0) an MRJob class to find shortest path graph distances, \n",
    "and apply it to the NLTK synonyms network dataset. \n",
    "\n",
    "Proof your code's function by running the job:\n",
    "\n",
    "- shortest path starting at \"walk\" (index=7827) and ending at \"make\" (index=536),\n",
    "\n",
    "and showing you code's output. Once again, your output should include the path and the distance.\n",
    "\n",
    "As you develop your code, please be sure to run it locally first (though on the whole dataset). \n",
    "Once you have gotten you code to run locally, deploy it on AWS as a systems test\n",
    "in preparation for our next dataset (which will require AWS).\n",
    "```"
   ]
  },
  {
   "cell_type": "code",
   "execution_count": 160,
   "metadata": {
    "collapsed": false
   },
   "outputs": [
    {
     "name": "stdout",
     "output_type": "stream",
     "text": [
      "Overwriting Driver_Hw72.py\n"
     ]
    }
   ],
   "source": [
    "%%writefile Driver_Hw72.py\n",
    "from numpy import random\n",
    "from MrSssp_hw70 import MrSssp_hw70\n",
    "from InitSssp import InitSssp\n",
    "import json\n",
    "import sys\n",
    "\n",
    "import argparse\n",
    "parser = argparse.ArgumentParser()\n",
    "parser.add_argument(\"--srcNode\", type=str)\n",
    "parser.add_argument(\"--inputFile\", type=str)\n",
    "parser.add_argument(\"--destNode\", type=str, default=None)\n",
    "args = parser.parse_args()\n",
    "\n",
    "# Initialized sssp.txt\n",
    "InitSssp.run(args.inputFile, args.srcNode)\n",
    "\n",
    "mr_job = MrSssp_hw70(args=['sssp.txt',\n",
    "                        '--no-strict-protocols',\n",
    "                        '-r', 'inline'])\n",
    "\n",
    "i = 1\n",
    "hasQueuedNode = True\n",
    "destNodeDone = False\n",
    "\n",
    "# Loop as long as we still have at least one queued node\n",
    "while(hasQueuedNode and not destNodeDone):    \n",
    "    hasQueuedNode = False # Init it back to False\n",
    "    with mr_job.make_runner() as runner: \n",
    "        runner.run()\n",
    "\n",
    "        # Generate the new sssp.txt based on job's output\n",
    "        with open('sssp.txt', 'w') as f:\n",
    "            for line in runner.stream_output():\n",
    "                key, value =  mr_job.parse_output_line(line)\n",
    "                \n",
    "                # output format:\n",
    "                # 1     [{'2': 1, '6': 1}, [1], 0, 'V']\n",
    "                \n",
    "                f.write(\"%s\\t%s\\n\" % (key,json.dumps(value)))\n",
    "                status = value[-1]\n",
    "                \n",
    "                # If we've specified a destination node, see if we've got\n",
    "                # the cost to it already.\n",
    "                if str(key) == args.destNode:\n",
    "                    destNodeDone = status == 'V'\n",
    "                    destNodePath = value[1]\n",
    "                    distance = value[2]\n",
    "                \n",
    "                # Check if we've seen at least one Queued node\n",
    "                if not hasQueuedNode:\n",
    "                    hasQueuedNode = status == 'Q'\n",
    "\n",
    "    i += 1\n",
    "\n",
    "print \"Total no. of iterations:\", i-1\n",
    "print\n",
    "if args.destNode is not None:\n",
    "    print \"From %s to %s\" % (args.srcNode, args.destNode)\n",
    "    if destNodeDone:\n",
    "        print \"Path =\", str(destNodePath)\n",
    "        print \"Distance =\", distance\n",
    "    else:\n",
    "        print \"Path not found\"\n",
    "        "
   ]
  },
  {
   "cell_type": "markdown",
   "metadata": {},
   "source": [
    "#### Run it locally"
   ]
  },
  {
   "cell_type": "code",
   "execution_count": 161,
   "metadata": {
    "collapsed": false
   },
   "outputs": [
    {
     "name": "stdout",
     "output_type": "stream",
     "text": [
      "Total no. of iterations: 4\r\n",
      "\r\n",
      "From 7827 to 536\r\n",
      "Path = [7827, 1426, 1668, 536]\r\n",
      "Distance = 3\r\n"
     ]
    }
   ],
   "source": [
    "!python Driver_Hw72.py --inputFile synNet.txt --srcNode 7827 --destNode 536"
   ]
  },
  {
   "cell_type": "markdown",
   "metadata": {},
   "source": [
    "#### Run it on EMR"
   ]
  },
  {
   "cell_type": "code",
   "execution_count": 159,
   "metadata": {
    "collapsed": false
   },
   "outputs": [
    {
     "name": "stdout",
     "output_type": "stream",
     "text": [
      "A client error (NoSuchBucket) occurred when calling the ListObjects operation: The specified bucket does not exist\n",
      "Completed 1 part(s) with ... file(s) remaining\n",
      "remove_bucket failed: s3://patng323-w261-hw72/ A client error (NoSuchBucket) occurred when calling the DeleteBucket operation: The specified bucket does not exist\n",
      "\n",
      "make_bucket: s3://patng323-w261-hw72/\n",
      "upload: ./synNet.txt to s3://patng323-w261-hw72/input/synNet.txt\n"
     ]
    }
   ],
   "source": [
    "!aws s3 rb --force s3://patng323-w261-hw72\n",
    "!aws s3 mb s3://patng323-w261-hw72\n",
    "!aws s3 cp synNet.txt s3://patng323-w261-hw72/input/synNet.txt"
   ]
  },
  {
   "cell_type": "code",
   "execution_count": null,
   "metadata": {
    "collapsed": true
   },
   "outputs": [],
   "source": []
  }
 ],
 "metadata": {
  "kernelspec": {
   "display_name": "Python 2",
   "language": "python",
   "name": "python2"
  },
  "language_info": {
   "codemirror_mode": {
    "name": "ipython",
    "version": 2
   },
   "file_extension": ".py",
   "mimetype": "text/x-python",
   "name": "python",
   "nbconvert_exporter": "python",
   "pygments_lexer": "ipython2",
   "version": "2.7.10"
  }
 },
 "nbformat": 4,
 "nbformat_minor": 0
}
